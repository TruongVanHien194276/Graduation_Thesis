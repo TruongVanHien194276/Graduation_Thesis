{
  "cells": [
    {
      "cell_type": "code",
      "execution_count": 1,
      "metadata": {
        "id": "a_e9nrV0vb_P"
      },
      "outputs": [],
      "source": [
        "import numpy as np\n",
        "import pandas as pd\n",
        "import matplotlib.pyplot as plt\n",
        "%matplotlib inline\n",
        "\n",
        "from sklearn.model_selection import RandomizedSearchCV, StratifiedKFold, GridSearchCV\n",
        "\n",
        "from lightgbm import LGBMClassifier\n",
        "import random\n",
        "from scipy.stats import uniform, randint\n",
        "\n",
        "from sklearn import metrics\n",
        "import torch\n",
        "\n",
        "import warnings\n",
        "warnings.filterwarnings('ignore')\n"
      ]
    },
    {
      "cell_type": "code",
      "execution_count": 2,
      "metadata": {
        "colab": {
          "base_uri": "https://localhost:8080/"
        },
        "id": "d6UGR8nHabv8",
        "outputId": "0ccc57bc-fab5-489e-f7d8-783b4417bd29"
      },
      "outputs": [
        {
          "name": "stdout",
          "output_type": "stream",
          "text": [
            "cuda\n"
          ]
        }
      ],
      "source": [
        "device = ('cuda' if torch.cuda.is_available() else 'cpu')\n",
        "print(device)"
      ]
    },
    {
      "cell_type": "code",
      "execution_count": 3,
      "metadata": {
        "id": "fukd1DfFwUWi"
      },
      "outputs": [],
      "source": [
        "df_train = pd.read_csv('./final_trainset.csv')\n",
        "df_test = pd.read_csv('./final_testset.csv')"
      ]
    },
    {
      "cell_type": "code",
      "execution_count": 4,
      "metadata": {
        "id": "-cBElOECwsCA"
      },
      "outputs": [],
      "source": [
        "# split dataset\n",
        "X = {}\n",
        "y = {}\n",
        "\n",
        "X['train'] = df_train.iloc[:, :-1]\n",
        "y['train'] = df_train.benh21\n",
        "\n",
        "X['test'] = df_test.iloc[:, :-1]\n",
        "y['test'] = df_test.benh21"
      ]
    },
    {
      "cell_type": "code",
      "execution_count": 5,
      "metadata": {
        "id": "mnB0DsyGwtod"
      },
      "outputs": [],
      "source": [
        "# parameter\n",
        "p_folds = 20\n",
        "p_iter = 1000\n",
        "p_estimators = 300\n",
        "p_learning_rate = 0.00001\n",
        "\n",
        "# LGBM\n",
        "params = {\n",
        "    'num_leaves': randint(5, 50),\n",
        "    'max_depth': randint(5, 10)\n",
        "}"
      ]
    },
    {
      "cell_type": "code",
      "execution_count": 6,
      "metadata": {
        "id": "jeERq34gw1Vh"
      },
      "outputs": [],
      "source": [
        "lgbm = LGBMClassifier(random_state=42, n_estimators=p_estimators, learning_rate=p_learning_rate)"
      ]
    },
    {
      "cell_type": "code",
      "execution_count": 7,
      "metadata": {
        "colab": {
          "base_uri": "https://localhost:8080/",
          "height": 217
        },
        "id": "tFa84hCvw2ZI",
        "outputId": "ed81c999-4f1f-4ca0-a2e7-6ed713a8d447"
      },
      "outputs": [
        {
          "name": "stdout",
          "output_type": "stream",
          "text": [
            "[LightGBM] [Info] Number of positive: 2183, number of negative: 2183\n",
            "[LightGBM] [Info] Auto-choosing col-wise multi-threading, the overhead of testing was 0.000885 seconds.\n",
            "You can set `force_col_wise=true` to remove the overhead.\n",
            "[LightGBM] [Info] Total Bins 3060\n",
            "[LightGBM] [Info] Number of data points in the train set: 4366, number of used features: 12\n",
            "[LightGBM] [Info] [binary:BoostFromScore]: pavg=0.500000 -> initscore=0.000000\n"
          ]
        },
        {
          "data": {
            "text/html": [
              "<style>#sk-container-id-1 {color: black;background-color: white;}#sk-container-id-1 pre{padding: 0;}#sk-container-id-1 div.sk-toggleable {background-color: white;}#sk-container-id-1 label.sk-toggleable__label {cursor: pointer;display: block;width: 100%;margin-bottom: 0;padding: 0.3em;box-sizing: border-box;text-align: center;}#sk-container-id-1 label.sk-toggleable__label-arrow:before {content: \"▸\";float: left;margin-right: 0.25em;color: #696969;}#sk-container-id-1 label.sk-toggleable__label-arrow:hover:before {color: black;}#sk-container-id-1 div.sk-estimator:hover label.sk-toggleable__label-arrow:before {color: black;}#sk-container-id-1 div.sk-toggleable__content {max-height: 0;max-width: 0;overflow: hidden;text-align: left;background-color: #f0f8ff;}#sk-container-id-1 div.sk-toggleable__content pre {margin: 0.2em;color: black;border-radius: 0.25em;background-color: #f0f8ff;}#sk-container-id-1 input.sk-toggleable__control:checked~div.sk-toggleable__content {max-height: 200px;max-width: 100%;overflow: auto;}#sk-container-id-1 input.sk-toggleable__control:checked~label.sk-toggleable__label-arrow:before {content: \"▾\";}#sk-container-id-1 div.sk-estimator input.sk-toggleable__control:checked~label.sk-toggleable__label {background-color: #d4ebff;}#sk-container-id-1 div.sk-label input.sk-toggleable__control:checked~label.sk-toggleable__label {background-color: #d4ebff;}#sk-container-id-1 input.sk-hidden--visually {border: 0;clip: rect(1px 1px 1px 1px);clip: rect(1px, 1px, 1px, 1px);height: 1px;margin: -1px;overflow: hidden;padding: 0;position: absolute;width: 1px;}#sk-container-id-1 div.sk-estimator {font-family: monospace;background-color: #f0f8ff;border: 1px dotted black;border-radius: 0.25em;box-sizing: border-box;margin-bottom: 0.5em;}#sk-container-id-1 div.sk-estimator:hover {background-color: #d4ebff;}#sk-container-id-1 div.sk-parallel-item::after {content: \"\";width: 100%;border-bottom: 1px solid gray;flex-grow: 1;}#sk-container-id-1 div.sk-label:hover label.sk-toggleable__label {background-color: #d4ebff;}#sk-container-id-1 div.sk-serial::before {content: \"\";position: absolute;border-left: 1px solid gray;box-sizing: border-box;top: 0;bottom: 0;left: 50%;z-index: 0;}#sk-container-id-1 div.sk-serial {display: flex;flex-direction: column;align-items: center;background-color: white;padding-right: 0.2em;padding-left: 0.2em;position: relative;}#sk-container-id-1 div.sk-item {position: relative;z-index: 1;}#sk-container-id-1 div.sk-parallel {display: flex;align-items: stretch;justify-content: center;background-color: white;position: relative;}#sk-container-id-1 div.sk-item::before, #sk-container-id-1 div.sk-parallel-item::before {content: \"\";position: absolute;border-left: 1px solid gray;box-sizing: border-box;top: 0;bottom: 0;left: 50%;z-index: -1;}#sk-container-id-1 div.sk-parallel-item {display: flex;flex-direction: column;z-index: 1;position: relative;background-color: white;}#sk-container-id-1 div.sk-parallel-item:first-child::after {align-self: flex-end;width: 50%;}#sk-container-id-1 div.sk-parallel-item:last-child::after {align-self: flex-start;width: 50%;}#sk-container-id-1 div.sk-parallel-item:only-child::after {width: 0;}#sk-container-id-1 div.sk-dashed-wrapped {border: 1px dashed gray;margin: 0 0.4em 0.5em 0.4em;box-sizing: border-box;padding-bottom: 0.4em;background-color: white;}#sk-container-id-1 div.sk-label label {font-family: monospace;font-weight: bold;display: inline-block;line-height: 1.2em;}#sk-container-id-1 div.sk-label-container {text-align: center;}#sk-container-id-1 div.sk-container {/* jupyter's `normalize.less` sets `[hidden] { display: none; }` but bootstrap.min.css set `[hidden] { display: none !important; }` so we also need the `!important` here to be able to override the default hidden behavior on the sphinx rendered scikit-learn.org. See: https://github.com/scikit-learn/scikit-learn/issues/21755 */display: inline-block !important;position: relative;}#sk-container-id-1 div.sk-text-repr-fallback {display: none;}</style><div id=\"sk-container-id-1\" class=\"sk-top-container\"><div class=\"sk-text-repr-fallback\"><pre>RandomizedSearchCV(cv=&lt;generator object _BaseKFold.split at 0x7dd49d1ebdf0&gt;,\n",
              "                   estimator=LGBMClassifier(learning_rate=1e-05,\n",
              "                                            n_estimators=300, random_state=42),\n",
              "                   n_iter=1000, n_jobs=-1,\n",
              "                   param_distributions={&#x27;max_depth&#x27;: &lt;scipy.stats._distn_infrastructure.rv_discrete_frozen object at 0x7dd49b96db40&gt;,\n",
              "                                        &#x27;num_leaves&#x27;: &lt;scipy.stats._distn_infrastructure.rv_discrete_frozen object at 0x7dd49b96d7e0&gt;},\n",
              "                   random_state=1001, scoring=&#x27;roc_auc&#x27;, verbose=-1)</pre><b>In a Jupyter environment, please rerun this cell to show the HTML representation or trust the notebook. <br />On GitHub, the HTML representation is unable to render, please try loading this page with nbviewer.org.</b></div><div class=\"sk-container\" hidden><div class=\"sk-item sk-dashed-wrapped\"><div class=\"sk-label-container\"><div class=\"sk-label sk-toggleable\"><input class=\"sk-toggleable__control sk-hidden--visually\" id=\"sk-estimator-id-1\" type=\"checkbox\" ><label for=\"sk-estimator-id-1\" class=\"sk-toggleable__label sk-toggleable__label-arrow\">RandomizedSearchCV</label><div class=\"sk-toggleable__content\"><pre>RandomizedSearchCV(cv=&lt;generator object _BaseKFold.split at 0x7dd49d1ebdf0&gt;,\n",
              "                   estimator=LGBMClassifier(learning_rate=1e-05,\n",
              "                                            n_estimators=300, random_state=42),\n",
              "                   n_iter=1000, n_jobs=-1,\n",
              "                   param_distributions={&#x27;max_depth&#x27;: &lt;scipy.stats._distn_infrastructure.rv_discrete_frozen object at 0x7dd49b96db40&gt;,\n",
              "                                        &#x27;num_leaves&#x27;: &lt;scipy.stats._distn_infrastructure.rv_discrete_frozen object at 0x7dd49b96d7e0&gt;},\n",
              "                   random_state=1001, scoring=&#x27;roc_auc&#x27;, verbose=-1)</pre></div></div></div><div class=\"sk-parallel\"><div class=\"sk-parallel-item\"><div class=\"sk-item\"><div class=\"sk-label-container\"><div class=\"sk-label sk-toggleable\"><input class=\"sk-toggleable__control sk-hidden--visually\" id=\"sk-estimator-id-2\" type=\"checkbox\" ><label for=\"sk-estimator-id-2\" class=\"sk-toggleable__label sk-toggleable__label-arrow\">estimator: LGBMClassifier</label><div class=\"sk-toggleable__content\"><pre>LGBMClassifier(learning_rate=1e-05, n_estimators=300, random_state=42)</pre></div></div></div><div class=\"sk-serial\"><div class=\"sk-item\"><div class=\"sk-estimator sk-toggleable\"><input class=\"sk-toggleable__control sk-hidden--visually\" id=\"sk-estimator-id-3\" type=\"checkbox\" ><label for=\"sk-estimator-id-3\" class=\"sk-toggleable__label sk-toggleable__label-arrow\">LGBMClassifier</label><div class=\"sk-toggleable__content\"><pre>LGBMClassifier(learning_rate=1e-05, n_estimators=300, random_state=42)</pre></div></div></div></div></div></div></div></div></div></div>"
            ],
            "text/plain": [
              "RandomizedSearchCV(cv=<generator object _BaseKFold.split at 0x7dd49d1ebdf0>,\n",
              "                   estimator=LGBMClassifier(learning_rate=1e-05,\n",
              "                                            n_estimators=300, random_state=42),\n",
              "                   n_iter=1000, n_jobs=-1,\n",
              "                   param_distributions={'max_depth': <scipy.stats._distn_infrastructure.rv_discrete_frozen object at 0x7dd49b96db40>,\n",
              "                                        'num_leaves': <scipy.stats._distn_infrastructure.rv_discrete_frozen object at 0x7dd49b96d7e0>},\n",
              "                   random_state=1001, scoring='roc_auc', verbose=-1)"
            ]
          },
          "execution_count": 7,
          "metadata": {},
          "output_type": "execute_result"
        }
      ],
      "source": [
        "folds = p_folds\n",
        "skf = StratifiedKFold(n_splits=folds, shuffle = True, random_state = 1001)\n",
        "model_lgbm = RandomizedSearchCV(lgbm, param_distributions=params, n_iter=p_iter, scoring='roc_auc', n_jobs=-1, cv=skf.split(X['train'], y['train']), verbose=-1, random_state=1001)\n",
        "model_lgbm.fit(X['train'], y['train'])"
      ]
    },
    {
      "cell_type": "code",
      "execution_count": 8,
      "metadata": {
        "colab": {
          "base_uri": "https://localhost:8080/"
        },
        "id": "TcCVJHO5w_7f",
        "outputId": "08839a39-2607-4d4c-db46-63951cac8c63"
      },
      "outputs": [
        {
          "name": "stdout",
          "output_type": "stream",
          "text": [
            "LGBMClassifier(learning_rate=1e-05, max_depth=9, n_estimators=300,\n",
            "               num_leaves=49, random_state=42)\n",
            "{'max_depth': 9, 'num_leaves': 49}\n"
          ]
        }
      ],
      "source": [
        "print(model_lgbm.best_estimator_)\n",
        "print(model_lgbm.best_params_)"
      ]
    },
    {
      "cell_type": "code",
      "execution_count": 9,
      "metadata": {
        "colab": {
          "base_uri": "https://localhost:8080/"
        },
        "id": "O2mgQnLlx_Vp",
        "outputId": "b351bcc3-5234-4d4d-da03-cf22ed668712"
      },
      "outputs": [
        {
          "data": {
            "text/plain": [
              "['LightGBM_model_state.joblib']"
            ]
          },
          "execution_count": 9,
          "metadata": {},
          "output_type": "execute_result"
        }
      ],
      "source": [
        "from joblib import dump, load\n",
        "dump(model_lgbm.best_estimator_, 'LightGBM_model_state.joblib')"
      ]
    },
    {
      "cell_type": "code",
      "execution_count": 10,
      "metadata": {
        "colab": {
          "base_uri": "https://localhost:8080/"
        },
        "id": "q8CPy8MAxEM2",
        "outputId": "f3d48914-5807-42e4-dbf5-2b1d81a4b9ca"
      },
      "outputs": [
        {
          "name": "stdout",
          "output_type": "stream",
          "text": [
            "[LightGBM] [Info] Number of positive: 2183, number of negative: 2183\n",
            "[LightGBM] [Info] Auto-choosing row-wise multi-threading, the overhead of testing was 0.000197 seconds.\n",
            "You can set `force_row_wise=true` to remove the overhead.\n",
            "And if memory is not enough, you can set `force_col_wise=true`.\n",
            "[LightGBM] [Info] Total Bins 3060\n",
            "[LightGBM] [Info] Number of data points in the train set: 4366, number of used features: 12\n",
            "[LightGBM] [Info] [binary:BoostFromScore]: pavg=0.500000 -> initscore=0.000000\n",
            "Accuracy of LGBM : 0.6619718309859155\n"
          ]
        }
      ],
      "source": [
        "best_lgbm = LGBMClassifier(**model_lgbm.best_estimator_.get_params())\n",
        "best_lgbm.fit(X['train'], y['train'])\n",
        "acc = best_lgbm.score(X['test'], y['test'])\n",
        "print('Accuracy of LGBM : {}'.format(acc))"
      ]
    },
    {
      "cell_type": "code",
      "execution_count": 11,
      "metadata": {
        "id": "oZUW0GklxSlY"
      },
      "outputs": [],
      "source": [
        "lgbm_pred_test = model_lgbm.predict(X['test'])\n",
        "lgbm_proba_test = model_lgbm.predict_proba(X['test'])[:,1]"
      ]
    },
    {
      "cell_type": "code",
      "execution_count": 12,
      "metadata": {
        "colab": {
          "base_uri": "https://localhost:8080/",
          "height": 1000
        },
        "id": "yMyOGLUAxL9v",
        "outputId": "47f417b6-a7ac-4c3b-bad0-a98c622c6bef"
      },
      "outputs": [
        {
          "name": "stdout",
          "output_type": "stream",
          "text": [
            "Scoring Metrics for RandomizedSearchCV(cv=<generator object _BaseKFold.split at 0x7dd49d1ebdf0>,\n",
            "                   estimator=LGBMClassifier(learning_rate=1e-05,\n",
            "                                            n_estimators=300, random_state=42),\n",
            "                   n_iter=1000, n_jobs=-1,\n",
            "                   param_distributions={'max_depth': <scipy.stats._distn_infrastructure.rv_discrete_frozen object at 0x7dd49b96db40>,\n",
            "                                        'num_leaves': <scipy.stats._distn_infrastructure.rv_discrete_frozen object at 0x7dd49b96d7e0>},\n",
            "                   random_state=1001, scoring='roc_auc', verbose=-1) (Validation):\n",
            "Balanced Accuracy Score = 0.60599\n",
            "Accuracy Score = 0.66197\n",
            "Precision Score = 0.28133\n",
            "Recall Score = 0.51643\n",
            "F1 Score = 0.36424\n",
            "ROC AUC Score = 0.60599\n",
            "Confusion Matrix:\n",
            "[[642 281]\n",
            " [103 110]]\n",
            "Classification_report\n",
            "              precision    recall  f1-score   support\n",
            "\n",
            "           0       0.86      0.70      0.77       923\n",
            "           1       0.28      0.52      0.36       213\n",
            "\n",
            "    accuracy                           0.66      1136\n",
            "   macro avg       0.57      0.61      0.57      1136\n",
            "weighted avg       0.75      0.66      0.69      1136\n",
            "\n",
            "ROC Curve:\n"
          ]
        },
        {
          "data": {
            "image/png": "[encoded data removed]",
            "text/plain": [
              "<Figure size 640x480 with 2 Axes>"
            ]
          },
          "metadata": {},
          "output_type": "display_data"
        },
        {
          "data": {
            "image/png": "[encoded data removed]",
            "text/plain": [
              "<Figure size 500x500 with 1 Axes>"
            ]
          },
          "metadata": {},
          "output_type": "display_data"
        }
      ],
      "source": [
        "test_predict = pd.DataFrame(lgbm_pred_test)\n",
        "\n",
        "print('Scoring Metrics for {} (Validation):'.format(model_lgbm))\n",
        "print('Balanced Accuracy Score = {:.5f}'.format(metrics.balanced_accuracy_score(y['test'], test_predict)))\n",
        "print('Accuracy Score = {:.5f}'.format(metrics.accuracy_score(y['test'], test_predict)))\n",
        "print('Precision Score = {:.5f}'.format(metrics.precision_score(y['test'], test_predict)))\n",
        "print('Recall Score = {:.5f}'.format(metrics.recall_score(y['test'], test_predict, labels=['0','1'])))\n",
        "print('F1 Score = {:.5f}'.format(metrics.f1_score(y['test'], test_predict, labels=['0','1'])))\n",
        "print('ROC AUC Score = {:.5f}'.format(metrics.roc_auc_score(y['test'], test_predict, labels=['0','1'])))\n",
        "\n",
        "print('Confusion Matrix:')\n",
        "print(metrics.confusion_matrix(y['test'], test_predict))\n",
        "\n",
        "print(\"Classification_report\")\n",
        "print(metrics.classification_report(y['test'], test_predict, target_names=['0','1']))\n",
        "metrics.ConfusionMatrixDisplay(metrics.confusion_matrix(y['test'], test_predict)).plot()\n",
        "\n",
        "# ROC Curve\n",
        "fpr, tpr, _ = metrics.roc_curve(y['test'], lgbm_proba_test)\n",
        "\n",
        "roc_auc = metrics.roc_auc_score(y['test'], test_predict, labels=['0','1'])\n",
        "\n",
        "# Precision x Recall Curve\n",
        "precision, recall, thresholds = metrics.precision_recall_curve(y['test'], lgbm_proba_test)\n",
        "\n",
        "print('ROC Curve:')\n",
        "fig, ax = plt.subplots(1, 1, figsize=(5, 5))\n",
        "plt.plot(fpr, tpr, color='darkorange', label='ROC curve - Validation (area = %0.3f)' % roc_auc)\n",
        "plt.plot([0, 1], [0, 1], color='red', lw=3, linestyle='-.')\n",
        "\n",
        "plt.xlabel('False Positive Rate')\n",
        "plt.ylabel('True Positive Rate')\n",
        "plt.title('ROC Curve')\n",
        "plt.legend(loc=\"lower right\")\n",
        "\n",
        "plt.show()"
      ]
    }
  ],
  "metadata": {
    "accelerator": "GPU",
    "colab": {
      "gpuType": "T4",
      "provenance": []
    },
    "kernelspec": {
      "display_name": "Python 3",
      "name": "python3"
    },
    "language_info": {
      "name": "python"
    }
  },
  "nbformat": 4,
  "nbformat_minor": 0
}
