{
  "cells": [
    {
      "cell_type": "markdown",
      "metadata": {
        "id": "d7vM6O76zkwv"
      },
      "source": [
        "# Library"
      ]
    },
    {
      "cell_type": "code",
      "execution_count": 18,
      "metadata": {
        "id": "E4cn3o2wmZF8"
      },
      "outputs": [],
      "source": [
        "import pandas as pd\n",
        "import numpy as np\n",
        "import matplotlib.pyplot as plt\n",
        "import os\n",
        "import random\n",
        "from tqdm import tqdm\n",
        "import rtdl\n",
        "from typing import Any, Dict\n",
        "\n",
        "\n",
        "from sklearn.preprocessing import StandardScaler, LabelEncoder\n",
        "from sklearn.model_selection import train_test_split\n",
        "from sklearn import metrics\n",
        "from sklearn.metrics import confusion_matrix, roc_curve, precision_score, recall_score, f1_score, roc_auc_score, roc_curve\n",
        "\n",
        "import torch\n",
        "import torch.nn as nn\n",
        "import torch.nn.functional as F\n",
        "import torch.optim as optim\n",
        "from torch.utils.data import DataLoader, Dataset\n",
        "\n",
        "import optuna\n",
        "from optuna import Trial\n",
        "from optuna.samplers import TPESampler"
      ]
    },
    {
      "cell_type": "code",
      "execution_count": 19,
      "metadata": {
        "colab": {
          "base_uri": "https://localhost:8080/"
        },
        "id": "qOHu1rrTmZF_",
        "outputId": "24722dc3-9623-4648-db64-b914225f5ed0"
      },
      "outputs": [
        {
          "name": "stdout",
          "output_type": "stream",
          "text": [
            "cuda\n"
          ]
        }
      ],
      "source": [
        "device = ('cuda' if torch.cuda.is_available() else 'cpu')\n",
        "print(device)"
      ]
    },
    {
      "cell_type": "markdown",
      "metadata": {
        "id": "JyGd9lr5mZGB"
      },
      "source": [
        "## Dataset"
      ]
    },
    {
      "cell_type": "code",
      "execution_count": 20,
      "metadata": {
        "id": "_Cj2hjoumZGH"
      },
      "outputs": [],
      "source": [
        "def seed_everything(seed=42):\n",
        "    random.seed(seed)\n",
        "    os.environ['PYTHONHASHSEED'] = str(seed)\n",
        "    np.random.seed(seed)\n",
        "    torch.manual_seed(seed)\n",
        "\n",
        "seed_everything()"
      ]
    },
    {
      "cell_type": "code",
      "execution_count": 21,
      "metadata": {
        "id": "zHxfrLUvmZGI"
      },
      "outputs": [],
      "source": [
        "df_train = pd.read_csv('./final_trainset.csv')\n",
        "df_test = pd.read_csv('./final_testset.csv')"
      ]
    },
    {
      "cell_type": "code",
      "execution_count": 22,
      "metadata": {
        "id": "4WfgQEi_mZGI"
      },
      "outputs": [],
      "source": [
        "# split dataset\n",
        "X = {}\n",
        "y = {}\n",
        "\n",
        "X['train'] = df_train.iloc[:, :-1]\n",
        "y['train'] = df_train.benh21\n",
        "\n",
        "X['test'] = df_test.iloc[:, :-1]\n",
        "y['test'] = df_test.benh21\n",
        "\n",
        "X['train'], X['val'], y['train'], y['val'] = train_test_split(X['train'], y['train'], test_size = 0.10, random_state=20)"
      ]
    },
    {
      "cell_type": "code",
      "execution_count": 23,
      "metadata": {
        "colab": {
          "base_uri": "https://localhost:8080/"
        },
        "id": "H_vQLdRAmZGJ",
        "outputId": "2db509fd-85f5-4532-d317-2a4cd7efb00e"
      },
      "outputs": [
        {
          "name": "stderr",
          "output_type": "stream",
          "text": [
            "<ipython-input-23-2ef0f8e37db9>:6: SettingWithCopyWarning: \n",
            "A value is trying to be set on a copy of a slice from a DataFrame.\n",
            "Try using .loc[row_indexer,col_indexer] = value instead\n",
            "\n",
            "See the caveats in the documentation: https://pandas.pydata.org/pandas-docs/stable/user_guide/indexing.html#returning-a-view-versus-a-copy\n",
            "  X['test'][index] = X['test'][index].apply(lambda x: x.astype('float32'))\n"
          ]
        }
      ],
      "source": [
        "index = X['train'].select_dtypes(['float64']).columns\n",
        "\n",
        "# float64 -> float32\n",
        "X['train'][index] = X['train'][index].apply(lambda x: x.astype('float32'))\n",
        "X['val'][index] = X['val'][index].apply(lambda x: x.astype('float32'))\n",
        "X['test'][index] = X['test'][index].apply(lambda x: x.astype('float32'))\n",
        "\n",
        "# reshape label\n",
        "y['train'] = np.where(y['train']==1, 1, 0).reshape(-1, 1)\n",
        "y['val'] = np.where(y['val']==1, 1, 0).reshape(-1, 1)\n",
        "y['test'] = np.where(y['test']==1, 1, 0).reshape(-1, 1)"
      ]
    },
    {
      "cell_type": "code",
      "execution_count": 24,
      "metadata": {
        "id": "oiN3myFMmZGJ"
      },
      "outputs": [],
      "source": [
        "# chuyển dữ liệu và nhãn -> tensor\n",
        "def RTDL(dataset, label):\n",
        "    index = dataset['train'].select_dtypes(['float32']).columns\n",
        "    X = {'train': {},\n",
        "         'val': {},\n",
        "         'test': {}}\n",
        "    y = {'train': {},\n",
        "         'val': {},\n",
        "         'test': {}}\n",
        "    X['train']['num'] = torch.tensor(dataset['train'][index].values, device=device)\n",
        "    X['val']['num'] = torch.tensor(dataset['val'][index].values, device=device)\n",
        "    X['test']['num'] = torch.tensor(dataset['test'][index].values, device=device)\n",
        "\n",
        "    # dtype = float\n",
        "    y['train'] = torch.tensor(label['train'], dtype=torch.float, device=device)\n",
        "    y['val'] = torch.tensor(label['val'], dtype=torch.float, device=device)\n",
        "    y['test'] = torch.tensor(label['test'], dtype=torch.float, device=device)\n",
        "    return X, y\n",
        "\n",
        "X, y = RTDL(X, y)"
      ]
    },
    {
      "cell_type": "code",
      "execution_count": 25,
      "metadata": {
        "id": "YSciaufmmZGJ"
      },
      "outputs": [],
      "source": [
        "class create_Tensor(Dataset):\n",
        "    def __init__(self, num, label):\n",
        "        self.num = num # thuộc tính (tensor)\n",
        "        self.label = label # nhãn (tensor)\n",
        "        self.len = self.label.shape[0] # số lượng mẫu \n",
        "\n",
        "    def __getitem__(self, index):\n",
        "        return self.num[index], self.label[index]\n",
        "\n",
        "    def __len__(self):\n",
        "        return self.len"
      ]
    },
    {
      "cell_type": "code",
      "execution_count": 26,
      "metadata": {
        "id": "U7X0s3XtmZGK"
      },
      "outputs": [],
      "source": [
        "train_set = create_Tensor(X['train']['num'], y['train'])\n",
        "val_set = create_Tensor(X['val']['num'], y['val'])\n",
        "test_set = create_Tensor(X['test']['num'], y['test'])\n",
        "\n",
        "# tạo các đối tượng DataLoader\n",
        "train_load = DataLoader(train_set, batch_size=32, shuffle=True)\n",
        "val_load = DataLoader(val_set, batch_size=32, shuffle=True)\n",
        "test_load = DataLoader(test_set, batch_size=32, shuffle=True)\n",
        "\n",
        "# DataLoader\n",
        "# dễ dàng truy cập dữ liệu trong quá trình huấn luyện \n",
        "# # giúp tăng tốc huấn luyện bằng cách tự động tải và trả dữ liệu theo batch\n"
      ]
    },
    {
      "cell_type": "markdown",
      "metadata": {
        "id": "VXIAs4W2mZGK"
      },
      "source": [
        "## Model FT Transformer"
      ]
    },
    {
      "cell_type": "code",
      "execution_count": 27,
      "metadata": {
        "colab": {
          "base_uri": "https://localhost:8080/"
        },
        "id": "DT9BCn2xmZGK",
        "outputId": "fa4ffb3c-cdb2-46ee-faf4-8faa709be539"
      },
      "outputs": [
        {
          "data": {
            "text/plain": [
              "FTTransformer(\n",
              "  (feature_tokenizer): FeatureTokenizer(\n",
              "    (num_tokenizer): NumericalFeatureTokenizer()\n",
              "  )\n",
              "  (cls_token): CLSToken()\n",
              "  (transformer): Transformer(\n",
              "    (blocks): ModuleList(\n",
              "      (0): ModuleDict(\n",
              "        (attention): MultiheadAttention(\n",
              "          (W_q): Linear(in_features=64, out_features=64, bias=True)\n",
              "          (W_k): Linear(in_features=64, out_features=64, bias=True)\n",
              "          (W_v): Linear(in_features=64, out_features=64, bias=True)\n",
              "          (W_out): Linear(in_features=64, out_features=64, bias=True)\n",
              "          (dropout): Dropout(p=0.2, inplace=False)\n",
              "        )\n",
              "        (ffn): FFN(\n",
              "          (linear_first): Linear(in_features=64, out_features=256, bias=True)\n",
              "          (activation): ReGLU()\n",
              "          (dropout): Dropout(p=0.1, inplace=False)\n",
              "          (linear_second): Linear(in_features=128, out_features=64, bias=True)\n",
              "        )\n",
              "        (attention_residual_dropout): Dropout(p=0.1, inplace=False)\n",
              "        (ffn_residual_dropout): Dropout(p=0.1, inplace=False)\n",
              "        (output): Identity()\n",
              "        (ffn_normalization): LayerNorm((64,), eps=1e-05, elementwise_affine=True)\n",
              "      )\n",
              "      (1): ModuleDict(\n",
              "        (attention): MultiheadAttention(\n",
              "          (W_q): Linear(in_features=64, out_features=64, bias=True)\n",
              "          (W_k): Linear(in_features=64, out_features=64, bias=True)\n",
              "          (W_v): Linear(in_features=64, out_features=64, bias=True)\n",
              "          (W_out): Linear(in_features=64, out_features=64, bias=True)\n",
              "          (dropout): Dropout(p=0.2, inplace=False)\n",
              "        )\n",
              "        (ffn): FFN(\n",
              "          (linear_first): Linear(in_features=64, out_features=256, bias=True)\n",
              "          (activation): ReGLU()\n",
              "          (dropout): Dropout(p=0.1, inplace=False)\n",
              "          (linear_second): Linear(in_features=128, out_features=64, bias=True)\n",
              "        )\n",
              "        (attention_residual_dropout): Dropout(p=0.1, inplace=False)\n",
              "        (ffn_residual_dropout): Dropout(p=0.1, inplace=False)\n",
              "        (output): Identity()\n",
              "        (attention_normalization): LayerNorm((64,), eps=1e-05, elementwise_affine=True)\n",
              "        (ffn_normalization): LayerNorm((64,), eps=1e-05, elementwise_affine=True)\n",
              "      )\n",
              "      (2): ModuleDict(\n",
              "        (attention): MultiheadAttention(\n",
              "          (W_q): Linear(in_features=64, out_features=64, bias=True)\n",
              "          (W_k): Linear(in_features=64, out_features=64, bias=True)\n",
              "          (W_v): Linear(in_features=64, out_features=64, bias=True)\n",
              "          (W_out): Linear(in_features=64, out_features=64, bias=True)\n",
              "          (dropout): Dropout(p=0.2, inplace=False)\n",
              "        )\n",
              "        (ffn): FFN(\n",
              "          (linear_first): Linear(in_features=64, out_features=256, bias=True)\n",
              "          (activation): ReGLU()\n",
              "          (dropout): Dropout(p=0.1, inplace=False)\n",
              "          (linear_second): Linear(in_features=128, out_features=64, bias=True)\n",
              "        )\n",
              "        (attention_residual_dropout): Dropout(p=0.1, inplace=False)\n",
              "        (ffn_residual_dropout): Dropout(p=0.1, inplace=False)\n",
              "        (output): Identity()\n",
              "        (attention_normalization): LayerNorm((64,), eps=1e-05, elementwise_affine=True)\n",
              "        (ffn_normalization): LayerNorm((64,), eps=1e-05, elementwise_affine=True)\n",
              "      )\n",
              "    )\n",
              "    (head): Head(\n",
              "      (normalization): LayerNorm((64,), eps=1e-05, elementwise_affine=True)\n",
              "      (activation): ReLU()\n",
              "      (linear): Linear(in_features=64, out_features=1, bias=True)\n",
              "    )\n",
              "  )\n",
              ")"
            ]
          },
          "execution_count": 27,
          "metadata": {},
          "output_type": "execute_result"
        }
      ],
      "source": [
        "num_features = X['train']['num'].shape[1] \n",
        "model_ftt = rtdl.FTTransformer.make_baseline(n_num_features=num_features, # số lượng thuộc tính\n",
        "                                        cat_cardinalities=[], # số lượng phân loại của các thuộc tính phân loại\n",
        "                                        d_token=64, # số chiều của token (transformer)\n",
        "                                        n_blocks=3, # số lượng khối transformer\n",
        "                                        attention_dropout=0.2, # tỷ lệ dropout lớp Attention trong mỗi khối transformer -> tránh overfitting\n",
        "                                        ffn_d_hidden=128, # số lượng đầu ra của lớp feedforward trong mỗi khối transformer\n",
        "                                        ffn_dropout=0.1, # tỷ lệ dropout lớp feedforward trong mỗi khối transformer -> tránh overfitting\n",
        "                                        residual_dropout=0.1, # tỷ lệ dropout lớp residual trong mỗi khối transformer -> tránh overfitting\n",
        "                                        d_out=1 # kích thước đầu ra\n",
        "                                        )\n",
        "\n",
        "model_ftt.to(device)"
      ]
    },
    {
      "cell_type": "code",
      "execution_count": 28,
      "metadata": {
        "id": "YtE8W0TlmZGL"
      },
      "outputs": [],
      "source": [
        "his = {'train_acc': [],\n",
        "        'train_loss': [],\n",
        "        'val_acc': [],\n",
        "        'val_loss': []}"
      ]
    },
    {
      "cell_type": "code",
      "execution_count": 29,
      "metadata": {
        "id": "CZ7ZfzvAmZGL"
      },
      "outputs": [],
      "source": [
        "def training(model, dataLoader, criterion, optimizer, scheduler=None):\n",
        "    model.train() # thiết lập mô hình ở trạng thái train -> bật dropout\n",
        "    loss_now = 0 # tổng loss\n",
        "    correlation = 0 # số lượng dự đoán đúng\n",
        "\n",
        "    for x_num, label in tqdm(dataLoader):\n",
        "        optimizer.zero_grad() # xóa gradient (đạo hàm) cũ\n",
        "        x_num = x_num.to(device) \n",
        "        label = label.to(device)\n",
        "        out = torch.sigmoid(model(x_num, None)) # tính toán đầu ra, hàm sigmoid -> đưa về dạng xác suất\n",
        "        loss = criterion(out, label) # tính toán loss dự đoán - nhãn thực tế\n",
        "        loss.backward() # tính gradient ngược\n",
        "        optimizer.step() # cập nhật trọng số dựa trên gradient tính được\n",
        "        predict = out >= torch.FloatTensor([0.5]).to(device) # chuyển giá trị dự đoán -> nhãn dựa trên ngưỡng 0.5\n",
        "        correlation += predict.eq(label).sum().item() # tính số lượng dự đoán đúng và cộng vào tổng\n",
        "        loss_now +=  x_num.size(0) * loss.item() # cộng loss của batch hiện tại vào tổng loss\n",
        "\n",
        "    if scheduler: # nếu có scheduler -> cập nhật learning rate\n",
        "        scheduler.step() \n",
        "\n",
        "    acc = correlation/len(dataLoader.dataset) # tính accuracy\n",
        "    his['train_acc'].append(acc)\n",
        "    loss = loss_now/len(dataLoader.dataset) # tính loss\n",
        "    his['train_loss'].append(loss)\n",
        "\n",
        "    return acc, loss"
      ]
    },
    {
      "cell_type": "code",
      "execution_count": 30,
      "metadata": {
        "id": "x_oW_t_0mZGL"
      },
      "outputs": [],
      "source": [
        "# đánh giá trên tập validation và test\n",
        "def evaluating(model, dataLoader, criterion):\n",
        "    model.eval() # thiết lập mô hình ở trạng thái evaluation -> tắt dropout\n",
        "    predictions = []\n",
        "    with torch.no_grad(): # không tính gradient\n",
        "        loss_now = 0 # tổng loss\n",
        "        correlation = 0 # số lượng dự đoán đúng\n",
        "\n",
        "        for x_num, label in dataLoader:\n",
        "            x_num = x_num.to(device)\n",
        "            label = label.to(device)\n",
        "            out = torch.sigmoid(model(x_num, None)) # tính toán đầu ra, hàm sigmoid -> đưa về dạng xác suất\n",
        "            predict = out >= torch.FloatTensor([0.5]).to(device) # chuyển giá trị dự đoán -> nhãn dựa trên ngưỡng 0.5\n",
        "            predictions.append(predict.cpu().numpy()) # Lưu dự đoán\n",
        "            correlation += predict.eq(label).sum().item() # tính số lượng dự đoán đúng và cộng vào tổng\n",
        "            loss_now +=  x_num.size(0) * criterion(out, label).item() # cộng loss của batch hiện tại vào tổng\n",
        "\n",
        "    acc = correlation/len(dataLoader.dataset) # tính accuracy\n",
        "    his['val_acc'].append(acc)\n",
        "    loss = loss_now/len(dataLoader.dataset) # tính loss\n",
        "    his['val_loss'].append(loss)\n",
        "\n",
        "    return acc, loss, np.concatenate(predictions)"
      ]
    },
    {
      "cell_type": "code",
      "execution_count": 31,
      "metadata": {
        "colab": {
          "base_uri": "https://localhost:8080/"
        },
        "id": "AgXg2LHbmZGM",
        "outputId": "659647f4-d5a0-4f53-ef39-710d813cceb5"
      },
      "outputs": [
        {
          "name": "stderr",
          "output_type": "stream",
          "text": [
            "100%|██████████| 123/123 [00:04<00:00, 28.51it/s]\n"
          ]
        },
        {
          "name": "stdout",
          "output_type": "stream",
          "text": [
            "EPOCH 1: Saving state of model\n",
            "Train Accuracy: 0.5993, Train Loss: 0.6567\n",
            "Val Accuracy: 0.6849, Val Loss: 0.6043 \n",
            "\n"
          ]
        },
        {
          "name": "stderr",
          "output_type": "stream",
          "text": [
            "100%|██████████| 123/123 [00:01<00:00, 68.97it/s]\n"
          ]
        },
        {
          "name": "stdout",
          "output_type": "stream",
          "text": [
            "EPOCH 2: Saving state of model\n",
            "Train Accuracy: 0.6766, Train Loss: 0.6019\n",
            "Val Accuracy: 0.7055, Val Loss: 0.5840 \n",
            "\n"
          ]
        },
        {
          "name": "stderr",
          "output_type": "stream",
          "text": [
            "100%|██████████| 123/123 [00:02<00:00, 52.19it/s]\n"
          ]
        },
        {
          "name": "stdout",
          "output_type": "stream",
          "text": [
            "EPOCH 3: Saving state of model\n",
            "Train Accuracy: 0.6834, Train Loss: 0.5937\n",
            "Val Accuracy: 0.7123, Val Loss: 0.5829 \n",
            "\n"
          ]
        },
        {
          "name": "stderr",
          "output_type": "stream",
          "text": [
            "100%|██████████| 123/123 [00:01<00:00, 69.48it/s]\n"
          ]
        },
        {
          "name": "stdout",
          "output_type": "stream",
          "text": [
            "Train Accuracy: 0.6898, Train Loss: 0.5865\n",
            "Val Accuracy: 0.6804, Val Loss: 0.5885 \n",
            "\n"
          ]
        },
        {
          "name": "stderr",
          "output_type": "stream",
          "text": [
            "100%|██████████| 123/123 [00:01<00:00, 68.42it/s]\n"
          ]
        },
        {
          "name": "stdout",
          "output_type": "stream",
          "text": [
            "Train Accuracy: 0.7025, Train Loss: 0.5741\n",
            "Val Accuracy: 0.6712, Val Loss: 0.5927 \n",
            "\n"
          ]
        },
        {
          "name": "stderr",
          "output_type": "stream",
          "text": [
            "100%|██████████| 123/123 [00:01<00:00, 70.70it/s]\n"
          ]
        },
        {
          "name": "stdout",
          "output_type": "stream",
          "text": [
            "Train Accuracy: 0.6992, Train Loss: 0.5677\n",
            "Val Accuracy: 0.6621, Val Loss: 0.5949 \n",
            "\n"
          ]
        },
        {
          "name": "stderr",
          "output_type": "stream",
          "text": [
            "100%|██████████| 123/123 [00:01<00:00, 69.37it/s]\n"
          ]
        },
        {
          "name": "stdout",
          "output_type": "stream",
          "text": [
            "EPOCH 7: Saving state of model\n",
            "Train Accuracy: 0.7002, Train Loss: 0.5674\n",
            "Val Accuracy: 0.7100, Val Loss: 0.5665 \n",
            "\n"
          ]
        },
        {
          "name": "stderr",
          "output_type": "stream",
          "text": [
            "100%|██████████| 123/123 [00:01<00:00, 70.29it/s]\n"
          ]
        },
        {
          "name": "stdout",
          "output_type": "stream",
          "text": [
            "Train Accuracy: 0.7116, Train Loss: 0.5557\n",
            "Val Accuracy: 0.6963, Val Loss: 0.5721 \n",
            "\n"
          ]
        },
        {
          "name": "stderr",
          "output_type": "stream",
          "text": [
            "100%|██████████| 123/123 [00:02<00:00, 61.18it/s]\n"
          ]
        },
        {
          "name": "stdout",
          "output_type": "stream",
          "text": [
            "EPOCH 9: Saving state of model\n",
            "Train Accuracy: 0.7139, Train Loss: 0.5537\n",
            "Val Accuracy: 0.7192, Val Loss: 0.5560 \n",
            "\n"
          ]
        },
        {
          "name": "stderr",
          "output_type": "stream",
          "text": [
            "100%|██████████| 123/123 [00:02<00:00, 48.76it/s]\n"
          ]
        },
        {
          "name": "stdout",
          "output_type": "stream",
          "text": [
            "Train Accuracy: 0.7132, Train Loss: 0.5479\n",
            "Val Accuracy: 0.7169, Val Loss: 0.5604 \n",
            "\n"
          ]
        },
        {
          "name": "stderr",
          "output_type": "stream",
          "text": [
            "100%|██████████| 123/123 [00:02<00:00, 50.56it/s]\n"
          ]
        },
        {
          "name": "stdout",
          "output_type": "stream",
          "text": [
            "Train Accuracy: 0.7259, Train Loss: 0.5418\n",
            "Val Accuracy: 0.7009, Val Loss: 0.5569 \n",
            "\n"
          ]
        },
        {
          "name": "stderr",
          "output_type": "stream",
          "text": [
            "100%|██████████| 123/123 [00:02<00:00, 60.64it/s]\n"
          ]
        },
        {
          "name": "stdout",
          "output_type": "stream",
          "text": [
            "Train Accuracy: 0.7221, Train Loss: 0.5407\n",
            "Val Accuracy: 0.7055, Val Loss: 0.5587 \n",
            "\n"
          ]
        },
        {
          "name": "stderr",
          "output_type": "stream",
          "text": [
            "100%|██████████| 123/123 [00:01<00:00, 72.28it/s]\n"
          ]
        },
        {
          "name": "stdout",
          "output_type": "stream",
          "text": [
            "Train Accuracy: 0.7355, Train Loss: 0.5280\n",
            "Val Accuracy: 0.7123, Val Loss: 0.5632 \n",
            "\n"
          ]
        },
        {
          "name": "stderr",
          "output_type": "stream",
          "text": [
            "100%|██████████| 123/123 [00:01<00:00, 70.90it/s]\n"
          ]
        },
        {
          "name": "stdout",
          "output_type": "stream",
          "text": [
            "EPOCH 14: Saving state of model\n",
            "Train Accuracy: 0.7185, Train Loss: 0.5371\n",
            "Val Accuracy: 0.7123, Val Loss: 0.5395 \n",
            "\n"
          ]
        },
        {
          "name": "stderr",
          "output_type": "stream",
          "text": [
            "100%|██████████| 123/123 [00:01<00:00, 66.45it/s]\n"
          ]
        },
        {
          "name": "stdout",
          "output_type": "stream",
          "text": [
            "Train Accuracy: 0.7302, Train Loss: 0.5243\n",
            "Val Accuracy: 0.6963, Val Loss: 0.5606 \n",
            "\n"
          ]
        },
        {
          "name": "stderr",
          "output_type": "stream",
          "text": [
            "100%|██████████| 123/123 [00:02<00:00, 51.88it/s]\n"
          ]
        },
        {
          "name": "stdout",
          "output_type": "stream",
          "text": [
            "Train Accuracy: 0.7315, Train Loss: 0.5258\n",
            "Val Accuracy: 0.7123, Val Loss: 0.5424 \n",
            "\n"
          ]
        },
        {
          "name": "stderr",
          "output_type": "stream",
          "text": [
            "100%|██████████| 123/123 [00:01<00:00, 71.15it/s]\n"
          ]
        },
        {
          "name": "stdout",
          "output_type": "stream",
          "text": [
            "EPOCH 17: Saving state of model\n",
            "Train Accuracy: 0.7386, Train Loss: 0.5195\n",
            "Val Accuracy: 0.7032, Val Loss: 0.5364 \n",
            "\n"
          ]
        },
        {
          "name": "stderr",
          "output_type": "stream",
          "text": [
            "100%|██████████| 123/123 [00:01<00:00, 71.10it/s]\n"
          ]
        },
        {
          "name": "stdout",
          "output_type": "stream",
          "text": [
            "EPOCH 18: Saving state of model\n",
            "Train Accuracy: 0.7495, Train Loss: 0.5117\n",
            "Val Accuracy: 0.7055, Val Loss: 0.5325 \n",
            "\n"
          ]
        },
        {
          "name": "stderr",
          "output_type": "stream",
          "text": [
            "100%|██████████| 123/123 [00:01<00:00, 72.49it/s]\n"
          ]
        },
        {
          "name": "stdout",
          "output_type": "stream",
          "text": [
            "Train Accuracy: 0.7497, Train Loss: 0.5028\n",
            "Val Accuracy: 0.7100, Val Loss: 0.5411 \n",
            "\n"
          ]
        },
        {
          "name": "stderr",
          "output_type": "stream",
          "text": [
            "100%|██████████| 123/123 [00:01<00:00, 70.62it/s]\n"
          ]
        },
        {
          "name": "stdout",
          "output_type": "stream",
          "text": [
            "EPOCH 20: Saving state of model\n",
            "Train Accuracy: 0.7576, Train Loss: 0.5045\n",
            "Val Accuracy: 0.7237, Val Loss: 0.5290 \n",
            "\n"
          ]
        },
        {
          "name": "stderr",
          "output_type": "stream",
          "text": [
            "100%|██████████| 123/123 [00:01<00:00, 70.81it/s]\n"
          ]
        },
        {
          "name": "stdout",
          "output_type": "stream",
          "text": [
            "EPOCH 21: Saving state of model\n",
            "Train Accuracy: 0.7589, Train Loss: 0.4958\n",
            "Val Accuracy: 0.7192, Val Loss: 0.5258 \n",
            "\n"
          ]
        },
        {
          "name": "stderr",
          "output_type": "stream",
          "text": [
            "100%|██████████| 123/123 [00:01<00:00, 61.75it/s]\n"
          ]
        },
        {
          "name": "stdout",
          "output_type": "stream",
          "text": [
            "Train Accuracy: 0.7576, Train Loss: 0.4932\n",
            "Val Accuracy: 0.7237, Val Loss: 0.5344 \n",
            "\n"
          ]
        },
        {
          "name": "stderr",
          "output_type": "stream",
          "text": [
            "100%|██████████| 123/123 [00:02<00:00, 54.59it/s]\n"
          ]
        },
        {
          "name": "stdout",
          "output_type": "stream",
          "text": [
            "EPOCH 23: Saving state of model\n",
            "Train Accuracy: 0.7630, Train Loss: 0.4919\n",
            "Val Accuracy: 0.7329, Val Loss: 0.5204 \n",
            "\n"
          ]
        },
        {
          "name": "stderr",
          "output_type": "stream",
          "text": [
            "100%|██████████| 123/123 [00:01<00:00, 69.19it/s]\n"
          ]
        },
        {
          "name": "stdout",
          "output_type": "stream",
          "text": [
            "Train Accuracy: 0.7541, Train Loss: 0.4944\n",
            "Val Accuracy: 0.7146, Val Loss: 0.5269 \n",
            "\n"
          ]
        },
        {
          "name": "stderr",
          "output_type": "stream",
          "text": [
            "100%|██████████| 123/123 [00:01<00:00, 68.54it/s]\n"
          ]
        },
        {
          "name": "stdout",
          "output_type": "stream",
          "text": [
            "EPOCH 25: Saving state of model\n",
            "Train Accuracy: 0.7617, Train Loss: 0.4821\n",
            "Val Accuracy: 0.7260, Val Loss: 0.5175 \n",
            "\n"
          ]
        },
        {
          "name": "stderr",
          "output_type": "stream",
          "text": [
            "100%|██████████| 123/123 [00:01<00:00, 70.26it/s]\n"
          ]
        },
        {
          "name": "stdout",
          "output_type": "stream",
          "text": [
            "Train Accuracy: 0.7688, Train Loss: 0.4768\n",
            "Val Accuracy: 0.7443, Val Loss: 0.5347 \n",
            "\n"
          ]
        },
        {
          "name": "stderr",
          "output_type": "stream",
          "text": [
            "100%|██████████| 123/123 [00:01<00:00, 71.27it/s]\n"
          ]
        },
        {
          "name": "stdout",
          "output_type": "stream",
          "text": [
            "Train Accuracy: 0.7698, Train Loss: 0.4758\n",
            "Val Accuracy: 0.7352, Val Loss: 0.5254 \n",
            "\n"
          ]
        },
        {
          "name": "stderr",
          "output_type": "stream",
          "text": [
            "100%|██████████| 123/123 [00:01<00:00, 71.31it/s]\n"
          ]
        },
        {
          "name": "stdout",
          "output_type": "stream",
          "text": [
            "Train Accuracy: 0.7675, Train Loss: 0.4763\n",
            "Val Accuracy: 0.7237, Val Loss: 0.5197 \n",
            "\n"
          ]
        },
        {
          "name": "stderr",
          "output_type": "stream",
          "text": [
            "100%|██████████| 123/123 [00:02<00:00, 57.94it/s]\n"
          ]
        },
        {
          "name": "stdout",
          "output_type": "stream",
          "text": [
            "EPOCH 29: Saving state of model\n",
            "Train Accuracy: 0.7752, Train Loss: 0.4660\n",
            "Val Accuracy: 0.7443, Val Loss: 0.5104 \n",
            "\n"
          ]
        },
        {
          "name": "stderr",
          "output_type": "stream",
          "text": [
            "100%|██████████| 123/123 [00:02<00:00, 60.02it/s]\n"
          ]
        },
        {
          "name": "stdout",
          "output_type": "stream",
          "text": [
            "EPOCH 30: Saving state of model\n",
            "Train Accuracy: 0.7802, Train Loss: 0.4621\n",
            "Val Accuracy: 0.7534, Val Loss: 0.5053 \n",
            "\n"
          ]
        },
        {
          "name": "stderr",
          "output_type": "stream",
          "text": [
            "100%|██████████| 123/123 [00:01<00:00, 71.57it/s]\n"
          ]
        },
        {
          "name": "stdout",
          "output_type": "stream",
          "text": [
            "Train Accuracy: 0.7805, Train Loss: 0.4603\n",
            "Val Accuracy: 0.7511, Val Loss: 0.5123 \n",
            "\n"
          ]
        },
        {
          "name": "stderr",
          "output_type": "stream",
          "text": [
            "100%|██████████| 123/123 [00:01<00:00, 73.46it/s]\n"
          ]
        },
        {
          "name": "stdout",
          "output_type": "stream",
          "text": [
            "Train Accuracy: 0.7807, Train Loss: 0.4562\n",
            "Val Accuracy: 0.7374, Val Loss: 0.5346 \n",
            "\n"
          ]
        },
        {
          "name": "stderr",
          "output_type": "stream",
          "text": [
            "100%|██████████| 123/123 [00:01<00:00, 69.27it/s]\n"
          ]
        },
        {
          "name": "stdout",
          "output_type": "stream",
          "text": [
            "Train Accuracy: 0.7815, Train Loss: 0.4508\n",
            "Val Accuracy: 0.7352, Val Loss: 0.5130 \n",
            "\n"
          ]
        },
        {
          "name": "stderr",
          "output_type": "stream",
          "text": [
            "100%|██████████| 123/123 [00:01<00:00, 68.84it/s]\n"
          ]
        },
        {
          "name": "stdout",
          "output_type": "stream",
          "text": [
            "Train Accuracy: 0.7973, Train Loss: 0.4374\n",
            "Val Accuracy: 0.7329, Val Loss: 0.5172 \n",
            "\n"
          ]
        },
        {
          "name": "stderr",
          "output_type": "stream",
          "text": [
            "100%|██████████| 123/123 [00:01<00:00, 71.24it/s]\n"
          ]
        },
        {
          "name": "stdout",
          "output_type": "stream",
          "text": [
            "Train Accuracy: 0.7894, Train Loss: 0.4441\n",
            "Val Accuracy: 0.7329, Val Loss: 0.5248 \n",
            "\n"
          ]
        },
        {
          "name": "stderr",
          "output_type": "stream",
          "text": [
            "100%|██████████| 123/123 [00:02<00:00, 55.70it/s]\n"
          ]
        },
        {
          "name": "stdout",
          "output_type": "stream",
          "text": [
            "Train Accuracy: 0.7904, Train Loss: 0.4427\n",
            "Val Accuracy: 0.7534, Val Loss: 0.5190 \n",
            "\n"
          ]
        },
        {
          "name": "stderr",
          "output_type": "stream",
          "text": [
            "100%|██████████| 123/123 [00:01<00:00, 62.03it/s]\n"
          ]
        },
        {
          "name": "stdout",
          "output_type": "stream",
          "text": [
            "Train Accuracy: 0.7934, Train Loss: 0.4358\n",
            "Val Accuracy: 0.7489, Val Loss: 0.5312 \n",
            "\n"
          ]
        },
        {
          "name": "stderr",
          "output_type": "stream",
          "text": [
            "100%|██████████| 123/123 [00:01<00:00, 71.66it/s]\n"
          ]
        },
        {
          "name": "stdout",
          "output_type": "stream",
          "text": [
            "Train Accuracy: 0.7955, Train Loss: 0.4387\n",
            "Val Accuracy: 0.7603, Val Loss: 0.5136 \n",
            "\n"
          ]
        },
        {
          "name": "stderr",
          "output_type": "stream",
          "text": [
            "100%|██████████| 123/123 [00:01<00:00, 72.21it/s]\n"
          ]
        },
        {
          "name": "stdout",
          "output_type": "stream",
          "text": [
            "Train Accuracy: 0.7975, Train Loss: 0.4305\n",
            "Val Accuracy: 0.7626, Val Loss: 0.5141 \n",
            "\n"
          ]
        },
        {
          "name": "stderr",
          "output_type": "stream",
          "text": [
            "100%|██████████| 123/123 [00:01<00:00, 71.54it/s]\n"
          ]
        },
        {
          "name": "stdout",
          "output_type": "stream",
          "text": [
            "Train Accuracy: 0.7957, Train Loss: 0.4257\n",
            "Val Accuracy: 0.7603, Val Loss: 0.5139 \n",
            "\n"
          ]
        },
        {
          "name": "stderr",
          "output_type": "stream",
          "text": [
            "100%|██████████| 123/123 [00:01<00:00, 71.00it/s]\n"
          ]
        },
        {
          "name": "stdout",
          "output_type": "stream",
          "text": [
            "Train Accuracy: 0.8074, Train Loss: 0.4162\n",
            "Val Accuracy: 0.7443, Val Loss: 0.5260 \n",
            "\n"
          ]
        },
        {
          "name": "stderr",
          "output_type": "stream",
          "text": [
            "100%|██████████| 123/123 [00:01<00:00, 71.01it/s]\n"
          ]
        },
        {
          "name": "stdout",
          "output_type": "stream",
          "text": [
            "EPOCH 42: Saving state of model\n",
            "Train Accuracy: 0.8026, Train Loss: 0.4191\n",
            "Val Accuracy: 0.7580, Val Loss: 0.4977 \n",
            "\n"
          ]
        },
        {
          "name": "stderr",
          "output_type": "stream",
          "text": [
            "100%|██████████| 123/123 [00:02<00:00, 52.37it/s]\n"
          ]
        },
        {
          "name": "stdout",
          "output_type": "stream",
          "text": [
            "Train Accuracy: 0.8115, Train Loss: 0.4110\n",
            "Val Accuracy: 0.7397, Val Loss: 0.4990 \n",
            "\n"
          ]
        },
        {
          "name": "stderr",
          "output_type": "stream",
          "text": [
            "100%|██████████| 123/123 [00:01<00:00, 66.55it/s]\n"
          ]
        },
        {
          "name": "stdout",
          "output_type": "stream",
          "text": [
            "Train Accuracy: 0.8082, Train Loss: 0.4073\n",
            "Val Accuracy: 0.7671, Val Loss: 0.5160 \n",
            "\n"
          ]
        },
        {
          "name": "stderr",
          "output_type": "stream",
          "text": [
            "100%|██████████| 123/123 [00:01<00:00, 73.02it/s]\n"
          ]
        },
        {
          "name": "stdout",
          "output_type": "stream",
          "text": [
            "Train Accuracy: 0.8117, Train Loss: 0.4056\n",
            "Val Accuracy: 0.7603, Val Loss: 0.5083 \n",
            "\n"
          ]
        },
        {
          "name": "stderr",
          "output_type": "stream",
          "text": [
            "100%|██████████| 123/123 [00:01<00:00, 72.32it/s]\n"
          ]
        },
        {
          "name": "stdout",
          "output_type": "stream",
          "text": [
            "Train Accuracy: 0.8145, Train Loss: 0.4044\n",
            "Val Accuracy: 0.7671, Val Loss: 0.5037 \n",
            "\n"
          ]
        },
        {
          "name": "stderr",
          "output_type": "stream",
          "text": [
            "100%|██████████| 123/123 [00:01<00:00, 70.88it/s]\n"
          ]
        },
        {
          "name": "stdout",
          "output_type": "stream",
          "text": [
            "EPOCH 47: Saving state of model\n",
            "Train Accuracy: 0.8171, Train Loss: 0.4020\n",
            "Val Accuracy: 0.7740, Val Loss: 0.4864 \n",
            "\n"
          ]
        },
        {
          "name": "stderr",
          "output_type": "stream",
          "text": [
            "100%|██████████| 123/123 [00:01<00:00, 72.08it/s]\n"
          ]
        },
        {
          "name": "stdout",
          "output_type": "stream",
          "text": [
            "Train Accuracy: 0.8120, Train Loss: 0.4012\n",
            "Val Accuracy: 0.7557, Val Loss: 0.5049 \n",
            "\n"
          ]
        },
        {
          "name": "stderr",
          "output_type": "stream",
          "text": [
            "100%|██████████| 123/123 [00:01<00:00, 65.77it/s]\n"
          ]
        },
        {
          "name": "stdout",
          "output_type": "stream",
          "text": [
            "EPOCH 49: Saving state of model\n",
            "Train Accuracy: 0.8267, Train Loss: 0.3924\n",
            "Val Accuracy: 0.7900, Val Loss: 0.4858 \n",
            "\n"
          ]
        },
        {
          "name": "stderr",
          "output_type": "stream",
          "text": [
            "100%|██████████| 123/123 [00:02<00:00, 52.03it/s]\n"
          ]
        },
        {
          "name": "stdout",
          "output_type": "stream",
          "text": [
            "Train Accuracy: 0.8257, Train Loss: 0.3846\n",
            "Val Accuracy: 0.7580, Val Loss: 0.5015 \n",
            "\n"
          ]
        },
        {
          "name": "stderr",
          "output_type": "stream",
          "text": [
            "100%|██████████| 123/123 [00:01<00:00, 70.77it/s]\n"
          ]
        },
        {
          "name": "stdout",
          "output_type": "stream",
          "text": [
            "Train Accuracy: 0.8280, Train Loss: 0.3878\n",
            "Val Accuracy: 0.7740, Val Loss: 0.4915 \n",
            "\n"
          ]
        },
        {
          "name": "stderr",
          "output_type": "stream",
          "text": [
            "100%|██████████| 123/123 [00:01<00:00, 72.04it/s]\n"
          ]
        },
        {
          "name": "stdout",
          "output_type": "stream",
          "text": [
            "Train Accuracy: 0.8369, Train Loss: 0.3837\n",
            "Val Accuracy: 0.7694, Val Loss: 0.4900 \n",
            "\n"
          ]
        },
        {
          "name": "stderr",
          "output_type": "stream",
          "text": [
            "100%|██████████| 123/123 [00:01<00:00, 67.64it/s]\n"
          ]
        },
        {
          "name": "stdout",
          "output_type": "stream",
          "text": [
            "Train Accuracy: 0.8232, Train Loss: 0.3840\n",
            "Val Accuracy: 0.7694, Val Loss: 0.4927 \n",
            "\n"
          ]
        },
        {
          "name": "stderr",
          "output_type": "stream",
          "text": [
            "100%|██████████| 123/123 [00:01<00:00, 69.84it/s]\n"
          ]
        },
        {
          "name": "stdout",
          "output_type": "stream",
          "text": [
            "Train Accuracy: 0.8272, Train Loss: 0.3773\n",
            "Val Accuracy: 0.7671, Val Loss: 0.4969 \n",
            "\n"
          ]
        },
        {
          "name": "stderr",
          "output_type": "stream",
          "text": [
            "100%|██████████| 123/123 [00:01<00:00, 69.77it/s]\n"
          ]
        },
        {
          "name": "stdout",
          "output_type": "stream",
          "text": [
            "Train Accuracy: 0.8359, Train Loss: 0.3724\n",
            "Val Accuracy: 0.7511, Val Loss: 0.5333 \n",
            "\n"
          ]
        },
        {
          "name": "stderr",
          "output_type": "stream",
          "text": [
            "100%|██████████| 123/123 [00:02<00:00, 59.80it/s]\n"
          ]
        },
        {
          "name": "stdout",
          "output_type": "stream",
          "text": [
            "Train Accuracy: 0.8354, Train Loss: 0.3734\n",
            "Val Accuracy: 0.7717, Val Loss: 0.4867 \n",
            "\n"
          ]
        },
        {
          "name": "stderr",
          "output_type": "stream",
          "text": [
            "100%|██████████| 123/123 [00:02<00:00, 55.14it/s]\n"
          ]
        },
        {
          "name": "stdout",
          "output_type": "stream",
          "text": [
            "Train Accuracy: 0.8407, Train Loss: 0.3583\n",
            "Val Accuracy: 0.7763, Val Loss: 0.4972 \n",
            "\n"
          ]
        },
        {
          "name": "stderr",
          "output_type": "stream",
          "text": [
            "100%|██████████| 123/123 [00:01<00:00, 68.36it/s]\n"
          ]
        },
        {
          "name": "stdout",
          "output_type": "stream",
          "text": [
            "Train Accuracy: 0.8356, Train Loss: 0.3695\n",
            "Val Accuracy: 0.7626, Val Loss: 0.5170 \n",
            "\n"
          ]
        },
        {
          "name": "stderr",
          "output_type": "stream",
          "text": [
            "100%|██████████| 123/123 [00:01<00:00, 71.77it/s]\n"
          ]
        },
        {
          "name": "stdout",
          "output_type": "stream",
          "text": [
            "Train Accuracy: 0.8318, Train Loss: 0.3672\n",
            "Val Accuracy: 0.7785, Val Loss: 0.4914 \n",
            "\n"
          ]
        },
        {
          "name": "stderr",
          "output_type": "stream",
          "text": [
            "100%|██████████| 123/123 [00:01<00:00, 70.36it/s]\n"
          ]
        },
        {
          "name": "stdout",
          "output_type": "stream",
          "text": [
            "Train Accuracy: 0.8399, Train Loss: 0.3617\n",
            "Val Accuracy: 0.7854, Val Loss: 0.5036 \n",
            "\n"
          ]
        },
        {
          "name": "stderr",
          "output_type": "stream",
          "text": [
            "100%|██████████| 123/123 [00:01<00:00, 69.52it/s]\n"
          ]
        },
        {
          "name": "stdout",
          "output_type": "stream",
          "text": [
            "EPOCH 61: Saving state of model\n",
            "Train Accuracy: 0.8443, Train Loss: 0.3590\n",
            "Val Accuracy: 0.7922, Val Loss: 0.4670 \n",
            "\n"
          ]
        },
        {
          "name": "stderr",
          "output_type": "stream",
          "text": [
            "100%|██████████| 123/123 [00:01<00:00, 71.75it/s]\n"
          ]
        },
        {
          "name": "stdout",
          "output_type": "stream",
          "text": [
            "Train Accuracy: 0.8364, Train Loss: 0.3582\n",
            "Val Accuracy: 0.7877, Val Loss: 0.4852 \n",
            "\n"
          ]
        },
        {
          "name": "stderr",
          "output_type": "stream",
          "text": [
            "100%|██████████| 123/123 [00:02<00:00, 56.57it/s]\n"
          ]
        },
        {
          "name": "stdout",
          "output_type": "stream",
          "text": [
            "Train Accuracy: 0.8458, Train Loss: 0.3529\n",
            "Val Accuracy: 0.7717, Val Loss: 0.4800 \n",
            "\n"
          ]
        },
        {
          "name": "stderr",
          "output_type": "stream",
          "text": [
            "100%|██████████| 123/123 [00:02<00:00, 60.49it/s]\n"
          ]
        },
        {
          "name": "stdout",
          "output_type": "stream",
          "text": [
            "EPOCH 64: Saving state of model\n",
            "Train Accuracy: 0.8468, Train Loss: 0.3454\n",
            "Val Accuracy: 0.7945, Val Loss: 0.4575 \n",
            "\n"
          ]
        },
        {
          "name": "stderr",
          "output_type": "stream",
          "text": [
            "100%|██████████| 123/123 [00:01<00:00, 71.02it/s]\n"
          ]
        },
        {
          "name": "stdout",
          "output_type": "stream",
          "text": [
            "Train Accuracy: 0.8567, Train Loss: 0.3384\n",
            "Val Accuracy: 0.7717, Val Loss: 0.4996 \n",
            "\n"
          ]
        },
        {
          "name": "stderr",
          "output_type": "stream",
          "text": [
            "100%|██████████| 123/123 [00:01<00:00, 70.83it/s]\n"
          ]
        },
        {
          "name": "stdout",
          "output_type": "stream",
          "text": [
            "Train Accuracy: 0.8539, Train Loss: 0.3492\n",
            "Val Accuracy: 0.7603, Val Loss: 0.5243 \n",
            "\n"
          ]
        },
        {
          "name": "stderr",
          "output_type": "stream",
          "text": [
            "100%|██████████| 123/123 [00:01<00:00, 70.68it/s]\n"
          ]
        },
        {
          "name": "stdout",
          "output_type": "stream",
          "text": [
            "Train Accuracy: 0.8504, Train Loss: 0.3423\n",
            "Val Accuracy: 0.7854, Val Loss: 0.4790 \n",
            "\n"
          ]
        },
        {
          "name": "stderr",
          "output_type": "stream",
          "text": [
            "100%|██████████| 123/123 [00:01<00:00, 69.88it/s]\n"
          ]
        },
        {
          "name": "stdout",
          "output_type": "stream",
          "text": [
            "Train Accuracy: 0.8529, Train Loss: 0.3327\n",
            "Val Accuracy: 0.7626, Val Loss: 0.5021 \n",
            "\n"
          ]
        },
        {
          "name": "stderr",
          "output_type": "stream",
          "text": [
            "100%|██████████| 123/123 [00:01<00:00, 69.70it/s]\n"
          ]
        },
        {
          "name": "stdout",
          "output_type": "stream",
          "text": [
            "Train Accuracy: 0.8516, Train Loss: 0.3351\n",
            "Val Accuracy: 0.7763, Val Loss: 0.4854 \n",
            "\n"
          ]
        },
        {
          "name": "stderr",
          "output_type": "stream",
          "text": [
            "100%|██████████| 123/123 [00:02<00:00, 52.59it/s]\n"
          ]
        },
        {
          "name": "stdout",
          "output_type": "stream",
          "text": [
            "Train Accuracy: 0.8592, Train Loss: 0.3279\n",
            "Val Accuracy: 0.7831, Val Loss: 0.4726 \n",
            "\n"
          ]
        },
        {
          "name": "stderr",
          "output_type": "stream",
          "text": [
            "100%|██████████| 123/123 [00:01<00:00, 65.09it/s]\n"
          ]
        },
        {
          "name": "stdout",
          "output_type": "stream",
          "text": [
            "Train Accuracy: 0.8575, Train Loss: 0.3300\n",
            "Val Accuracy: 0.7740, Val Loss: 0.4765 \n",
            "\n"
          ]
        },
        {
          "name": "stderr",
          "output_type": "stream",
          "text": [
            "100%|██████████| 123/123 [00:01<00:00, 70.22it/s]\n"
          ]
        },
        {
          "name": "stdout",
          "output_type": "stream",
          "text": [
            "Train Accuracy: 0.8532, Train Loss: 0.3337\n",
            "Val Accuracy: 0.7831, Val Loss: 0.4655 \n",
            "\n"
          ]
        },
        {
          "name": "stderr",
          "output_type": "stream",
          "text": [
            "100%|██████████| 123/123 [00:01<00:00, 70.83it/s]\n"
          ]
        },
        {
          "name": "stdout",
          "output_type": "stream",
          "text": [
            "EPOCH 73: Saving state of model\n",
            "Train Accuracy: 0.8598, Train Loss: 0.3190\n",
            "Val Accuracy: 0.7808, Val Loss: 0.4536 \n",
            "\n"
          ]
        },
        {
          "name": "stderr",
          "output_type": "stream",
          "text": [
            "100%|██████████| 123/123 [00:01<00:00, 69.42it/s]\n"
          ]
        },
        {
          "name": "stdout",
          "output_type": "stream",
          "text": [
            "EPOCH 74: Saving state of model\n",
            "Train Accuracy: 0.8595, Train Loss: 0.3277\n",
            "Val Accuracy: 0.7808, Val Loss: 0.4524 \n",
            "\n"
          ]
        },
        {
          "name": "stderr",
          "output_type": "stream",
          "text": [
            "100%|██████████| 123/123 [00:01<00:00, 70.66it/s]\n"
          ]
        },
        {
          "name": "stdout",
          "output_type": "stream",
          "text": [
            "EPOCH 75: Saving state of model\n",
            "Train Accuracy: 0.8626, Train Loss: 0.3182\n",
            "Val Accuracy: 0.7991, Val Loss: 0.4517 \n",
            "\n"
          ]
        },
        {
          "name": "stderr",
          "output_type": "stream",
          "text": [
            "100%|██████████| 123/123 [00:01<00:00, 65.96it/s]\n"
          ]
        },
        {
          "name": "stdout",
          "output_type": "stream",
          "text": [
            "Train Accuracy: 0.8727, Train Loss: 0.3079\n",
            "Val Accuracy: 0.7900, Val Loss: 0.4794 \n",
            "\n"
          ]
        },
        {
          "name": "stderr",
          "output_type": "stream",
          "text": [
            "100%|██████████| 123/123 [00:02<00:00, 52.32it/s]\n"
          ]
        },
        {
          "name": "stdout",
          "output_type": "stream",
          "text": [
            "Train Accuracy: 0.8608, Train Loss: 0.3166\n",
            "Val Accuracy: 0.7968, Val Loss: 0.4751 \n",
            "\n"
          ]
        },
        {
          "name": "stderr",
          "output_type": "stream",
          "text": [
            "100%|██████████| 123/123 [00:01<00:00, 72.71it/s]\n"
          ]
        },
        {
          "name": "stdout",
          "output_type": "stream",
          "text": [
            "Train Accuracy: 0.8620, Train Loss: 0.3160\n",
            "Val Accuracy: 0.7922, Val Loss: 0.4731 \n",
            "\n"
          ]
        },
        {
          "name": "stderr",
          "output_type": "stream",
          "text": [
            "100%|██████████| 123/123 [00:01<00:00, 71.17it/s]\n"
          ]
        },
        {
          "name": "stdout",
          "output_type": "stream",
          "text": [
            "Train Accuracy: 0.8610, Train Loss: 0.3187\n",
            "Val Accuracy: 0.7968, Val Loss: 0.4668 \n",
            "\n"
          ]
        },
        {
          "name": "stderr",
          "output_type": "stream",
          "text": [
            "100%|██████████| 123/123 [00:01<00:00, 70.96it/s]\n"
          ]
        },
        {
          "name": "stdout",
          "output_type": "stream",
          "text": [
            "Train Accuracy: 0.8613, Train Loss: 0.3211\n",
            "Val Accuracy: 0.7694, Val Loss: 0.4731 \n",
            "\n"
          ]
        },
        {
          "name": "stderr",
          "output_type": "stream",
          "text": [
            "100%|██████████| 123/123 [00:01<00:00, 70.41it/s]\n"
          ]
        },
        {
          "name": "stdout",
          "output_type": "stream",
          "text": [
            "Train Accuracy: 0.8770, Train Loss: 0.2981\n",
            "Val Accuracy: 0.7785, Val Loss: 0.4825 \n",
            "\n"
          ]
        },
        {
          "name": "stderr",
          "output_type": "stream",
          "text": [
            "100%|██████████| 123/123 [00:01<00:00, 70.10it/s]\n"
          ]
        },
        {
          "name": "stdout",
          "output_type": "stream",
          "text": [
            "EPOCH 82: Saving state of model\n",
            "Train Accuracy: 0.8656, Train Loss: 0.3062\n",
            "Val Accuracy: 0.8082, Val Loss: 0.4427 \n",
            "\n"
          ]
        },
        {
          "name": "stderr",
          "output_type": "stream",
          "text": [
            "100%|██████████| 123/123 [00:02<00:00, 61.04it/s]\n"
          ]
        },
        {
          "name": "stdout",
          "output_type": "stream",
          "text": [
            "Train Accuracy: 0.8714, Train Loss: 0.2994\n",
            "Val Accuracy: 0.7922, Val Loss: 0.4884 \n",
            "\n"
          ]
        },
        {
          "name": "stderr",
          "output_type": "stream",
          "text": [
            "100%|██████████| 123/123 [00:02<00:00, 55.50it/s]\n"
          ]
        },
        {
          "name": "stdout",
          "output_type": "stream",
          "text": [
            "Train Accuracy: 0.8646, Train Loss: 0.3022\n",
            "Val Accuracy: 0.7945, Val Loss: 0.4879 \n",
            "\n"
          ]
        },
        {
          "name": "stderr",
          "output_type": "stream",
          "text": [
            "100%|██████████| 123/123 [00:01<00:00, 69.12it/s]\n"
          ]
        },
        {
          "name": "stdout",
          "output_type": "stream",
          "text": [
            "Train Accuracy: 0.8796, Train Loss: 0.2945\n",
            "Val Accuracy: 0.7945, Val Loss: 0.4631 \n",
            "\n"
          ]
        },
        {
          "name": "stderr",
          "output_type": "stream",
          "text": [
            "100%|██████████| 123/123 [00:01<00:00, 72.52it/s]\n"
          ]
        },
        {
          "name": "stdout",
          "output_type": "stream",
          "text": [
            "Train Accuracy: 0.8849, Train Loss: 0.2883\n",
            "Val Accuracy: 0.8128, Val Loss: 0.4638 \n",
            "\n"
          ]
        },
        {
          "name": "stderr",
          "output_type": "stream",
          "text": [
            "100%|██████████| 123/123 [00:01<00:00, 69.96it/s]\n"
          ]
        },
        {
          "name": "stdout",
          "output_type": "stream",
          "text": [
            "Train Accuracy: 0.8770, Train Loss: 0.2918\n",
            "Val Accuracy: 0.7900, Val Loss: 0.4830 \n",
            "\n"
          ]
        },
        {
          "name": "stderr",
          "output_type": "stream",
          "text": [
            "100%|██████████| 123/123 [00:01<00:00, 68.62it/s]\n"
          ]
        },
        {
          "name": "stdout",
          "output_type": "stream",
          "text": [
            "Train Accuracy: 0.8791, Train Loss: 0.2894\n",
            "Val Accuracy: 0.7900, Val Loss: 0.4731 \n",
            "\n"
          ]
        },
        {
          "name": "stderr",
          "output_type": "stream",
          "text": [
            "100%|██████████| 123/123 [00:01<00:00, 69.85it/s]\n"
          ]
        },
        {
          "name": "stdout",
          "output_type": "stream",
          "text": [
            "Train Accuracy: 0.8816, Train Loss: 0.2838\n",
            "Val Accuracy: 0.7877, Val Loss: 0.5098 \n",
            "\n"
          ]
        },
        {
          "name": "stderr",
          "output_type": "stream",
          "text": [
            "100%|██████████| 123/123 [00:02<00:00, 55.41it/s]\n"
          ]
        },
        {
          "name": "stdout",
          "output_type": "stream",
          "text": [
            "EPOCH 90: Saving state of model\n",
            "Train Accuracy: 0.8821, Train Loss: 0.2819\n",
            "Val Accuracy: 0.8059, Val Loss: 0.4360 \n",
            "\n"
          ]
        },
        {
          "name": "stderr",
          "output_type": "stream",
          "text": [
            "100%|██████████| 123/123 [00:02<00:00, 60.01it/s]\n"
          ]
        },
        {
          "name": "stdout",
          "output_type": "stream",
          "text": [
            "Train Accuracy: 0.8824, Train Loss: 0.2805\n",
            "Val Accuracy: 0.7991, Val Loss: 0.4838 \n",
            "\n"
          ]
        },
        {
          "name": "stderr",
          "output_type": "stream",
          "text": [
            "100%|██████████| 123/123 [00:01<00:00, 70.45it/s]\n"
          ]
        },
        {
          "name": "stdout",
          "output_type": "stream",
          "text": [
            "Train Accuracy: 0.8796, Train Loss: 0.2828\n",
            "Val Accuracy: 0.7900, Val Loss: 0.4934 \n",
            "\n"
          ]
        },
        {
          "name": "stderr",
          "output_type": "stream",
          "text": [
            "100%|██████████| 123/123 [00:01<00:00, 72.31it/s]\n"
          ]
        },
        {
          "name": "stdout",
          "output_type": "stream",
          "text": [
            "Train Accuracy: 0.8826, Train Loss: 0.2797\n",
            "Val Accuracy: 0.8105, Val Loss: 0.4645 \n",
            "\n"
          ]
        },
        {
          "name": "stderr",
          "output_type": "stream",
          "text": [
            "100%|██████████| 123/123 [00:01<00:00, 69.22it/s]\n"
          ]
        },
        {
          "name": "stdout",
          "output_type": "stream",
          "text": [
            "Train Accuracy: 0.8874, Train Loss: 0.2728\n",
            "Val Accuracy: 0.7900, Val Loss: 0.4890 \n",
            "\n"
          ]
        },
        {
          "name": "stderr",
          "output_type": "stream",
          "text": [
            "100%|██████████| 123/123 [00:01<00:00, 70.46it/s]\n"
          ]
        },
        {
          "name": "stdout",
          "output_type": "stream",
          "text": [
            "Train Accuracy: 0.8874, Train Loss: 0.2699\n",
            "Val Accuracy: 0.8082, Val Loss: 0.4483 \n",
            "\n"
          ]
        },
        {
          "name": "stderr",
          "output_type": "stream",
          "text": [
            "100%|██████████| 123/123 [00:01<00:00, 70.19it/s]\n"
          ]
        },
        {
          "name": "stdout",
          "output_type": "stream",
          "text": [
            "Train Accuracy: 0.8874, Train Loss: 0.2665\n",
            "Val Accuracy: 0.8059, Val Loss: 0.4645 \n",
            "\n"
          ]
        },
        {
          "name": "stderr",
          "output_type": "stream",
          "text": [
            "100%|██████████| 123/123 [00:02<00:00, 51.89it/s]\n"
          ]
        },
        {
          "name": "stdout",
          "output_type": "stream",
          "text": [
            "Train Accuracy: 0.8814, Train Loss: 0.2779\n",
            "Val Accuracy: 0.7991, Val Loss: 0.4544 \n",
            "\n"
          ]
        },
        {
          "name": "stderr",
          "output_type": "stream",
          "text": [
            "100%|██████████| 123/123 [00:01<00:00, 63.87it/s]\n"
          ]
        },
        {
          "name": "stdout",
          "output_type": "stream",
          "text": [
            "Train Accuracy: 0.8915, Train Loss: 0.2662\n",
            "Val Accuracy: 0.7877, Val Loss: 0.5231 \n",
            "\n"
          ]
        },
        {
          "name": "stderr",
          "output_type": "stream",
          "text": [
            "100%|██████████| 123/123 [00:01<00:00, 70.47it/s]\n"
          ]
        },
        {
          "name": "stdout",
          "output_type": "stream",
          "text": [
            "Train Accuracy: 0.8905, Train Loss: 0.2668\n",
            "Val Accuracy: 0.7968, Val Loss: 0.4904 \n",
            "\n"
          ]
        },
        {
          "name": "stderr",
          "output_type": "stream",
          "text": [
            "100%|██████████| 123/123 [00:01<00:00, 68.01it/s]\n"
          ]
        },
        {
          "name": "stdout",
          "output_type": "stream",
          "text": [
            "Train Accuracy: 0.8941, Train Loss: 0.2613\n",
            "Val Accuracy: 0.8105, Val Loss: 0.4766 \n",
            "\n"
          ]
        }
      ],
      "source": [
        "criterion = nn.BCELoss() # binary cross entropy loss\n",
        "\n",
        "lr = 0.00001 # learning rate\n",
        "weight_decay = 0.000041 # Hệ số giảm trọng số \n",
        "optimizer = (\n",
        "    model_ftt.make_default_optimizer() # optimizer mặc định của FTT\n",
        "    if isinstance(model_ftt, rtdl.FTTransformer) # nếu mô hình là FTT\n",
        "    else torch.optim.AdamW(model_ftt.parameters(), lr=lr, weight_decay=weight_decay) \n",
        "    # AdamW tối ưu mô hình transformer, tối ưu tất cả tham số\n",
        ")\n",
        "\n",
        "n_epochs = 100\n",
        "maxLoss = np.inf\n",
        "\n",
        "for epoch in range(n_epochs):\n",
        "    train_acc, train_loss = training(model_ftt, train_load, criterion, optimizer, None)\n",
        "    val_acc, val_loss, y_val_pred = evaluating(model_ftt, val_load, criterion)\n",
        "    if maxLoss > val_loss:\n",
        "        print(f'EPOCH {epoch+1}: Saving state of model')\n",
        "        maxLoss = val_loss\n",
        "        torch.save(model_ftt.state_dict(), 'Feature_Tokenizer_Transformer_state.pth')\n",
        "\n",
        "    print(f'Train Accuracy: {train_acc:.4f}, Train Loss: {train_loss:.4f}')\n",
        "    print(f'Val Accuracy: {val_acc:.4f}, Val Loss: {val_loss:.4f} \\n')\n"
      ]
    },
    {
      "cell_type": "code",
      "execution_count": 32,
      "metadata": {
        "colab": {
          "base_uri": "https://localhost:8080/",
          "height": 489
        },
        "id": "uBU3pw9JmZGM",
        "outputId": "b5ffe42c-5f78-4a46-d8b6-17c076fee2b5"
      },
      "outputs": [
        {
          "data": {
            "text/plain": [
              "<matplotlib.legend.Legend at 0x7fa2ac5bee00>"
            ]
          },
          "execution_count": 32,
          "metadata": {},
          "output_type": "execute_result"
        },
        {
          "data": {
            "image/png": "[encoded data removed]",
            "text/plain": [
              "<Figure size 640x480 with 1 Axes>"
            ]
          },
          "metadata": {},
          "output_type": "display_data"
        }
      ],
      "source": [
        "plt.plot(his['train_acc'], label='train', marker='o')\n",
        "plt.plot(his['val_acc'], label='val', marker='o')\n",
        "plt.title('Accuracy per epoch')\n",
        "plt.xlabel('Epoch')\n",
        "plt.ylabel('Accuracy')\n",
        "plt.legend()"
      ]
    },
    {
      "cell_type": "code",
      "execution_count": 33,
      "metadata": {
        "colab": {
          "base_uri": "https://localhost:8080/",
          "height": 489
        },
        "id": "JWPOMBEimZGM",
        "outputId": "b782b64d-ff40-48a1-826c-32d09985ca81"
      },
      "outputs": [
        {
          "data": {
            "text/plain": [
              "<matplotlib.legend.Legend at 0x7fa2a3a62470>"
            ]
          },
          "execution_count": 33,
          "metadata": {},
          "output_type": "execute_result"
        },
        {
          "data": {
            "image/png": "[encoded data removed]",
            "text/plain": [
              "<Figure size 640x480 with 1 Axes>"
            ]
          },
          "metadata": {},
          "output_type": "display_data"
        }
      ],
      "source": [
        "plt.plot(his['train_loss'], label='train', marker='o')\n",
        "plt.plot(his['val_loss'], label='val', marker='o')\n",
        "plt.title('Loss per epoch')\n",
        "plt.xlabel('Epoch')\n",
        "plt.ylabel('Loss')\n",
        "plt.legend()"
      ]
    },
    {
      "cell_type": "markdown",
      "metadata": {
        "id": "xVsmcovWmZGN"
      },
      "source": [
        "# Test evaluting\n"
      ]
    },
    {
      "cell_type": "code",
      "execution_count": 34,
      "metadata": {
        "id": "g-R-BkGwChCm"
      },
      "outputs": [],
      "source": [
        "def show_model(p_test, Y_test):\n",
        "    test_predict = pd.DataFrame(p_test)\n",
        "\n",
        "    balanced_accuracy = metrics.balanced_accuracy_score(Y_test, test_predict)\n",
        "    accuracy = metrics.accuracy_score(Y_test, test_predict)\n",
        "    precision = metrics.precision_score(Y_test, test_predict)\n",
        "    recall = metrics.recall_score(Y_test, test_predict)\n",
        "    f1 = metrics.f1_score(Y_test, test_predict, labels=['0','1'])\n",
        "    roc_auc = metrics.roc_auc_score(Y_test, test_predict, labels=['0','1'])\n",
        "\n",
        "    print('Balanced Accuracy = {:.3f}'.format(balanced_accuracy))\n",
        "    print('Accuracy = {:.3f}'.format(accuracy))\n",
        "    print('Precision = {:.3f}'.format(precision))\n",
        "    print('Recall = {:.3f}'.format(recall))\n",
        "    print('F1 Score = {:.3f}'.format(f1))\n",
        "    print('ROC AUC Score = {:.3f}'.format(roc_auc))\n",
        "\n",
        "    cm = metrics.confusion_matrix(Y_test, test_predict)\n",
        "\n",
        "    sensitivity = recall\n",
        "    specificity = cm[0, 0] / (cm[0, 0] + cm[0, 1])\n",
        "    g_mean = np.sqrt(sensitivity * specificity)\n",
        "\n",
        "    print('Sensitivity = {:.3f}'.format(sensitivity))\n",
        "    print('Specificity = {:.3f}'.format(specificity))\n",
        "    print('G-mean = {:.3f}'.format(g_mean))\n",
        "\n",
        "    print('Classification_report')\n",
        "    print(metrics.classification_report(Y_test, test_predict, target_names=['0','1']))\n",
        "\n",
        "    print('Confusion Matrix:')\n",
        "    metrics.ConfusionMatrixDisplay(cm).plot()"
      ]
    },
    {
      "cell_type": "code",
      "execution_count": 35,
      "metadata": {
        "colab": {
          "base_uri": "https://localhost:8080/"
        },
        "id": "iFMBx5gkmZGN",
        "outputId": "385a3f21-c8b3-4eea-ee29-e01ed3356d4c"
      },
      "outputs": [
        {
          "name": "stdout",
          "output_type": "stream",
          "text": [
            "Test Accuracy: 0.7165\n",
            "Test Loss: 0.7465\n"
          ]
        }
      ],
      "source": [
        "model_ftt.load_state_dict(torch.load('./Feature_Tokenizer_Transformer_state.pth'))\n",
        "test_acc, test_loss, y_test_pred = evaluating(model_ftt, test_load, criterion)\n",
        "print(f'Test Accuracy: {test_acc:.4f}')\n",
        "print(f'Test Loss: {test_loss:.4f}')"
      ]
    },
    {
      "cell_type": "code",
      "execution_count": 36,
      "metadata": {
        "colab": {
          "base_uri": "https://localhost:8080/",
          "height": 789
        },
        "id": "XSXwwnCK657L",
        "outputId": "3d543eb8-77c7-4d6f-fde7-68de46f1e90d"
      },
      "outputs": [
        {
          "name": "stdout",
          "output_type": "stream",
          "text": [
            "Balanced Accuracy = 0.508\n",
            "Accuracy = 0.648\n",
            "Precision = 0.200\n",
            "Recall = 0.281\n",
            "F1 Score = 0.234\n",
            "ROC AUC Score = 0.508\n",
            "Sensitivity = 0.281\n",
            "Specificity = 0.734\n",
            "G-mean = 0.454\n",
            "Classification_report\n",
            "              precision    recall  f1-score   support\n",
            "\n",
            "           0       0.81      0.73      0.77       919\n",
            "           1       0.20      0.28      0.23       217\n",
            "\n",
            "    accuracy                           0.65      1136\n",
            "   macro avg       0.51      0.51      0.50      1136\n",
            "weighted avg       0.70      0.65      0.67      1136\n",
            "\n",
            "Confusion Matrix:\n"
          ]
        },
        {
          "data": {
            "image/png": "[encoded data removed]",
            "text/plain": [
              "<Figure size 640x480 with 2 Axes>"
            ]
          },
          "metadata": {},
          "output_type": "display_data"
        }
      ],
      "source": [
        "y_test_true = y['test'].cpu().numpy()\n",
        "show_model(y_test_pred, y_test_true)"
      ]
    },
    {
      "cell_type": "markdown",
      "metadata": {
        "id": "1lcyFCPdmZGN"
      },
      "source": [
        "# Tuning"
      ]
    },
    {
      "cell_type": "code",
      "execution_count": 37,
      "metadata": {
        "id": "f55jId9GmZGN"
      },
      "outputs": [],
      "source": [
        "def tuning(model, train_loader, val_loader, criterion, optimizer):\n",
        "    model.train()\n",
        "\n",
        "    # train loader\n",
        "    for x_num, label in train_loader:\n",
        "        optimizer.zero_grad()\n",
        "        x_num = x_num.to(device)\n",
        "        label = label.to(device)\n",
        "        out = torch.sigmoid(model(x_num, None))\n",
        "        loss = criterion(out, label)\n",
        "        loss.backward()\n",
        "        optimizer.step()\n",
        "\n",
        "    # val loader\n",
        "    model.eval()\n",
        "    with torch.no_grad():\n",
        "        loss_now = 0\n",
        "        correlation = 0\n",
        "\n",
        "        for x_num, label in val_loader:\n",
        "            x_num = x_num.to(device)\n",
        "            label = label.to(device)\n",
        "            out = torch.sigmoid(model(x_num, None))\n",
        "            pred = out >= torch.FloatTensor([0.5]).to(device)\n",
        "            correlation += pred.eq(label).sum().item()\n",
        "            loss_now += x_num.size(0) * criterion(out, label).item()\n",
        "\n",
        "    val_acc = correlation/len(val_loader.dataset)\n",
        "    val_loss = loss_now/ len(val_loader.dataset)\n",
        "\n",
        "    return val_acc, val_loss"
      ]
    },
    {
      "cell_type": "code",
      "execution_count": 38,
      "metadata": {
        "id": "qNf2PAEYmZGO"
      },
      "outputs": [],
      "source": [
        "# optuna\n",
        "# hyperparameter\n",
        "# suggest_uniform, suggest_loguniform -> suggest_float, suggest_float(log=True)\n",
        "def objective(trial, train_loader, val_loader):\n",
        "    d_token = trial.suggest_categorical('d_token', [64, 128, 256, 512])\n",
        "    n_blocks = trial.suggest_int('n_blocks', 1, 4, log=True)\n",
        "    attention_dropout = trial.suggest_float('attention_dropout', 0, 0.5)\n",
        "    ffn_d_hidden = trial.suggest_int('ffn_d_hidden', 64, 1028)\n",
        "    ffn_dropout = trial.suggest_float('ffn_dropout', 0, 0.5)\n",
        "    residual_dropout = trial.suggest_float('residual_dropout', 0, 0.2)\n",
        "    lr = trial.suggest_float('lr', 1e-5, 1e-2, log=True)\n",
        "    weight_decay = trial.suggest_float('weigth_decay', 1e-6, 1e-3, log=True)\n",
        "\n",
        "    model_ftt = rtdl.FTTransformer.make_baseline(n_num_features=num_features,\n",
        "                                             cat_cardinalities=[],\n",
        "                                             d_token=d_token,\n",
        "                                             n_blocks=n_blocks,\n",
        "                                             attention_dropout=attention_dropout,\n",
        "                                             ffn_d_hidden=ffn_d_hidden,\n",
        "                                             ffn_dropout=ffn_dropout,\n",
        "                                             residual_dropout=residual_dropout,\n",
        "                                             d_out=1)\n",
        "    model_ftt.to(device)\n",
        "\n",
        "    criterion = nn.BCELoss()\n",
        "    optimizer = optim.AdamW(model_ftt.parameters(), lr=lr, weight_decay=weight_decay)\n",
        "\n",
        "    n_epochs = 15\n",
        "    min_loss = np.inf\n",
        "\n",
        "    for epoch in range(n_epochs):\n",
        "        val_acc, val_loss = tuning(model_ftt, train_loader, val_loader, criterion, optimizer)\n",
        "        if min_loss > val_loss:\n",
        "            min_loss = val_loss\n",
        "\n",
        "    return min_loss"
      ]
    },
    {
      "cell_type": "code",
      "execution_count": 39,
      "metadata": {
        "colab": {
          "base_uri": "https://localhost:8080/"
        },
        "id": "y27Q7UuimZGO",
        "outputId": "cb8d48c6-7642-4522-8767-a479fb9f4c9b"
      },
      "outputs": [
        {
          "name": "stderr",
          "output_type": "stream",
          "text": [
            "[I 2023-12-18 19:19:22,240] A new study created in memory with name: FT-Transformer\n",
            "[I 2023-12-18 19:19:40,106] Trial 0 finished with value: 0.5877066672392631 and parameters: {'d_token': 256, 'n_blocks': 1, 'attention_dropout': 0.0253866283476884, 'ffn_d_hidden': 355, 'ffn_dropout': 0.33195514731235, 'residual_dropout': 0.06162287864737577, 'lr': 0.0005633442017222582, 'weigth_decay': 1.6170105887878455e-06}. Best is trial 0 with value: 0.5877066672392631.\n",
            "[I 2023-12-18 19:20:06,461] Trial 1 finished with value: 0.5440759364872763 and parameters: {'d_token': 64, 'n_blocks': 3, 'attention_dropout': 0.37947191775605715, 'ffn_d_hidden': 1000, 'ffn_dropout': 0.3796512763927764, 'residual_dropout': 0.07685000641802589, 'lr': 0.00016832746705566732, 'weigth_decay': 0.00013806426449912442}. Best is trial 1 with value: 0.5440759364872763.\n",
            "[I 2023-12-18 19:20:26,588] Trial 2 finished with value: 0.5250771200820191 and parameters: {'d_token': 256, 'n_blocks': 2, 'attention_dropout': 0.08391788261075367, 'ffn_d_hidden': 352, 'ffn_dropout': 0.14197152251531692, 'residual_dropout': 0.0654425153235462, 'lr': 0.00024011594547390913, 'weigth_decay': 4.2964036649104274e-05}. Best is trial 2 with value: 0.5250771200820191.\n",
            "[I 2023-12-18 19:20:38,674] Trial 3 finished with value: 0.595873457656059 and parameters: {'d_token': 512, 'n_blocks': 1, 'attention_dropout': 0.3074123555742173, 'ffn_d_hidden': 693, 'ffn_dropout': 0.19340821706714278, 'residual_dropout': 0.08207083571456375, 'lr': 0.002694465631697865, 'weigth_decay': 6.325688416776969e-05}. Best is trial 2 with value: 0.5250771200820191.\n",
            "[I 2023-12-18 19:21:05,657] Trial 4 finished with value: 0.5998740370415118 and parameters: {'d_token': 64, 'n_blocks': 3, 'attention_dropout': 0.4438277186036015, 'ffn_d_hidden': 738, 'ffn_dropout': 0.2271951538053748, 'residual_dropout': 0.061183032957771104, 'lr': 0.0028857135238802138, 'weigth_decay': 2.6241820849180914e-06}. Best is trial 2 with value: 0.5250771200820191.\n",
            "[I 2023-12-18 19:21:18,648] Trial 5 finished with value: 0.605690062046051 and parameters: {'d_token': 512, 'n_blocks': 1, 'attention_dropout': 0.4023048260098239, 'ffn_d_hidden': 833, 'ffn_dropout': 0.3328468238870974, 'residual_dropout': 0.048822499344554696, 'lr': 0.0028712349861834516, 'weigth_decay': 2.52815426958096e-05}. Best is trial 2 with value: 0.5250771200820191.\n",
            "[I 2023-12-18 19:21:30,676] Trial 6 finished with value: 0.5941446004392894 and parameters: {'d_token': 256, 'n_blocks': 1, 'attention_dropout': 0.08962323656258431, 'ffn_d_hidden': 884, 'ffn_dropout': 0.1825561234209927, 'residual_dropout': 0.07620702788217536, 'lr': 1.329298365664037e-05, 'weigth_decay': 7.988941311419133e-05}. Best is trial 2 with value: 0.5250771200820191.\n",
            "[I 2023-12-18 19:21:42,593] Trial 7 finished with value: 0.5880548496768899 and parameters: {'d_token': 128, 'n_blocks': 1, 'attention_dropout': 0.18676054932517328, 'ffn_d_hidden': 432, 'ffn_dropout': 0.2853225110077615, 'residual_dropout': 0.10222734330823656, 'lr': 0.0003865733636663784, 'weigth_decay': 3.712001106743147e-05}. Best is trial 2 with value: 0.5250771200820191.\n",
            "[I 2023-12-18 19:21:54,151] Trial 8 finished with value: 0.6224833735047954 and parameters: {'d_token': 64, 'n_blocks': 1, 'attention_dropout': 0.33769619545643537, 'ffn_d_hidden': 955, 'ffn_dropout': 0.03498470984813046, 'residual_dropout': 0.1563538885204995, 'lr': 1.2744094026775414e-05, 'weigth_decay': 3.366967992935658e-05}. Best is trial 2 with value: 0.5250771200820191.\n",
            "[I 2023-12-18 19:22:06,147] Trial 9 finished with value: 0.5789703944502356 and parameters: {'d_token': 256, 'n_blocks': 1, 'attention_dropout': 0.3024222694512644, 'ffn_d_hidden': 751, 'ffn_dropout': 0.07538727408581358, 'residual_dropout': 0.12295271490015723, 'lr': 2.834999352564659e-05, 'weigth_decay': 2.4277091644083078e-05}. Best is trial 2 with value: 0.5250771200820191.\n",
            "[I 2023-12-18 19:22:25,479] Trial 10 finished with value: 0.5865421409476294 and parameters: {'d_token': 128, 'n_blocks': 2, 'attention_dropout': 0.14565238139691494, 'ffn_d_hidden': 96, 'ffn_dropout': 0.4804678753779671, 'residual_dropout': 0.009355354186027239, 'lr': 9.768911503992436e-05, 'weigth_decay': 0.0009433110091131568}. Best is trial 2 with value: 0.5250771200820191.\n",
            "[I 2023-12-18 19:23:00,533] Trial 11 finished with value: 0.5763060434223855 and parameters: {'d_token': 64, 'n_blocks': 4, 'attention_dropout': 0.4924117619922685, 'ffn_d_hidden': 213, 'ffn_dropout': 0.4862300617046147, 'residual_dropout': 0.021082148124213343, 'lr': 0.00011835138893712765, 'weigth_decay': 0.0001886172771527191}. Best is trial 2 with value: 0.5250771200820191.\n",
            "[I 2023-12-18 19:23:20,143] Trial 12 finished with value: 0.5449188781655543 and parameters: {'d_token': 256, 'n_blocks': 2, 'attention_dropout': 0.21908983522224287, 'ffn_d_hidden': 510, 'ffn_dropout': 0.4019893788034945, 'residual_dropout': 0.1913326729309799, 'lr': 0.00013568527091928337, 'weigth_decay': 0.0003006512162716933}. Best is trial 2 with value: 0.5250771200820191.\n",
            "[I 2023-12-18 19:23:39,659] Trial 13 finished with value: 0.5439966122309366 and parameters: {'d_token': 64, 'n_blocks': 2, 'attention_dropout': 0.06954335931240041, 'ffn_d_hidden': 1021, 'ffn_dropout': 0.1203599139046671, 'residual_dropout': 0.10948875832819176, 'lr': 0.000906008053377857, 'weigth_decay': 6.885923280865445e-06}. Best is trial 2 with value: 0.5250771200820191.\n",
            "[I 2023-12-18 19:23:58,446] Trial 14 finished with value: 0.5260675172555392 and parameters: {'d_token': 64, 'n_blocks': 2, 'attention_dropout': 0.00041850122336822837, 'ffn_d_hidden': 301, 'ffn_dropout': 0.1170412366190281, 'residual_dropout': 0.12329086017132426, 'lr': 0.0010280276258473268, 'weigth_decay': 7.294501561308964e-06}. Best is trial 2 with value: 0.5250771200820191.\n",
            "[I 2023-12-18 19:24:26,460] Trial 15 finished with value: 0.6035885854398824 and parameters: {'d_token': 256, 'n_blocks': 3, 'attention_dropout': 0.01381668440482315, 'ffn_d_hidden': 305, 'ffn_dropout': 0.13555967175362343, 'residual_dropout': 0.13644334128367422, 'lr': 0.007629227434060338, 'weigth_decay': 6.8880183776973775e-06}. Best is trial 2 with value: 0.5250771200820191.\n",
            "[I 2023-12-18 19:24:46,724] Trial 16 finished with value: 0.5948100549989639 and parameters: {'d_token': 512, 'n_blocks': 2, 'attention_dropout': 0.12589043731682797, 'ffn_d_hidden': 578, 'ffn_dropout': 0.0036195825985917973, 'residual_dropout': 0.16409658422881349, 'lr': 0.0013977929853535489, 'weigth_decay': 9.486678494649094e-06}. Best is trial 2 with value: 0.5250771200820191.\n",
            "[I 2023-12-18 19:25:23,555] Trial 17 finished with value: 0.5216323918403556 and parameters: {'d_token': 128, 'n_blocks': 4, 'attention_dropout': 0.00892453131783974, 'ffn_d_hidden': 155, 'ffn_dropout': 0.10812942073651094, 'residual_dropout': 0.03814148051305602, 'lr': 4.9291548709663074e-05, 'weigth_decay': 3.4676203475821736e-06}. Best is trial 17 with value: 0.5216323918403556.\n",
            "[I 2023-12-18 19:25:59,051] Trial 18 finished with value: 0.5046520135174059 and parameters: {'d_token': 128, 'n_blocks': 4, 'attention_dropout': 0.09245188816871447, 'ffn_d_hidden': 101, 'ffn_dropout': 0.07178940255341831, 'residual_dropout': 0.03388599679897931, 'lr': 5.431686344817729e-05, 'weigth_decay': 1.1345647521285956e-06}. Best is trial 18 with value: 0.5046520135174059.\n",
            "[I 2023-12-18 19:26:34,136] Trial 19 finished with value: 0.5410439989882517 and parameters: {'d_token': 128, 'n_blocks': 4, 'attention_dropout': 0.16212950302625756, 'ffn_d_hidden': 72, 'ffn_dropout': 0.0664992748030036, 'residual_dropout': 0.03547989378816134, 'lr': 4.738216721780542e-05, 'weigth_decay': 1.1412724797975065e-06}. Best is trial 18 with value: 0.5046520135174059.\n",
            "[I 2023-12-18 19:27:10,158] Trial 20 finished with value: 0.5167460915160506 and parameters: {'d_token': 128, 'n_blocks': 4, 'attention_dropout': 0.24501953100606888, 'ffn_d_hidden': 179, 'ffn_dropout': 0.07221511208982248, 'residual_dropout': 0.032564597676867556, 'lr': 5.2685373472536366e-05, 'weigth_decay': 3.499401009852253e-06}. Best is trial 18 with value: 0.5046520135174059.\n",
            "[I 2023-12-18 19:27:45,755] Trial 21 finished with value: 0.50952461879003 and parameters: {'d_token': 128, 'n_blocks': 4, 'attention_dropout': 0.24310860011332927, 'ffn_d_hidden': 165, 'ffn_dropout': 0.07537172294856342, 'residual_dropout': 0.004442510960292828, 'lr': 4.985135761602177e-05, 'weigth_decay': 3.1119662929104047e-06}. Best is trial 18 with value: 0.5046520135174059.\n",
            "[I 2023-12-18 19:28:13,261] Trial 22 finished with value: 0.5228880251923652 and parameters: {'d_token': 128, 'n_blocks': 3, 'attention_dropout': 0.26602816421054, 'ffn_d_hidden': 214, 'ffn_dropout': 0.002960532809760899, 'residual_dropout': 0.0007018439722314279, 'lr': 2.8397982356783707e-05, 'weigth_decay': 2.6853907784046784e-06}. Best is trial 18 with value: 0.5046520135174059.\n",
            "[I 2023-12-18 19:28:48,952] Trial 23 finished with value: 0.5081509960024324 and parameters: {'d_token': 128, 'n_blocks': 4, 'attention_dropout': 0.24268238165058545, 'ffn_d_hidden': 178, 'ffn_dropout': 0.05653320776130244, 'residual_dropout': 0.02564622745378399, 'lr': 6.0418253578184766e-05, 'weigth_decay': 1.040357631818134e-06}. Best is trial 18 with value: 0.5046520135174059.\n",
            "[I 2023-12-18 19:29:16,273] Trial 24 finished with value: 0.5465894052971444 and parameters: {'d_token': 128, 'n_blocks': 3, 'attention_dropout': 0.2015636099852731, 'ffn_d_hidden': 72, 'ffn_dropout': 0.04761607976191684, 'residual_dropout': 0.014644937776713385, 'lr': 2.4441486013380577e-05, 'weigth_decay': 1.124136434813695e-06}. Best is trial 18 with value: 0.5046520135174059.\n",
            "[I 2023-12-18 19:29:52,026] Trial 25 finished with value: 0.5186347570865666 and parameters: {'d_token': 128, 'n_blocks': 4, 'attention_dropout': 0.26323639615775263, 'ffn_d_hidden': 250, 'ffn_dropout': 0.17975428747716382, 'residual_dropout': 0.00012026766714776961, 'lr': 7.281409779005643e-05, 'weigth_decay': 1.6903037201243767e-06}. Best is trial 18 with value: 0.5046520135174059.\n",
            "[I 2023-12-18 19:30:19,406] Trial 26 finished with value: 0.5432609496595653 and parameters: {'d_token': 128, 'n_blocks': 3, 'attention_dropout': 0.11666747919998574, 'ffn_d_hidden': 146, 'ffn_dropout': 0.0330693899427536, 'residual_dropout': 0.024448071195232395, 'lr': 2.043693986224883e-05, 'weigth_decay': 1.8467714515524312e-06}. Best is trial 18 with value: 0.5046520135174059.\n",
            "[I 2023-12-18 19:30:54,794] Trial 27 finished with value: 0.49652305395091506 and parameters: {'d_token': 128, 'n_blocks': 4, 'attention_dropout': 0.2329759814433704, 'ffn_d_hidden': 448, 'ffn_dropout': 0.2436084535197807, 'residual_dropout': 0.052648460352792394, 'lr': 0.00021485474478824505, 'weigth_decay': 1.329353247929848e-05}. Best is trial 27 with value: 0.49652305395091506.\n",
            "[I 2023-12-18 19:31:22,271] Trial 28 finished with value: 0.5438393261879002 and parameters: {'d_token': 128, 'n_blocks': 3, 'attention_dropout': 0.34233294215590815, 'ffn_d_hidden': 440, 'ffn_dropout': 0.2661802622909041, 'residual_dropout': 0.04826220846629444, 'lr': 0.00025038495137764673, 'weigth_decay': 1.409012720661767e-05}. Best is trial 27 with value: 0.49652305395091506.\n",
            "[I 2023-12-18 19:31:57,565] Trial 29 finished with value: 0.5248023840390383 and parameters: {'d_token': 128, 'n_blocks': 4, 'attention_dropout': 0.17483863630121385, 'ffn_d_hidden': 598, 'ffn_dropout': 0.22120487373254177, 'residual_dropout': 0.05388920292264115, 'lr': 0.0006053330607641824, 'weigth_decay': 1.4629353052733096e-05}. Best is trial 27 with value: 0.49652305395091506.\n",
            "[I 2023-12-18 19:32:25,445] Trial 30 finished with value: 0.4974485491508763 and parameters: {'d_token': 128, 'n_blocks': 3, 'attention_dropout': 0.22352641206701854, 'ffn_d_hidden': 458, 'ffn_dropout': 0.1688563797710843, 'residual_dropout': 0.040924206955641224, 'lr': 0.0003561128005332989, 'weigth_decay': 4.973521895198784e-06}. Best is trial 27 with value: 0.49652305395091506.\n",
            "[I 2023-12-18 19:33:00,139] Trial 31 finished with value: 0.5107740482238874 and parameters: {'d_token': 128, 'n_blocks': 4, 'attention_dropout': 0.21835707740862292, 'ffn_d_hidden': 454, 'ffn_dropout': 0.30381250802014903, 'residual_dropout': 0.040192600908333265, 'lr': 0.0003660546213025203, 'weigth_decay': 5.390400306139296e-06}. Best is trial 27 with value: 0.49652305395091506.\n",
            "[I 2023-12-18 19:33:27,617] Trial 32 finished with value: 0.528430328249387 and parameters: {'d_token': 128, 'n_blocks': 3, 'attention_dropout': 0.30881409405668286, 'ffn_d_hidden': 399, 'ffn_dropout': 0.17039073786237796, 'residual_dropout': 0.0885722075207119, 'lr': 0.00019214868597793944, 'weigth_decay': 1.0120167991587753e-06}. Best is trial 27 with value: 0.49652305395091506.\n",
            "[I 2023-12-18 19:33:55,373] Trial 33 finished with value: 0.5352930527299506 and parameters: {'d_token': 128, 'n_blocks': 3, 'attention_dropout': 0.2700809578810517, 'ffn_d_hidden': 324, 'ffn_dropout': 0.24950949354757845, 'residual_dropout': 0.06900941665496782, 'lr': 8.295180498101626e-05, 'weigth_decay': 1.3424086883462988e-05}. Best is trial 27 with value: 0.49652305395091506.\n",
            "[I 2023-12-18 19:34:31,247] Trial 34 finished with value: 0.4598969765449768 and parameters: {'d_token': 128, 'n_blocks': 4, 'attention_dropout': 0.05633571882908772, 'ffn_d_hidden': 529, 'ffn_dropout': 0.15680906610269654, 'residual_dropout': 0.023306414142002692, 'lr': 0.00018315266700252362, 'weigth_decay': 4.7121678184506015e-06}. Best is trial 34 with value: 0.4598969765449768.\n",
            "[I 2023-12-18 19:34:59,597] Trial 35 finished with value: 0.5838389042849954 and parameters: {'d_token': 512, 'n_blocks': 3, 'attention_dropout': 0.05643414315493938, 'ffn_d_hidden': 661, 'ffn_dropout': 0.2096258914674334, 'residual_dropout': 0.05973138686296905, 'lr': 0.0004953767484319566, 'weigth_decay': 4.764404916948775e-06}. Best is trial 34 with value: 0.4598969765449768.\n",
            "[I 2023-12-18 19:35:34,152] Trial 36 finished with value: 0.46885787950803154 and parameters: {'d_token': 128, 'n_blocks': 4, 'attention_dropout': 0.04058672910953868, 'ffn_d_hidden': 528, 'ffn_dropout': 0.16626453181608872, 'residual_dropout': 0.04775920061688246, 'lr': 0.00021838537336553261, 'weigth_decay': 1.0167108682353842e-05}. Best is trial 34 with value: 0.4598969765449768.\n",
            "[I 2023-12-18 19:36:10,144] Trial 37 finished with value: 0.5310549066491324 and parameters: {'d_token': 512, 'n_blocks': 4, 'attention_dropout': 0.046504730735601796, 'ffn_d_hidden': 520, 'ffn_dropout': 0.155770726021824, 'residual_dropout': 0.08549141515079993, 'lr': 0.00023094080351938716, 'weigth_decay': 2.0026611800169005e-05}. Best is trial 34 with value: 0.4598969765449768.\n",
            "[I 2023-12-18 19:36:37,395] Trial 38 finished with value: 0.49715754988530997 and parameters: {'d_token': 128, 'n_blocks': 3, 'attention_dropout': 0.11251189496708652, 'ffn_d_hidden': 643, 'ffn_dropout': 0.24326358920391228, 'residual_dropout': 0.07602511576397077, 'lr': 0.00014951357745151793, 'weigth_decay': 1.007667088322605e-05}. Best is trial 34 with value: 0.4598969765449768.\n",
            "[I 2023-12-18 19:37:04,569] Trial 39 finished with value: 0.4983739433767589 and parameters: {'d_token': 128, 'n_blocks': 3, 'attention_dropout': 0.04046906343926267, 'ffn_d_hidden': 660, 'ffn_dropout': 0.3464354795889059, 'residual_dropout': 0.06907461000383873, 'lr': 0.00014774542887381373, 'weigth_decay': 5.586744751495928e-05}. Best is trial 34 with value: 0.4598969765449768.\n",
            "[I 2023-12-18 19:37:39,967] Trial 40 finished with value: 0.5090374313805202 and parameters: {'d_token': 128, 'n_blocks': 4, 'attention_dropout': 0.1027846273695765, 'ffn_d_hidden': 783, 'ffn_dropout': 0.23624627873289192, 'residual_dropout': 0.09514268469094907, 'lr': 0.0006008167663497625, 'weigth_decay': 1.0612013619152712e-05}. Best is trial 34 with value: 0.4598969765449768.\n",
            "[I 2023-12-18 19:38:06,930] Trial 41 finished with value: 0.5077870052699085 and parameters: {'d_token': 128, 'n_blocks': 3, 'attention_dropout': 0.14140302688764456, 'ffn_d_hidden': 486, 'ffn_dropout': 0.20204300285118867, 'residual_dropout': 0.04975498187354086, 'lr': 0.0003057127169949135, 'weigth_decay': 5.074121280990689e-06}. Best is trial 34 with value: 0.4598969765449768.\n",
            "[I 2023-12-18 19:38:42,386] Trial 42 finished with value: 0.5217227807872371 and parameters: {'d_token': 128, 'n_blocks': 4, 'attention_dropout': 0.0762177861667662, 'ffn_d_hidden': 564, 'ffn_dropout': 0.27597221699373337, 'residual_dropout': 0.07281951866535988, 'lr': 0.00020325436062470308, 'weigth_decay': 1.7301877486858785e-05}. Best is trial 34 with value: 0.4598969765449768.\n",
            "[I 2023-12-18 19:39:09,887] Trial 43 finished with value: 0.5053277042902768 and parameters: {'d_token': 128, 'n_blocks': 3, 'attention_dropout': 0.035048735858289645, 'ffn_d_hidden': 392, 'ffn_dropout': 0.15143043964811903, 'residual_dropout': 0.05898176129120726, 'lr': 0.00044799889664820226, 'weigth_decay': 9.951359028188271e-06}. Best is trial 34 with value: 0.4598969765449768.\n",
            "[I 2023-12-18 19:39:37,635] Trial 44 finished with value: 0.47697869923016795 and parameters: {'d_token': 256, 'n_blocks': 3, 'attention_dropout': 0.16108398206275806, 'ffn_d_hidden': 626, 'ffn_dropout': 0.18972841608801969, 'residual_dropout': 0.043343457271014484, 'lr': 0.00011046138303496, 'weigth_decay': 2.2901324800549923e-05}. Best is trial 34 with value: 0.4598969765449768.\n",
            "[I 2023-12-18 19:40:13,570] Trial 45 finished with value: 0.49636175711405334 and parameters: {'d_token': 256, 'n_blocks': 4, 'attention_dropout': 0.15246990585783426, 'ffn_d_hidden': 617, 'ffn_dropout': 0.24065634564466756, 'residual_dropout': 0.0794010720705044, 'lr': 0.00010441276953483377, 'weigth_decay': 2.785836848137179e-05}. Best is trial 34 with value: 0.4598969765449768.\n",
            "[I 2023-12-18 19:40:49,711] Trial 46 finished with value: 0.472870522029868 and parameters: {'d_token': 256, 'n_blocks': 4, 'attention_dropout': 0.18592852238894003, 'ffn_d_hidden': 713, 'ffn_dropout': 0.2002714861311003, 'residual_dropout': 0.016534682606051995, 'lr': 0.00010534777775826298, 'weigth_decay': 4.6960436906549206e-05}. Best is trial 34 with value: 0.4598969765449768.\n",
            "[I 2023-12-18 19:41:25,525] Trial 47 finished with value: 0.4650838641815534 and parameters: {'d_token': 256, 'n_blocks': 4, 'attention_dropout': 0.1531899214551488, 'ffn_d_hidden': 725, 'ffn_dropout': 0.1935621530468341, 'residual_dropout': 0.012811210509840291, 'lr': 8.82985646432117e-05, 'weigth_decay': 4.4519012655448885e-05}. Best is trial 34 with value: 0.4598969765449768.\n",
            "[I 2023-12-18 19:42:00,850] Trial 48 finished with value: 0.48317561628611666 and parameters: {'d_token': 256, 'n_blocks': 4, 'attention_dropout': 0.180679650789075, 'ffn_d_hidden': 708, 'ffn_dropout': 0.10701638562938098, 'residual_dropout': 0.013187354926371903, 'lr': 3.5821357593807336e-05, 'weigth_decay': 0.00011000054029723081}. Best is trial 34 with value: 0.4598969765449768.\n",
            "[I 2023-12-18 19:42:36,666] Trial 49 finished with value: 0.4901085792611179 and parameters: {'d_token': 256, 'n_blocks': 4, 'attention_dropout': 0.13754622647758877, 'ffn_d_hidden': 872, 'ffn_dropout': 0.2005096419649346, 'residual_dropout': 0.018827123513845717, 'lr': 9.119189740082261e-05, 'weigth_decay': 4.4142781384430214e-05}. Best is trial 34 with value: 0.4598969765449768.\n"
          ]
        },
        {
          "name": "stdout",
          "output_type": "stream",
          "text": [
            "\n",
            "Best Score: 0.4598969765449768\n",
            "Best trial: {'d_token': 128, 'n_blocks': 4, 'attention_dropout': 0.05633571882908772, 'ffn_d_hidden': 529, 'ffn_dropout': 0.15680906610269654, 'residual_dropout': 0.023306414142002692, 'lr': 0.00018315266700252362, 'weigth_decay': 4.7121678184506015e-06}\n"
          ]
        }
      ],
      "source": [
        "study = optuna.create_study(study_name='FT-Transformer', direction='minimize', sampler=TPESampler(seed=21))\n",
        "study.optimize(lambda trial: objective(trial, train_load, val_load), n_trials=50)\n",
        "print('\\nBest Score:', study.best_value)\n",
        "print('Best trial:', study.best_trial.params)"
      ]
    },
    {
      "cell_type": "code",
      "execution_count": 40,
      "metadata": {
        "colab": {
          "base_uri": "https://localhost:8080/",
          "height": 542
        },
        "id": "rTGiiJ1AmZGO",
        "outputId": "7c1cc28e-d54e-463b-b212-dfd71cdb6b35"
      },
      "outputs": [
        {
          "data": {
            "text/html": [
              "<html>\n",
              "<head><meta charset=\"utf-8\" /></head>\n",
              "<body>\n",
              "    <div>            <script src=\"https://cdnjs.cloudflare.com/ajax/libs/mathjax/2.7.5/MathJax.js?config=TeX-AMS-MML_SVG\"></script><script type=\"text/javascript\">if (window.MathJax && window.MathJax.Hub && window.MathJax.Hub.Config) {window.MathJax.Hub.Config({SVG: {font: \"STIX-Web\"}});}</script>                <script type=\"text/javascript\">window.PlotlyConfig = {MathJaxConfig: 'local'};</script>\n",
              "        <script charset=\"utf-8\" src=\"https://cdn.plot.ly/plotly-2.24.1.min.js\"></script>                <div id=\"58fd02cd-08b9-4f8e-be18-3e7231ad35ff\" class=\"plotly-graph-div\" style=\"height:525px; width:100%;\"></div>            <script type=\"text/javascript\">                                    window.PLOTLYENV=window.PLOTLYENV || {};                                    if (document.getElementById(\"58fd02cd-08b9-4f8e-be18-3e7231ad35ff\")) {                    Plotly.newPlot(                        \"58fd02cd-08b9-4f8e-be18-3e7231ad35ff\",                        [{\"mode\":\"markers\",\"name\":\"Objective Value\",\"x\":[0,1,2,3,4,5,6,7,8,9,10,11,12,13,14,15,16,17,18,19,20,21,22,23,24,25,26,27,28,29,30,31,32,33,34,35,36,37,38,39,40,41,42,43,44,45,46,47,48,49],\"y\":[0.5877066672392631,0.5440759364872763,0.5250771200820191,0.595873457656059,0.5998740370415118,0.605690062046051,0.5941446004392894,0.5880548496768899,0.6224833735047954,0.5789703944502356,0.5865421409476294,0.5763060434223855,0.5449188781655543,0.5439966122309366,0.5260675172555392,0.6035885854398824,0.5948100549989639,0.5216323918403556,0.5046520135174059,0.5410439989882517,0.5167460915160506,0.50952461879003,0.5228880251923652,0.5081509960024324,0.5465894052971444,0.5186347570865666,0.5432609496595653,0.49652305395091506,0.5438393261879002,0.5248023840390383,0.4974485491508763,0.5107740482238874,0.528430328249387,0.5352930527299506,0.4598969765449768,0.5838389042849954,0.46885787950803154,0.5310549066491324,0.49715754988530997,0.4983739433767589,0.5090374313805202,0.5077870052699085,0.5217227807872371,0.5053277042902768,0.47697869923016795,0.49636175711405334,0.472870522029868,0.4650838641815534,0.48317561628611666,0.4901085792611179],\"type\":\"scatter\"},{\"mode\":\"lines\",\"name\":\"Best Value\",\"x\":[0,1,2,3,4,5,6,7,8,9,10,11,12,13,14,15,16,17,18,19,20,21,22,23,24,25,26,27,28,29,30,31,32,33,34,35,36,37,38,39,40,41,42,43,44,45,46,47,48,49],\"y\":[0.5877066672392631,0.5440759364872763,0.5250771200820191,0.5250771200820191,0.5250771200820191,0.5250771200820191,0.5250771200820191,0.5250771200820191,0.5250771200820191,0.5250771200820191,0.5250771200820191,0.5250771200820191,0.5250771200820191,0.5250771200820191,0.5250771200820191,0.5250771200820191,0.5250771200820191,0.5216323918403556,0.5046520135174059,0.5046520135174059,0.5046520135174059,0.5046520135174059,0.5046520135174059,0.5046520135174059,0.5046520135174059,0.5046520135174059,0.5046520135174059,0.49652305395091506,0.49652305395091506,0.49652305395091506,0.49652305395091506,0.49652305395091506,0.49652305395091506,0.49652305395091506,0.4598969765449768,0.4598969765449768,0.4598969765449768,0.4598969765449768,0.4598969765449768,0.4598969765449768,0.4598969765449768,0.4598969765449768,0.4598969765449768,0.4598969765449768,0.4598969765449768,0.4598969765449768,0.4598969765449768,0.4598969765449768,0.4598969765449768,0.4598969765449768],\"type\":\"scatter\"},{\"marker\":{\"color\":\"#cccccc\"},\"mode\":\"markers\",\"name\":\"Infeasible Trial\",\"showlegend\":false,\"x\":[],\"y\":[],\"type\":\"scatter\"}],                        {\"title\":{\"text\":\"Optimization History Plot\"},\"xaxis\":{\"title\":{\"text\":\"Trial\"}},\"yaxis\":{\"title\":{\"text\":\"Objective Value\"}},\"template\":{\"data\":{\"histogram2dcontour\":[{\"type\":\"histogram2dcontour\",\"colorbar\":{\"outlinewidth\":0,\"ticks\":\"\"},\"colorscale\":[[0.0,\"#0d0887\"],[0.1111111111111111,\"#46039f\"],[0.2222222222222222,\"#7201a8\"],[0.3333333333333333,\"#9c179e\"],[0.4444444444444444,\"#bd3786\"],[0.5555555555555556,\"#d8576b\"],[0.6666666666666666,\"#ed7953\"],[0.7777777777777778,\"#fb9f3a\"],[0.8888888888888888,\"#fdca26\"],[1.0,\"#f0f921\"]]}],\"choropleth\":[{\"type\":\"choropleth\",\"colorbar\":{\"outlinewidth\":0,\"ticks\":\"\"}}],\"histogram2d\":[{\"type\":\"histogram2d\",\"colorbar\":{\"outlinewidth\":0,\"ticks\":\"\"},\"colorscale\":[[0.0,\"#0d0887\"],[0.1111111111111111,\"#46039f\"],[0.2222222222222222,\"#7201a8\"],[0.3333333333333333,\"#9c179e\"],[0.4444444444444444,\"#bd3786\"],[0.5555555555555556,\"#d8576b\"],[0.6666666666666666,\"#ed7953\"],[0.7777777777777778,\"#fb9f3a\"],[0.8888888888888888,\"#fdca26\"],[1.0,\"#f0f921\"]]}],\"heatmap\":[{\"type\":\"heatmap\",\"colorbar\":{\"outlinewidth\":0,\"ticks\":\"\"},\"colorscale\":[[0.0,\"#0d0887\"],[0.1111111111111111,\"#46039f\"],[0.2222222222222222,\"#7201a8\"],[0.3333333333333333,\"#9c179e\"],[0.4444444444444444,\"#bd3786\"],[0.5555555555555556,\"#d8576b\"],[0.6666666666666666,\"#ed7953\"],[0.7777777777777778,\"#fb9f3a\"],[0.8888888888888888,\"#fdca26\"],[1.0,\"#f0f921\"]]}],\"heatmapgl\":[{\"type\":\"heatmapgl\",\"colorbar\":{\"outlinewidth\":0,\"ticks\":\"\"},\"colorscale\":[[0.0,\"#0d0887\"],[0.1111111111111111,\"#46039f\"],[0.2222222222222222,\"#7201a8\"],[0.3333333333333333,\"#9c179e\"],[0.4444444444444444,\"#bd3786\"],[0.5555555555555556,\"#d8576b\"],[0.6666666666666666,\"#ed7953\"],[0.7777777777777778,\"#fb9f3a\"],[0.8888888888888888,\"#fdca26\"],[1.0,\"#f0f921\"]]}],\"contourcarpet\":[{\"type\":\"contourcarpet\",\"colorbar\":{\"outlinewidth\":0,\"ticks\":\"\"}}],\"contour\":[{\"type\":\"contour\",\"colorbar\":{\"outlinewidth\":0,\"ticks\":\"\"},\"colorscale\":[[0.0,\"#0d0887\"],[0.1111111111111111,\"#46039f\"],[0.2222222222222222,\"#7201a8\"],[0.3333333333333333,\"#9c179e\"],[0.4444444444444444,\"#bd3786\"],[0.5555555555555556,\"#d8576b\"],[0.6666666666666666,\"#ed7953\"],[0.7777777777777778,\"#fb9f3a\"],[0.8888888888888888,\"#fdca26\"],[1.0,\"#f0f921\"]]}],\"surface\":[{\"type\":\"surface\",\"colorbar\":{\"outlinewidth\":0,\"ticks\":\"\"},\"colorscale\":[[0.0,\"#0d0887\"],[0.1111111111111111,\"#46039f\"],[0.2222222222222222,\"#7201a8\"],[0.3333333333333333,\"#9c179e\"],[0.4444444444444444,\"#bd3786\"],[0.5555555555555556,\"#d8576b\"],[0.6666666666666666,\"#ed7953\"],[0.7777777777777778,\"#fb9f3a\"],[0.8888888888888888,\"#fdca26\"],[1.0,\"#f0f921\"]]}],\"mesh3d\":[{\"type\":\"mesh3d\",\"colorbar\":{\"outlinewidth\":0,\"ticks\":\"\"}}],\"scatter\":[{\"fillpattern\":{\"fillmode\":\"overlay\",\"size\":10,\"solidity\":0.2},\"type\":\"scatter\"}],\"parcoords\":[{\"type\":\"parcoords\",\"line\":{\"colorbar\":{\"outlinewidth\":0,\"ticks\":\"\"}}}],\"scatterpolargl\":[{\"type\":\"scatterpolargl\",\"marker\":{\"colorbar\":{\"outlinewidth\":0,\"ticks\":\"\"}}}],\"bar\":[{\"error_x\":{\"color\":\"#2a3f5f\"},\"error_y\":{\"color\":\"#2a3f5f\"},\"marker\":{\"line\":{\"color\":\"#E5ECF6\",\"width\":0.5},\"pattern\":{\"fillmode\":\"overlay\",\"size\":10,\"solidity\":0.2}},\"type\":\"bar\"}],\"scattergeo\":[{\"type\":\"scattergeo\",\"marker\":{\"colorbar\":{\"outlinewidth\":0,\"ticks\":\"\"}}}],\"scatterpolar\":[{\"type\":\"scatterpolar\",\"marker\":{\"colorbar\":{\"outlinewidth\":0,\"ticks\":\"\"}}}],\"histogram\":[{\"marker\":{\"pattern\":{\"fillmode\":\"overlay\",\"size\":10,\"solidity\":0.2}},\"type\":\"histogram\"}],\"scattergl\":[{\"type\":\"scattergl\",\"marker\":{\"colorbar\":{\"outlinewidth\":0,\"ticks\":\"\"}}}],\"scatter3d\":[{\"type\":\"scatter3d\",\"line\":{\"colorbar\":{\"outlinewidth\":0,\"ticks\":\"\"}},\"marker\":{\"colorbar\":{\"outlinewidth\":0,\"ticks\":\"\"}}}],\"scattermapbox\":[{\"type\":\"scattermapbox\",\"marker\":{\"colorbar\":{\"outlinewidth\":0,\"ticks\":\"\"}}}],\"scatterternary\":[{\"type\":\"scatterternary\",\"marker\":{\"colorbar\":{\"outlinewidth\":0,\"ticks\":\"\"}}}],\"scattercarpet\":[{\"type\":\"scattercarpet\",\"marker\":{\"colorbar\":{\"outlinewidth\":0,\"ticks\":\"\"}}}],\"carpet\":[{\"aaxis\":{\"endlinecolor\":\"#2a3f5f\",\"gridcolor\":\"white\",\"linecolor\":\"white\",\"minorgridcolor\":\"white\",\"startlinecolor\":\"#2a3f5f\"},\"baxis\":{\"endlinecolor\":\"#2a3f5f\",\"gridcolor\":\"white\",\"linecolor\":\"white\",\"minorgridcolor\":\"white\",\"startlinecolor\":\"#2a3f5f\"},\"type\":\"carpet\"}],\"table\":[{\"cells\":{\"fill\":{\"color\":\"#EBF0F8\"},\"line\":{\"color\":\"white\"}},\"header\":{\"fill\":{\"color\":\"#C8D4E3\"},\"line\":{\"color\":\"white\"}},\"type\":\"table\"}],\"barpolar\":[{\"marker\":{\"line\":{\"color\":\"#E5ECF6\",\"width\":0.5},\"pattern\":{\"fillmode\":\"overlay\",\"size\":10,\"solidity\":0.2}},\"type\":\"barpolar\"}],\"pie\":[{\"automargin\":true,\"type\":\"pie\"}]},\"layout\":{\"autotypenumbers\":\"strict\",\"colorway\":[\"#636efa\",\"#EF553B\",\"#00cc96\",\"#ab63fa\",\"#FFA15A\",\"#19d3f3\",\"#FF6692\",\"#B6E880\",\"#FF97FF\",\"#FECB52\"],\"font\":{\"color\":\"#2a3f5f\"},\"hovermode\":\"closest\",\"hoverlabel\":{\"align\":\"left\"},\"paper_bgcolor\":\"white\",\"plot_bgcolor\":\"#E5ECF6\",\"polar\":{\"bgcolor\":\"#E5ECF6\",\"angularaxis\":{\"gridcolor\":\"white\",\"linecolor\":\"white\",\"ticks\":\"\"},\"radialaxis\":{\"gridcolor\":\"white\",\"linecolor\":\"white\",\"ticks\":\"\"}},\"ternary\":{\"bgcolor\":\"#E5ECF6\",\"aaxis\":{\"gridcolor\":\"white\",\"linecolor\":\"white\",\"ticks\":\"\"},\"baxis\":{\"gridcolor\":\"white\",\"linecolor\":\"white\",\"ticks\":\"\"},\"caxis\":{\"gridcolor\":\"white\",\"linecolor\":\"white\",\"ticks\":\"\"}},\"coloraxis\":{\"colorbar\":{\"outlinewidth\":0,\"ticks\":\"\"}},\"colorscale\":{\"sequential\":[[0.0,\"#0d0887\"],[0.1111111111111111,\"#46039f\"],[0.2222222222222222,\"#7201a8\"],[0.3333333333333333,\"#9c179e\"],[0.4444444444444444,\"#bd3786\"],[0.5555555555555556,\"#d8576b\"],[0.6666666666666666,\"#ed7953\"],[0.7777777777777778,\"#fb9f3a\"],[0.8888888888888888,\"#fdca26\"],[1.0,\"#f0f921\"]],\"sequentialminus\":[[0.0,\"#0d0887\"],[0.1111111111111111,\"#46039f\"],[0.2222222222222222,\"#7201a8\"],[0.3333333333333333,\"#9c179e\"],[0.4444444444444444,\"#bd3786\"],[0.5555555555555556,\"#d8576b\"],[0.6666666666666666,\"#ed7953\"],[0.7777777777777778,\"#fb9f3a\"],[0.8888888888888888,\"#fdca26\"],[1.0,\"#f0f921\"]],\"diverging\":[[0,\"#8e0152\"],[0.1,\"#c51b7d\"],[0.2,\"#de77ae\"],[0.3,\"#f1b6da\"],[0.4,\"#fde0ef\"],[0.5,\"#f7f7f7\"],[0.6,\"#e6f5d0\"],[0.7,\"#b8e186\"],[0.8,\"#7fbc41\"],[0.9,\"#4d9221\"],[1,\"#276419\"]]},\"xaxis\":{\"gridcolor\":\"white\",\"linecolor\":\"white\",\"ticks\":\"\",\"title\":{\"standoff\":15},\"zerolinecolor\":\"white\",\"automargin\":true,\"zerolinewidth\":2},\"yaxis\":{\"gridcolor\":\"white\",\"linecolor\":\"white\",\"ticks\":\"\",\"title\":{\"standoff\":15},\"zerolinecolor\":\"white\",\"automargin\":true,\"zerolinewidth\":2},\"scene\":{\"xaxis\":{\"backgroundcolor\":\"#E5ECF6\",\"gridcolor\":\"white\",\"linecolor\":\"white\",\"showbackground\":true,\"ticks\":\"\",\"zerolinecolor\":\"white\",\"gridwidth\":2},\"yaxis\":{\"backgroundcolor\":\"#E5ECF6\",\"gridcolor\":\"white\",\"linecolor\":\"white\",\"showbackground\":true,\"ticks\":\"\",\"zerolinecolor\":\"white\",\"gridwidth\":2},\"zaxis\":{\"backgroundcolor\":\"#E5ECF6\",\"gridcolor\":\"white\",\"linecolor\":\"white\",\"showbackground\":true,\"ticks\":\"\",\"zerolinecolor\":\"white\",\"gridwidth\":2}},\"shapedefaults\":{\"line\":{\"color\":\"#2a3f5f\"}},\"annotationdefaults\":{\"arrowcolor\":\"#2a3f5f\",\"arrowhead\":0,\"arrowwidth\":1},\"geo\":{\"bgcolor\":\"white\",\"landcolor\":\"#E5ECF6\",\"subunitcolor\":\"white\",\"showland\":true,\"showlakes\":true,\"lakecolor\":\"white\"},\"title\":{\"x\":0.05},\"mapbox\":{\"style\":\"light\"}}}},                        {\"responsive\": true}                    ).then(function(){\n",
              "                            \n",
              "var gd = document.getElementById('58fd02cd-08b9-4f8e-be18-3e7231ad35ff');\n",
              "var x = new MutationObserver(function (mutations, observer) {{\n",
              "        var display = window.getComputedStyle(gd).display;\n",
              "        if (!display || display === 'none') {{\n",
              "            console.log([gd, 'removed!']);\n",
              "            Plotly.purge(gd);\n",
              "            observer.disconnect();\n",
              "        }}\n",
              "}});\n",
              "\n",
              "// Listen for the removal of the full notebook cells\n",
              "var notebookContainer = gd.closest('#notebook-container');\n",
              "if (notebookContainer) {{\n",
              "    x.observe(notebookContainer, {childList: true});\n",
              "}}\n",
              "\n",
              "// Listen for the clearing of the current output cell\n",
              "var outputEl = gd.closest('.output');\n",
              "if (outputEl) {{\n",
              "    x.observe(outputEl, {childList: true});\n",
              "}}\n",
              "\n",
              "                        })                };                            </script>        </div>\n",
              "</body>\n",
              "</html>"
            ]
          },
          "metadata": {},
          "output_type": "display_data"
        }
      ],
      "source": [
        "optuna.visualization.plot_optimization_history(study)"
      ]
    },
    {
      "cell_type": "code",
      "execution_count": 41,
      "metadata": {
        "colab": {
          "base_uri": "https://localhost:8080/",
          "height": 542
        },
        "id": "kfo_apsqmZGP",
        "outputId": "7eed0975-7d56-40cb-98a2-db1b3ed40406"
      },
      "outputs": [
        {
          "data": {
            "text/html": [
              "<html>\n",
              "<head><meta charset=\"utf-8\" /></head>\n",
              "<body>\n",
              "    <div>            <script src=\"https://cdnjs.cloudflare.com/ajax/libs/mathjax/2.7.5/MathJax.js?config=TeX-AMS-MML_SVG\"></script><script type=\"text/javascript\">if (window.MathJax && window.MathJax.Hub && window.MathJax.Hub.Config) {window.MathJax.Hub.Config({SVG: {font: \"STIX-Web\"}});}</script>                <script type=\"text/javascript\">window.PlotlyConfig = {MathJaxConfig: 'local'};</script>\n",
              "        <script charset=\"utf-8\" src=\"https://cdn.plot.ly/plotly-2.24.1.min.js\"></script>                <div id=\"245678fc-4833-4b18-a678-4a5833f394ef\" class=\"plotly-graph-div\" style=\"height:525px; width:100%;\"></div>            <script type=\"text/javascript\">                                    window.PLOTLYENV=window.PLOTLYENV || {};                                    if (document.getElementById(\"245678fc-4833-4b18-a678-4a5833f394ef\")) {                    Plotly.newPlot(                        \"245678fc-4833-4b18-a678-4a5833f394ef\",                        [{\"cliponaxis\":false,\"hovertemplate\":[\"weigth_decay (FloatDistribution): 0.014000292230573225\\u003cextra\\u003e\\u003c\\u002fextra\\u003e\",\"ffn_d_hidden (IntDistribution): 0.04121390320528592\\u003cextra\\u003e\\u003c\\u002fextra\\u003e\",\"ffn_dropout (FloatDistribution): 0.04282997251371048\\u003cextra\\u003e\\u003c\\u002fextra\\u003e\",\"attention_dropout (FloatDistribution): 0.060613043562438525\\u003cextra\\u003e\\u003c\\u002fextra\\u003e\",\"residual_dropout (FloatDistribution): 0.07926616547465783\\u003cextra\\u003e\\u003c\\u002fextra\\u003e\",\"d_token (CategoricalDistribution): 0.08215674585884997\\u003cextra\\u003e\\u003c\\u002fextra\\u003e\",\"lr (FloatDistribution): 0.27802485404293087\\u003cextra\\u003e\\u003c\\u002fextra\\u003e\",\"n_blocks (IntDistribution): 0.4018950231115531\\u003cextra\\u003e\\u003c\\u002fextra\\u003e\"],\"name\":\"Objective Value\",\"orientation\":\"h\",\"text\":[\"0.01\",\"0.04\",\"0.04\",\"0.06\",\"0.08\",\"0.08\",\"0.28\",\"0.40\"],\"textposition\":\"outside\",\"x\":[0.014000292230573225,0.04121390320528592,0.04282997251371048,0.060613043562438525,0.07926616547465783,0.08215674585884997,0.27802485404293087,0.4018950231115531],\"y\":[\"weigth_decay\",\"ffn_d_hidden\",\"ffn_dropout\",\"attention_dropout\",\"residual_dropout\",\"d_token\",\"lr\",\"n_blocks\"],\"type\":\"bar\"}],                        {\"title\":{\"text\":\"Hyperparameter Importances\"},\"xaxis\":{\"title\":{\"text\":\"Hyperparameter Importance\"}},\"yaxis\":{\"title\":{\"text\":\"Hyperparameter\"}},\"template\":{\"data\":{\"histogram2dcontour\":[{\"type\":\"histogram2dcontour\",\"colorbar\":{\"outlinewidth\":0,\"ticks\":\"\"},\"colorscale\":[[0.0,\"#0d0887\"],[0.1111111111111111,\"#46039f\"],[0.2222222222222222,\"#7201a8\"],[0.3333333333333333,\"#9c179e\"],[0.4444444444444444,\"#bd3786\"],[0.5555555555555556,\"#d8576b\"],[0.6666666666666666,\"#ed7953\"],[0.7777777777777778,\"#fb9f3a\"],[0.8888888888888888,\"#fdca26\"],[1.0,\"#f0f921\"]]}],\"choropleth\":[{\"type\":\"choropleth\",\"colorbar\":{\"outlinewidth\":0,\"ticks\":\"\"}}],\"histogram2d\":[{\"type\":\"histogram2d\",\"colorbar\":{\"outlinewidth\":0,\"ticks\":\"\"},\"colorscale\":[[0.0,\"#0d0887\"],[0.1111111111111111,\"#46039f\"],[0.2222222222222222,\"#7201a8\"],[0.3333333333333333,\"#9c179e\"],[0.4444444444444444,\"#bd3786\"],[0.5555555555555556,\"#d8576b\"],[0.6666666666666666,\"#ed7953\"],[0.7777777777777778,\"#fb9f3a\"],[0.8888888888888888,\"#fdca26\"],[1.0,\"#f0f921\"]]}],\"heatmap\":[{\"type\":\"heatmap\",\"colorbar\":{\"outlinewidth\":0,\"ticks\":\"\"},\"colorscale\":[[0.0,\"#0d0887\"],[0.1111111111111111,\"#46039f\"],[0.2222222222222222,\"#7201a8\"],[0.3333333333333333,\"#9c179e\"],[0.4444444444444444,\"#bd3786\"],[0.5555555555555556,\"#d8576b\"],[0.6666666666666666,\"#ed7953\"],[0.7777777777777778,\"#fb9f3a\"],[0.8888888888888888,\"#fdca26\"],[1.0,\"#f0f921\"]]}],\"heatmapgl\":[{\"type\":\"heatmapgl\",\"colorbar\":{\"outlinewidth\":0,\"ticks\":\"\"},\"colorscale\":[[0.0,\"#0d0887\"],[0.1111111111111111,\"#46039f\"],[0.2222222222222222,\"#7201a8\"],[0.3333333333333333,\"#9c179e\"],[0.4444444444444444,\"#bd3786\"],[0.5555555555555556,\"#d8576b\"],[0.6666666666666666,\"#ed7953\"],[0.7777777777777778,\"#fb9f3a\"],[0.8888888888888888,\"#fdca26\"],[1.0,\"#f0f921\"]]}],\"contourcarpet\":[{\"type\":\"contourcarpet\",\"colorbar\":{\"outlinewidth\":0,\"ticks\":\"\"}}],\"contour\":[{\"type\":\"contour\",\"colorbar\":{\"outlinewidth\":0,\"ticks\":\"\"},\"colorscale\":[[0.0,\"#0d0887\"],[0.1111111111111111,\"#46039f\"],[0.2222222222222222,\"#7201a8\"],[0.3333333333333333,\"#9c179e\"],[0.4444444444444444,\"#bd3786\"],[0.5555555555555556,\"#d8576b\"],[0.6666666666666666,\"#ed7953\"],[0.7777777777777778,\"#fb9f3a\"],[0.8888888888888888,\"#fdca26\"],[1.0,\"#f0f921\"]]}],\"surface\":[{\"type\":\"surface\",\"colorbar\":{\"outlinewidth\":0,\"ticks\":\"\"},\"colorscale\":[[0.0,\"#0d0887\"],[0.1111111111111111,\"#46039f\"],[0.2222222222222222,\"#7201a8\"],[0.3333333333333333,\"#9c179e\"],[0.4444444444444444,\"#bd3786\"],[0.5555555555555556,\"#d8576b\"],[0.6666666666666666,\"#ed7953\"],[0.7777777777777778,\"#fb9f3a\"],[0.8888888888888888,\"#fdca26\"],[1.0,\"#f0f921\"]]}],\"mesh3d\":[{\"type\":\"mesh3d\",\"colorbar\":{\"outlinewidth\":0,\"ticks\":\"\"}}],\"scatter\":[{\"fillpattern\":{\"fillmode\":\"overlay\",\"size\":10,\"solidity\":0.2},\"type\":\"scatter\"}],\"parcoords\":[{\"type\":\"parcoords\",\"line\":{\"colorbar\":{\"outlinewidth\":0,\"ticks\":\"\"}}}],\"scatterpolargl\":[{\"type\":\"scatterpolargl\",\"marker\":{\"colorbar\":{\"outlinewidth\":0,\"ticks\":\"\"}}}],\"bar\":[{\"error_x\":{\"color\":\"#2a3f5f\"},\"error_y\":{\"color\":\"#2a3f5f\"},\"marker\":{\"line\":{\"color\":\"#E5ECF6\",\"width\":0.5},\"pattern\":{\"fillmode\":\"overlay\",\"size\":10,\"solidity\":0.2}},\"type\":\"bar\"}],\"scattergeo\":[{\"type\":\"scattergeo\",\"marker\":{\"colorbar\":{\"outlinewidth\":0,\"ticks\":\"\"}}}],\"scatterpolar\":[{\"type\":\"scatterpolar\",\"marker\":{\"colorbar\":{\"outlinewidth\":0,\"ticks\":\"\"}}}],\"histogram\":[{\"marker\":{\"pattern\":{\"fillmode\":\"overlay\",\"size\":10,\"solidity\":0.2}},\"type\":\"histogram\"}],\"scattergl\":[{\"type\":\"scattergl\",\"marker\":{\"colorbar\":{\"outlinewidth\":0,\"ticks\":\"\"}}}],\"scatter3d\":[{\"type\":\"scatter3d\",\"line\":{\"colorbar\":{\"outlinewidth\":0,\"ticks\":\"\"}},\"marker\":{\"colorbar\":{\"outlinewidth\":0,\"ticks\":\"\"}}}],\"scattermapbox\":[{\"type\":\"scattermapbox\",\"marker\":{\"colorbar\":{\"outlinewidth\":0,\"ticks\":\"\"}}}],\"scatterternary\":[{\"type\":\"scatterternary\",\"marker\":{\"colorbar\":{\"outlinewidth\":0,\"ticks\":\"\"}}}],\"scattercarpet\":[{\"type\":\"scattercarpet\",\"marker\":{\"colorbar\":{\"outlinewidth\":0,\"ticks\":\"\"}}}],\"carpet\":[{\"aaxis\":{\"endlinecolor\":\"#2a3f5f\",\"gridcolor\":\"white\",\"linecolor\":\"white\",\"minorgridcolor\":\"white\",\"startlinecolor\":\"#2a3f5f\"},\"baxis\":{\"endlinecolor\":\"#2a3f5f\",\"gridcolor\":\"white\",\"linecolor\":\"white\",\"minorgridcolor\":\"white\",\"startlinecolor\":\"#2a3f5f\"},\"type\":\"carpet\"}],\"table\":[{\"cells\":{\"fill\":{\"color\":\"#EBF0F8\"},\"line\":{\"color\":\"white\"}},\"header\":{\"fill\":{\"color\":\"#C8D4E3\"},\"line\":{\"color\":\"white\"}},\"type\":\"table\"}],\"barpolar\":[{\"marker\":{\"line\":{\"color\":\"#E5ECF6\",\"width\":0.5},\"pattern\":{\"fillmode\":\"overlay\",\"size\":10,\"solidity\":0.2}},\"type\":\"barpolar\"}],\"pie\":[{\"automargin\":true,\"type\":\"pie\"}]},\"layout\":{\"autotypenumbers\":\"strict\",\"colorway\":[\"#636efa\",\"#EF553B\",\"#00cc96\",\"#ab63fa\",\"#FFA15A\",\"#19d3f3\",\"#FF6692\",\"#B6E880\",\"#FF97FF\",\"#FECB52\"],\"font\":{\"color\":\"#2a3f5f\"},\"hovermode\":\"closest\",\"hoverlabel\":{\"align\":\"left\"},\"paper_bgcolor\":\"white\",\"plot_bgcolor\":\"#E5ECF6\",\"polar\":{\"bgcolor\":\"#E5ECF6\",\"angularaxis\":{\"gridcolor\":\"white\",\"linecolor\":\"white\",\"ticks\":\"\"},\"radialaxis\":{\"gridcolor\":\"white\",\"linecolor\":\"white\",\"ticks\":\"\"}},\"ternary\":{\"bgcolor\":\"#E5ECF6\",\"aaxis\":{\"gridcolor\":\"white\",\"linecolor\":\"white\",\"ticks\":\"\"},\"baxis\":{\"gridcolor\":\"white\",\"linecolor\":\"white\",\"ticks\":\"\"},\"caxis\":{\"gridcolor\":\"white\",\"linecolor\":\"white\",\"ticks\":\"\"}},\"coloraxis\":{\"colorbar\":{\"outlinewidth\":0,\"ticks\":\"\"}},\"colorscale\":{\"sequential\":[[0.0,\"#0d0887\"],[0.1111111111111111,\"#46039f\"],[0.2222222222222222,\"#7201a8\"],[0.3333333333333333,\"#9c179e\"],[0.4444444444444444,\"#bd3786\"],[0.5555555555555556,\"#d8576b\"],[0.6666666666666666,\"#ed7953\"],[0.7777777777777778,\"#fb9f3a\"],[0.8888888888888888,\"#fdca26\"],[1.0,\"#f0f921\"]],\"sequentialminus\":[[0.0,\"#0d0887\"],[0.1111111111111111,\"#46039f\"],[0.2222222222222222,\"#7201a8\"],[0.3333333333333333,\"#9c179e\"],[0.4444444444444444,\"#bd3786\"],[0.5555555555555556,\"#d8576b\"],[0.6666666666666666,\"#ed7953\"],[0.7777777777777778,\"#fb9f3a\"],[0.8888888888888888,\"#fdca26\"],[1.0,\"#f0f921\"]],\"diverging\":[[0,\"#8e0152\"],[0.1,\"#c51b7d\"],[0.2,\"#de77ae\"],[0.3,\"#f1b6da\"],[0.4,\"#fde0ef\"],[0.5,\"#f7f7f7\"],[0.6,\"#e6f5d0\"],[0.7,\"#b8e186\"],[0.8,\"#7fbc41\"],[0.9,\"#4d9221\"],[1,\"#276419\"]]},\"xaxis\":{\"gridcolor\":\"white\",\"linecolor\":\"white\",\"ticks\":\"\",\"title\":{\"standoff\":15},\"zerolinecolor\":\"white\",\"automargin\":true,\"zerolinewidth\":2},\"yaxis\":{\"gridcolor\":\"white\",\"linecolor\":\"white\",\"ticks\":\"\",\"title\":{\"standoff\":15},\"zerolinecolor\":\"white\",\"automargin\":true,\"zerolinewidth\":2},\"scene\":{\"xaxis\":{\"backgroundcolor\":\"#E5ECF6\",\"gridcolor\":\"white\",\"linecolor\":\"white\",\"showbackground\":true,\"ticks\":\"\",\"zerolinecolor\":\"white\",\"gridwidth\":2},\"yaxis\":{\"backgroundcolor\":\"#E5ECF6\",\"gridcolor\":\"white\",\"linecolor\":\"white\",\"showbackground\":true,\"ticks\":\"\",\"zerolinecolor\":\"white\",\"gridwidth\":2},\"zaxis\":{\"backgroundcolor\":\"#E5ECF6\",\"gridcolor\":\"white\",\"linecolor\":\"white\",\"showbackground\":true,\"ticks\":\"\",\"zerolinecolor\":\"white\",\"gridwidth\":2}},\"shapedefaults\":{\"line\":{\"color\":\"#2a3f5f\"}},\"annotationdefaults\":{\"arrowcolor\":\"#2a3f5f\",\"arrowhead\":0,\"arrowwidth\":1},\"geo\":{\"bgcolor\":\"white\",\"landcolor\":\"#E5ECF6\",\"subunitcolor\":\"white\",\"showland\":true,\"showlakes\":true,\"lakecolor\":\"white\"},\"title\":{\"x\":0.05},\"mapbox\":{\"style\":\"light\"}}}},                        {\"responsive\": true}                    ).then(function(){\n",
              "                            \n",
              "var gd = document.getElementById('245678fc-4833-4b18-a678-4a5833f394ef');\n",
              "var x = new MutationObserver(function (mutations, observer) {{\n",
              "        var display = window.getComputedStyle(gd).display;\n",
              "        if (!display || display === 'none') {{\n",
              "            console.log([gd, 'removed!']);\n",
              "            Plotly.purge(gd);\n",
              "            observer.disconnect();\n",
              "        }}\n",
              "}});\n",
              "\n",
              "// Listen for the removal of the full notebook cells\n",
              "var notebookContainer = gd.closest('#notebook-container');\n",
              "if (notebookContainer) {{\n",
              "    x.observe(notebookContainer, {childList: true});\n",
              "}}\n",
              "\n",
              "// Listen for the clearing of the current output cell\n",
              "var outputEl = gd.closest('.output');\n",
              "if (outputEl) {{\n",
              "    x.observe(outputEl, {childList: true});\n",
              "}}\n",
              "\n",
              "                        })                };                            </script>        </div>\n",
              "</body>\n",
              "</html>"
            ]
          },
          "metadata": {},
          "output_type": "display_data"
        }
      ],
      "source": [
        "optuna.visualization.plot_param_importances(study)"
      ]
    },
    {
      "cell_type": "code",
      "execution_count": 43,
      "metadata": {
        "colab": {
          "base_uri": "https://localhost:8080/"
        },
        "id": "VP9imAD0mZGP",
        "outputId": "361e2f5f-b8be-48d3-b1b7-4fa4d5426d00"
      },
      "outputs": [
        {
          "data": {
            "text/plain": [
              "{'d_token': 128,\n",
              " 'n_blocks': 4,\n",
              " 'attention_dropout': 0.05633571882908772,\n",
              " 'ffn_d_hidden': 529,\n",
              " 'ffn_dropout': 0.15680906610269654,\n",
              " 'residual_dropout': 0.023306414142002692,\n",
              " 'lr': 0.00018315266700252362,\n",
              " 'weigth_decay': 4.7121678184506015e-06}"
            ]
          },
          "execution_count": 43,
          "metadata": {},
          "output_type": "execute_result"
        }
      ],
      "source": [
        "study.best_trial.params"
      ]
    },
    {
      "cell_type": "markdown",
      "metadata": {
        "id": "FuzSSKmXmZGP"
      },
      "source": [
        "# Training again"
      ]
    },
    {
      "cell_type": "code",
      "execution_count": 57,
      "metadata": {
        "colab": {
          "base_uri": "https://localhost:8080/"
        },
        "id": "JzW88QOrmZGP",
        "outputId": "988f04f3-7c9e-490c-f1e0-bc161079cb7e"
      },
      "outputs": [
        {
          "data": {
            "text/plain": [
              "FTTransformer(\n",
              "  (feature_tokenizer): FeatureTokenizer(\n",
              "    (num_tokenizer): NumericalFeatureTokenizer()\n",
              "  )\n",
              "  (cls_token): CLSToken()\n",
              "  (transformer): Transformer(\n",
              "    (blocks): ModuleList(\n",
              "      (0): ModuleDict(\n",
              "        (attention): MultiheadAttention(\n",
              "          (W_q): Linear(in_features=128, out_features=128, bias=True)\n",
              "          (W_k): Linear(in_features=128, out_features=128, bias=True)\n",
              "          (W_v): Linear(in_features=128, out_features=128, bias=True)\n",
              "          (W_out): Linear(in_features=128, out_features=128, bias=True)\n",
              "          (dropout): Dropout(p=0.05633571882908772, inplace=False)\n",
              "        )\n",
              "        (ffn): FFN(\n",
              "          (linear_first): Linear(in_features=128, out_features=1058, bias=True)\n",
              "          (activation): ReGLU()\n",
              "          (dropout): Dropout(p=0.15680906610269654, inplace=False)\n",
              "          (linear_second): Linear(in_features=529, out_features=128, bias=True)\n",
              "        )\n",
              "        (attention_residual_dropout): Dropout(p=0.023306414142002692, inplace=False)\n",
              "        (ffn_residual_dropout): Dropout(p=0.023306414142002692, inplace=False)\n",
              "        (output): Identity()\n",
              "        (ffn_normalization): LayerNorm((128,), eps=1e-05, elementwise_affine=True)\n",
              "      )\n",
              "      (1): ModuleDict(\n",
              "        (attention): MultiheadAttention(\n",
              "          (W_q): Linear(in_features=128, out_features=128, bias=True)\n",
              "          (W_k): Linear(in_features=128, out_features=128, bias=True)\n",
              "          (W_v): Linear(in_features=128, out_features=128, bias=True)\n",
              "          (W_out): Linear(in_features=128, out_features=128, bias=True)\n",
              "          (dropout): Dropout(p=0.05633571882908772, inplace=False)\n",
              "        )\n",
              "        (ffn): FFN(\n",
              "          (linear_first): Linear(in_features=128, out_features=1058, bias=True)\n",
              "          (activation): ReGLU()\n",
              "          (dropout): Dropout(p=0.15680906610269654, inplace=False)\n",
              "          (linear_second): Linear(in_features=529, out_features=128, bias=True)\n",
              "        )\n",
              "        (attention_residual_dropout): Dropout(p=0.023306414142002692, inplace=False)\n",
              "        (ffn_residual_dropout): Dropout(p=0.023306414142002692, inplace=False)\n",
              "        (output): Identity()\n",
              "        (attention_normalization): LayerNorm((128,), eps=1e-05, elementwise_affine=True)\n",
              "        (ffn_normalization): LayerNorm((128,), eps=1e-05, elementwise_affine=True)\n",
              "      )\n",
              "      (2): ModuleDict(\n",
              "        (attention): MultiheadAttention(\n",
              "          (W_q): Linear(in_features=128, out_features=128, bias=True)\n",
              "          (W_k): Linear(in_features=128, out_features=128, bias=True)\n",
              "          (W_v): Linear(in_features=128, out_features=128, bias=True)\n",
              "          (W_out): Linear(in_features=128, out_features=128, bias=True)\n",
              "          (dropout): Dropout(p=0.05633571882908772, inplace=False)\n",
              "        )\n",
              "        (ffn): FFN(\n",
              "          (linear_first): Linear(in_features=128, out_features=1058, bias=True)\n",
              "          (activation): ReGLU()\n",
              "          (dropout): Dropout(p=0.15680906610269654, inplace=False)\n",
              "          (linear_second): Linear(in_features=529, out_features=128, bias=True)\n",
              "        )\n",
              "        (attention_residual_dropout): Dropout(p=0.023306414142002692, inplace=False)\n",
              "        (ffn_residual_dropout): Dropout(p=0.023306414142002692, inplace=False)\n",
              "        (output): Identity()\n",
              "        (attention_normalization): LayerNorm((128,), eps=1e-05, elementwise_affine=True)\n",
              "        (ffn_normalization): LayerNorm((128,), eps=1e-05, elementwise_affine=True)\n",
              "      )\n",
              "      (3): ModuleDict(\n",
              "        (attention): MultiheadAttention(\n",
              "          (W_q): Linear(in_features=128, out_features=128, bias=True)\n",
              "          (W_k): Linear(in_features=128, out_features=128, bias=True)\n",
              "          (W_v): Linear(in_features=128, out_features=128, bias=True)\n",
              "          (W_out): Linear(in_features=128, out_features=128, bias=True)\n",
              "          (dropout): Dropout(p=0.05633571882908772, inplace=False)\n",
              "        )\n",
              "        (ffn): FFN(\n",
              "          (linear_first): Linear(in_features=128, out_features=1058, bias=True)\n",
              "          (activation): ReGLU()\n",
              "          (dropout): Dropout(p=0.15680906610269654, inplace=False)\n",
              "          (linear_second): Linear(in_features=529, out_features=128, bias=True)\n",
              "        )\n",
              "        (attention_residual_dropout): Dropout(p=0.023306414142002692, inplace=False)\n",
              "        (ffn_residual_dropout): Dropout(p=0.023306414142002692, inplace=False)\n",
              "        (output): Identity()\n",
              "        (attention_normalization): LayerNorm((128,), eps=1e-05, elementwise_affine=True)\n",
              "        (ffn_normalization): LayerNorm((128,), eps=1e-05, elementwise_affine=True)\n",
              "      )\n",
              "    )\n",
              "    (head): Head(\n",
              "      (normalization): LayerNorm((128,), eps=1e-05, elementwise_affine=True)\n",
              "      (activation): ReLU()\n",
              "      (linear): Linear(in_features=128, out_features=1, bias=True)\n",
              "    )\n",
              "  )\n",
              ")"
            ]
          },
          "execution_count": 57,
          "metadata": {},
          "output_type": "execute_result"
        }
      ],
      "source": [
        "\n",
        "model_ftt = rtdl.FTTransformer.make_baseline(n_num_features=X['train']['num'].shape[1],\n",
        "                                            cat_cardinalities=[],\n",
        "                                            d_token=study.best_trial.params['d_token'],\n",
        "                                            n_blocks=study.best_trial.params['n_blocks'],\n",
        "                                            attention_dropout=study.best_trial.params['attention_dropout'],\n",
        "                                            ffn_d_hidden=study.best_trial.params['ffn_d_hidden'],\n",
        "                                            ffn_dropout=study.best_trial.params['ffn_dropout'],\n",
        "                                            residual_dropout=study.best_trial.params['residual_dropout'],\n",
        "                                            d_out=1)\n",
        "model_ftt.to(device)"
      ]
    },
    {
      "cell_type": "code",
      "execution_count": 58,
      "metadata": {
        "colab": {
          "base_uri": "https://localhost:8080/"
        },
        "id": "cOjsJx_kmZGQ",
        "outputId": "e10b006b-6f6c-49fa-8f81-60b2e6b08bd3"
      },
      "outputs": [
        {
          "name": "stderr",
          "output_type": "stream",
          "text": [
            "100%|██████████| 123/123 [00:02<00:00, 51.68it/s]\n"
          ]
        },
        {
          "name": "stdout",
          "output_type": "stream",
          "text": [
            "EPOCH 1: Saving state of model\n",
            "Train Accuracy: 0.6466, Train Loss: 0.6271\n",
            "Val Accuracy: 0.6461, Val Loss: 0.6038\n",
            "\n"
          ]
        },
        {
          "name": "stderr",
          "output_type": "stream",
          "text": [
            "100%|██████████| 123/123 [00:02<00:00, 51.81it/s]\n"
          ]
        },
        {
          "name": "stdout",
          "output_type": "stream",
          "text": [
            "Train Accuracy: 0.6839, Train Loss: 0.5831\n",
            "Val Accuracy: 0.6484, Val Loss: 0.6100\n",
            "\n"
          ]
        },
        {
          "name": "stderr",
          "output_type": "stream",
          "text": [
            "100%|██████████| 123/123 [00:02<00:00, 51.64it/s]\n"
          ]
        },
        {
          "name": "stdout",
          "output_type": "stream",
          "text": [
            "EPOCH 3: Saving state of model\n",
            "Train Accuracy: 0.7022, Train Loss: 0.5614\n",
            "Val Accuracy: 0.7055, Val Loss: 0.5628\n",
            "\n"
          ]
        },
        {
          "name": "stderr",
          "output_type": "stream",
          "text": [
            "100%|██████████| 123/123 [00:02<00:00, 43.53it/s]\n"
          ]
        },
        {
          "name": "stdout",
          "output_type": "stream",
          "text": [
            "Train Accuracy: 0.7172, Train Loss: 0.5415\n",
            "Val Accuracy: 0.6986, Val Loss: 0.5781\n",
            "\n"
          ]
        },
        {
          "name": "stderr",
          "output_type": "stream",
          "text": [
            "100%|██████████| 123/123 [00:02<00:00, 44.02it/s]\n"
          ]
        },
        {
          "name": "stdout",
          "output_type": "stream",
          "text": [
            "EPOCH 5: Saving state of model\n",
            "Train Accuracy: 0.7317, Train Loss: 0.5220\n",
            "Val Accuracy: 0.7100, Val Loss: 0.5527\n",
            "\n"
          ]
        },
        {
          "name": "stderr",
          "output_type": "stream",
          "text": [
            "100%|██████████| 123/123 [00:02<00:00, 52.71it/s]\n"
          ]
        },
        {
          "name": "stdout",
          "output_type": "stream",
          "text": [
            "EPOCH 6: Saving state of model\n",
            "Train Accuracy: 0.7419, Train Loss: 0.5083\n",
            "Val Accuracy: 0.7078, Val Loss: 0.5405\n",
            "\n"
          ]
        },
        {
          "name": "stderr",
          "output_type": "stream",
          "text": [
            "100%|██████████| 123/123 [00:02<00:00, 51.81it/s]\n"
          ]
        },
        {
          "name": "stdout",
          "output_type": "stream",
          "text": [
            "EPOCH 7: Saving state of model\n",
            "Train Accuracy: 0.7566, Train Loss: 0.4872\n",
            "Val Accuracy: 0.7009, Val Loss: 0.5392\n",
            "\n"
          ]
        },
        {
          "name": "stderr",
          "output_type": "stream",
          "text": [
            "100%|██████████| 123/123 [00:02<00:00, 52.35it/s]\n"
          ]
        },
        {
          "name": "stdout",
          "output_type": "stream",
          "text": [
            "Train Accuracy: 0.7731, Train Loss: 0.4657\n",
            "Val Accuracy: 0.6941, Val Loss: 0.5528\n",
            "\n"
          ]
        },
        {
          "name": "stderr",
          "output_type": "stream",
          "text": [
            "100%|██████████| 123/123 [00:02<00:00, 41.71it/s]\n"
          ]
        },
        {
          "name": "stdout",
          "output_type": "stream",
          "text": [
            "EPOCH 9: Saving state of model\n",
            "Train Accuracy: 0.7764, Train Loss: 0.4582\n",
            "Val Accuracy: 0.7123, Val Loss: 0.5274\n",
            "\n"
          ]
        },
        {
          "name": "stderr",
          "output_type": "stream",
          "text": [
            "100%|██████████| 123/123 [00:02<00:00, 46.32it/s]\n"
          ]
        },
        {
          "name": "stdout",
          "output_type": "stream",
          "text": [
            "EPOCH 10: Saving state of model\n",
            "Train Accuracy: 0.7901, Train Loss: 0.4404\n",
            "Val Accuracy: 0.7420, Val Loss: 0.5115\n",
            "\n"
          ]
        },
        {
          "name": "stderr",
          "output_type": "stream",
          "text": [
            "100%|██████████| 123/123 [00:02<00:00, 50.80it/s]\n"
          ]
        },
        {
          "name": "stdout",
          "output_type": "stream",
          "text": [
            "Train Accuracy: 0.8092, Train Loss: 0.4139\n",
            "Val Accuracy: 0.7580, Val Loss: 0.5193\n",
            "\n"
          ]
        },
        {
          "name": "stderr",
          "output_type": "stream",
          "text": [
            "100%|██████████| 123/123 [00:02<00:00, 51.08it/s]\n"
          ]
        },
        {
          "name": "stdout",
          "output_type": "stream",
          "text": [
            "Train Accuracy: 0.8288, Train Loss: 0.3840\n",
            "Val Accuracy: 0.7671, Val Loss: 0.5352\n",
            "\n"
          ]
        },
        {
          "name": "stderr",
          "output_type": "stream",
          "text": [
            "100%|██████████| 123/123 [00:02<00:00, 51.56it/s]\n"
          ]
        },
        {
          "name": "stdout",
          "output_type": "stream",
          "text": [
            "Train Accuracy: 0.8257, Train Loss: 0.3757\n",
            "Val Accuracy: 0.7374, Val Loss: 0.5306\n",
            "\n"
          ]
        },
        {
          "name": "stderr",
          "output_type": "stream",
          "text": [
            "100%|██████████| 123/123 [00:03<00:00, 40.77it/s]\n"
          ]
        },
        {
          "name": "stdout",
          "output_type": "stream",
          "text": [
            "EPOCH 14: Saving state of model\n",
            "Train Accuracy: 0.8361, Train Loss: 0.3679\n",
            "Val Accuracy: 0.7922, Val Loss: 0.4659\n",
            "\n"
          ]
        },
        {
          "name": "stderr",
          "output_type": "stream",
          "text": [
            "100%|██████████| 123/123 [00:02<00:00, 48.87it/s]\n"
          ]
        },
        {
          "name": "stdout",
          "output_type": "stream",
          "text": [
            "Train Accuracy: 0.8547, Train Loss: 0.3327\n",
            "Val Accuracy: 0.7808, Val Loss: 0.4883\n",
            "\n"
          ]
        },
        {
          "name": "stderr",
          "output_type": "stream",
          "text": [
            "100%|██████████| 123/123 [00:02<00:00, 53.54it/s]\n"
          ]
        },
        {
          "name": "stdout",
          "output_type": "stream",
          "text": [
            "Train Accuracy: 0.8516, Train Loss: 0.3225\n",
            "Val Accuracy: 0.7671, Val Loss: 0.5314\n",
            "\n"
          ]
        },
        {
          "name": "stderr",
          "output_type": "stream",
          "text": [
            "100%|██████████| 123/123 [00:02<00:00, 50.85it/s]\n"
          ]
        },
        {
          "name": "stdout",
          "output_type": "stream",
          "text": [
            "Train Accuracy: 0.8605, Train Loss: 0.3117\n",
            "Val Accuracy: 0.7557, Val Loss: 0.5055\n",
            "\n"
          ]
        },
        {
          "name": "stderr",
          "output_type": "stream",
          "text": [
            "100%|██████████| 123/123 [00:02<00:00, 51.99it/s]\n"
          ]
        },
        {
          "name": "stdout",
          "output_type": "stream",
          "text": [
            "EPOCH 18: Saving state of model\n",
            "Train Accuracy: 0.8720, Train Loss: 0.2952\n",
            "Val Accuracy: 0.8105, Val Loss: 0.4526\n",
            "\n"
          ]
        },
        {
          "name": "stderr",
          "output_type": "stream",
          "text": [
            "100%|██████████| 123/123 [00:03<00:00, 40.23it/s]\n"
          ]
        },
        {
          "name": "stdout",
          "output_type": "stream",
          "text": [
            "Train Accuracy: 0.8768, Train Loss: 0.2861\n",
            "Val Accuracy: 0.7785, Val Loss: 0.4902\n",
            "\n"
          ]
        },
        {
          "name": "stderr",
          "output_type": "stream",
          "text": [
            "100%|██████████| 123/123 [00:02<00:00, 49.57it/s]\n"
          ]
        },
        {
          "name": "stdout",
          "output_type": "stream",
          "text": [
            "EPOCH 20: Saving state of model\n",
            "Train Accuracy: 0.8905, Train Loss: 0.2600\n",
            "Val Accuracy: 0.8311, Val Loss: 0.4451\n",
            "\n"
          ]
        },
        {
          "name": "stderr",
          "output_type": "stream",
          "text": [
            "100%|██████████| 123/123 [00:02<00:00, 51.82it/s]\n"
          ]
        },
        {
          "name": "stdout",
          "output_type": "stream",
          "text": [
            "Train Accuracy: 0.8897, Train Loss: 0.2595\n",
            "Val Accuracy: 0.8128, Val Loss: 0.4974\n",
            "\n"
          ]
        },
        {
          "name": "stderr",
          "output_type": "stream",
          "text": [
            "100%|██████████| 123/123 [00:02<00:00, 52.44it/s]\n"
          ]
        },
        {
          "name": "stdout",
          "output_type": "stream",
          "text": [
            "EPOCH 22: Saving state of model\n",
            "Train Accuracy: 0.8994, Train Loss: 0.2450\n",
            "Val Accuracy: 0.8059, Val Loss: 0.4365\n",
            "\n"
          ]
        },
        {
          "name": "stderr",
          "output_type": "stream",
          "text": [
            "100%|██████████| 123/123 [00:02<00:00, 51.25it/s]\n"
          ]
        },
        {
          "name": "stdout",
          "output_type": "stream",
          "text": [
            "EPOCH 23: Saving state of model\n",
            "Train Accuracy: 0.9002, Train Loss: 0.2374\n",
            "Val Accuracy: 0.8174, Val Loss: 0.4167\n",
            "\n"
          ]
        },
        {
          "name": "stderr",
          "output_type": "stream",
          "text": [
            "100%|██████████| 123/123 [00:03<00:00, 39.42it/s]\n"
          ]
        },
        {
          "name": "stdout",
          "output_type": "stream",
          "text": [
            "EPOCH 24: Saving state of model\n",
            "Train Accuracy: 0.9088, Train Loss: 0.2140\n",
            "Val Accuracy: 0.8425, Val Loss: 0.3811\n",
            "\n"
          ]
        },
        {
          "name": "stderr",
          "output_type": "stream",
          "text": [
            "100%|██████████| 123/123 [00:02<00:00, 52.00it/s]\n"
          ]
        },
        {
          "name": "stdout",
          "output_type": "stream",
          "text": [
            "Train Accuracy: 0.9223, Train Loss: 0.1978\n",
            "Val Accuracy: 0.8219, Val Loss: 0.4706\n",
            "\n"
          ]
        },
        {
          "name": "stderr",
          "output_type": "stream",
          "text": [
            "100%|██████████| 123/123 [00:02<00:00, 52.83it/s]\n"
          ]
        },
        {
          "name": "stdout",
          "output_type": "stream",
          "text": [
            "Train Accuracy: 0.9215, Train Loss: 0.1947\n",
            "Val Accuracy: 0.8082, Val Loss: 0.5028\n",
            "\n"
          ]
        },
        {
          "name": "stderr",
          "output_type": "stream",
          "text": [
            "100%|██████████| 123/123 [00:02<00:00, 52.49it/s]\n"
          ]
        },
        {
          "name": "stdout",
          "output_type": "stream",
          "text": [
            "Train Accuracy: 0.9266, Train Loss: 0.1810\n",
            "Val Accuracy: 0.8379, Val Loss: 0.4532\n",
            "\n"
          ]
        },
        {
          "name": "stderr",
          "output_type": "stream",
          "text": [
            "100%|██████████| 123/123 [00:02<00:00, 51.31it/s]\n"
          ]
        },
        {
          "name": "stdout",
          "output_type": "stream",
          "text": [
            "Train Accuracy: 0.9332, Train Loss: 0.1668\n",
            "Val Accuracy: 0.8402, Val Loss: 0.4193\n",
            "\n"
          ]
        },
        {
          "name": "stderr",
          "output_type": "stream",
          "text": [
            "100%|██████████| 123/123 [00:03<00:00, 37.90it/s]\n"
          ]
        },
        {
          "name": "stdout",
          "output_type": "stream",
          "text": [
            "Train Accuracy: 0.9286, Train Loss: 0.1724\n",
            "Val Accuracy: 0.8151, Val Loss: 0.5281\n",
            "\n"
          ]
        },
        {
          "name": "stderr",
          "output_type": "stream",
          "text": [
            "100%|██████████| 123/123 [00:02<00:00, 51.57it/s]\n"
          ]
        },
        {
          "name": "stdout",
          "output_type": "stream",
          "text": [
            "Train Accuracy: 0.9380, Train Loss: 0.1587\n",
            "Val Accuracy: 0.8082, Val Loss: 0.5348\n",
            "\n"
          ]
        },
        {
          "name": "stderr",
          "output_type": "stream",
          "text": [
            "100%|██████████| 123/123 [00:02<00:00, 52.37it/s]\n"
          ]
        },
        {
          "name": "stdout",
          "output_type": "stream",
          "text": [
            "Train Accuracy: 0.9309, Train Loss: 0.1734\n",
            "Val Accuracy: 0.8174, Val Loss: 0.4618\n",
            "\n"
          ]
        },
        {
          "name": "stderr",
          "output_type": "stream",
          "text": [
            "100%|██████████| 123/123 [00:02<00:00, 52.84it/s]\n"
          ]
        },
        {
          "name": "stdout",
          "output_type": "stream",
          "text": [
            "Train Accuracy: 0.9413, Train Loss: 0.1457\n",
            "Val Accuracy: 0.8333, Val Loss: 0.5414\n",
            "\n"
          ]
        },
        {
          "name": "stderr",
          "output_type": "stream",
          "text": [
            "100%|██████████| 123/123 [00:02<00:00, 52.53it/s]\n"
          ]
        },
        {
          "name": "stdout",
          "output_type": "stream",
          "text": [
            "Train Accuracy: 0.9472, Train Loss: 0.1304\n",
            "Val Accuracy: 0.8402, Val Loss: 0.5362\n",
            "\n"
          ]
        },
        {
          "name": "stderr",
          "output_type": "stream",
          "text": [
            "100%|██████████| 123/123 [00:03<00:00, 38.38it/s]\n"
          ]
        },
        {
          "name": "stdout",
          "output_type": "stream",
          "text": [
            "Train Accuracy: 0.9510, Train Loss: 0.1243\n",
            "Val Accuracy: 0.8311, Val Loss: 0.5348\n",
            "\n"
          ]
        },
        {
          "name": "stderr",
          "output_type": "stream",
          "text": [
            "100%|██████████| 123/123 [00:02<00:00, 50.73it/s]\n"
          ]
        },
        {
          "name": "stdout",
          "output_type": "stream",
          "text": [
            "Train Accuracy: 0.9535, Train Loss: 0.1208\n",
            "Val Accuracy: 0.8493, Val Loss: 0.4669\n",
            "\n"
          ]
        },
        {
          "name": "stderr",
          "output_type": "stream",
          "text": [
            "100%|██████████| 123/123 [00:03<00:00, 36.56it/s]\n"
          ]
        },
        {
          "name": "stdout",
          "output_type": "stream",
          "text": [
            "Train Accuracy: 0.9515, Train Loss: 0.1325\n",
            "Val Accuracy: 0.8288, Val Loss: 0.5442\n",
            "\n"
          ]
        },
        {
          "name": "stderr",
          "output_type": "stream",
          "text": [
            "100%|██████████| 123/123 [00:02<00:00, 45.92it/s]\n"
          ]
        },
        {
          "name": "stdout",
          "output_type": "stream",
          "text": [
            "Train Accuracy: 0.9515, Train Loss: 0.1283\n",
            "Val Accuracy: 0.8630, Val Loss: 0.4769\n",
            "\n"
          ]
        },
        {
          "name": "stderr",
          "output_type": "stream",
          "text": [
            "100%|██████████| 123/123 [00:02<00:00, 44.15it/s]\n"
          ]
        },
        {
          "name": "stdout",
          "output_type": "stream",
          "text": [
            "Train Accuracy: 0.9586, Train Loss: 0.1192\n",
            "Val Accuracy: 0.8699, Val Loss: 0.4357\n",
            "\n"
          ]
        },
        {
          "name": "stderr",
          "output_type": "stream",
          "text": [
            "100%|██████████| 123/123 [00:02<00:00, 43.17it/s]\n"
          ]
        },
        {
          "name": "stdout",
          "output_type": "stream",
          "text": [
            "Train Accuracy: 0.9563, Train Loss: 0.1121\n",
            "Val Accuracy: 0.8379, Val Loss: 0.5569\n",
            "\n"
          ]
        },
        {
          "name": "stderr",
          "output_type": "stream",
          "text": [
            "100%|██████████| 123/123 [00:02<00:00, 44.78it/s]\n"
          ]
        },
        {
          "name": "stdout",
          "output_type": "stream",
          "text": [
            "Train Accuracy: 0.9533, Train Loss: 0.1164\n",
            "Val Accuracy: 0.8402, Val Loss: 0.5078\n",
            "\n"
          ]
        },
        {
          "name": "stderr",
          "output_type": "stream",
          "text": [
            "100%|██████████| 123/123 [00:02<00:00, 51.64it/s]\n"
          ]
        },
        {
          "name": "stdout",
          "output_type": "stream",
          "text": [
            "Train Accuracy: 0.9637, Train Loss: 0.0960\n",
            "Val Accuracy: 0.8630, Val Loss: 0.5382\n",
            "\n"
          ]
        },
        {
          "name": "stderr",
          "output_type": "stream",
          "text": [
            "100%|██████████| 123/123 [00:02<00:00, 52.14it/s]\n"
          ]
        },
        {
          "name": "stdout",
          "output_type": "stream",
          "text": [
            "Train Accuracy: 0.9593, Train Loss: 0.1038\n",
            "Val Accuracy: 0.8584, Val Loss: 0.4858\n",
            "\n"
          ]
        },
        {
          "name": "stderr",
          "output_type": "stream",
          "text": [
            "100%|██████████| 123/123 [00:03<00:00, 39.37it/s]\n"
          ]
        },
        {
          "name": "stdout",
          "output_type": "stream",
          "text": [
            "Train Accuracy: 0.9715, Train Loss: 0.0761\n",
            "Val Accuracy: 0.8744, Val Loss: 0.5079\n",
            "\n"
          ]
        },
        {
          "name": "stderr",
          "output_type": "stream",
          "text": [
            "100%|██████████| 123/123 [00:02<00:00, 48.66it/s]\n"
          ]
        },
        {
          "name": "stdout",
          "output_type": "stream",
          "text": [
            "Train Accuracy: 0.9601, Train Loss: 0.1061\n",
            "Val Accuracy: 0.8379, Val Loss: 0.4923\n",
            "\n"
          ]
        },
        {
          "name": "stderr",
          "output_type": "stream",
          "text": [
            "100%|██████████| 123/123 [00:02<00:00, 51.59it/s]\n"
          ]
        },
        {
          "name": "stdout",
          "output_type": "stream",
          "text": [
            "Train Accuracy: 0.9606, Train Loss: 0.0966\n",
            "Val Accuracy: 0.8653, Val Loss: 0.4530\n",
            "\n"
          ]
        },
        {
          "name": "stderr",
          "output_type": "stream",
          "text": [
            "100%|██████████| 123/123 [00:02<00:00, 50.93it/s]\n"
          ]
        },
        {
          "name": "stdout",
          "output_type": "stream",
          "text": [
            "Train Accuracy: 0.9657, Train Loss: 0.0848\n",
            "Val Accuracy: 0.8516, Val Loss: 0.5932\n",
            "\n"
          ]
        },
        {
          "name": "stderr",
          "output_type": "stream",
          "text": [
            "100%|██████████| 123/123 [00:02<00:00, 51.75it/s]\n"
          ]
        },
        {
          "name": "stdout",
          "output_type": "stream",
          "text": [
            "Train Accuracy: 0.9642, Train Loss: 0.0915\n",
            "Val Accuracy: 0.8607, Val Loss: 0.5176\n",
            "\n"
          ]
        },
        {
          "name": "stderr",
          "output_type": "stream",
          "text": [
            "100%|██████████| 123/123 [00:03<00:00, 38.73it/s]\n"
          ]
        },
        {
          "name": "stdout",
          "output_type": "stream",
          "text": [
            "Train Accuracy: 0.9685, Train Loss: 0.0790\n",
            "Val Accuracy: 0.8630, Val Loss: 0.4909\n",
            "\n"
          ]
        },
        {
          "name": "stderr",
          "output_type": "stream",
          "text": [
            "100%|██████████| 123/123 [00:02<00:00, 50.97it/s]\n"
          ]
        },
        {
          "name": "stdout",
          "output_type": "stream",
          "text": [
            "Train Accuracy: 0.9710, Train Loss: 0.0774\n",
            "Val Accuracy: 0.8721, Val Loss: 0.4540\n",
            "\n"
          ]
        },
        {
          "name": "stderr",
          "output_type": "stream",
          "text": [
            "100%|██████████| 123/123 [00:02<00:00, 51.76it/s]\n"
          ]
        },
        {
          "name": "stdout",
          "output_type": "stream",
          "text": [
            "Train Accuracy: 0.9733, Train Loss: 0.0780\n",
            "Val Accuracy: 0.8813, Val Loss: 0.4882\n",
            "\n"
          ]
        }
      ],
      "source": [
        "his = {'train_acc': [],\n",
        "        'train_loss': [],\n",
        "        'val_acc': [],\n",
        "        'val_loss': []}\n",
        "\n",
        "criterion = nn.BCELoss()\n",
        "optimizer = optim.AdamW(model_ftt.parameters(),\n",
        "                        lr = study.best_trial.params['lr'],\n",
        "                        weight_decay=study.best_trial.params['weigth_decay'])\n",
        "\n",
        "n_epochs = 50\n",
        "maxLoss = np.inf\n",
        "\n",
        "for epoch in range(n_epochs):\n",
        "    train_acc, train_loss = training(model_ftt, train_load, criterion, optimizer, None)\n",
        "    val_acc, val_loss, y_val_pred = evaluating(model_ftt, val_load, criterion)\n",
        "\n",
        "    if val_loss < maxLoss:\n",
        "        print(f'EPOCH {epoch+1}: Saving state of model')\n",
        "        maxLoss = val_loss\n",
        "        torch.save(model_ftt.state_dict(), 'FTT_model_Best_Tunning.pth')\n",
        "\n",
        "    print(f'Train Accuracy: {train_acc:.4f}, Train Loss: {train_loss:.4f}')\n",
        "    print(f'Val Accuracy: {val_acc:.4f}, Val Loss: {val_loss:.4f}\\n')\n"
      ]
    },
    {
      "cell_type": "code",
      "execution_count": 59,
      "metadata": {
        "colab": {
          "base_uri": "https://localhost:8080/",
          "height": 489
        },
        "id": "KpWfzEhtmZGR",
        "outputId": "33f42b56-043e-4b5f-ca78-7fd44032396e"
      },
      "outputs": [
        {
          "data": {
            "text/plain": [
              "<matplotlib.legend.Legend at 0x7fa281fa2140>"
            ]
          },
          "execution_count": 59,
          "metadata": {},
          "output_type": "execute_result"
        },
        {
          "data": {
            "image/png": "[encoded data removed]",
            "text/plain": [
              "<Figure size 640x480 with 1 Axes>"
            ]
          },
          "metadata": {},
          "output_type": "display_data"
        }
      ],
      "source": [
        "# plot accuracy\n",
        "plt.plot(his['train_acc'], label='train', marker='o')\n",
        "plt.plot(his['val_acc'], label='val', marker='o')\n",
        "plt.title('Accuracy per epoch')\n",
        "plt.xlabel('Epoch')\n",
        "plt.ylabel('Accuracy')\n",
        "plt.legend()"
      ]
    },
    {
      "cell_type": "code",
      "execution_count": 60,
      "metadata": {
        "colab": {
          "base_uri": "https://localhost:8080/",
          "height": 489
        },
        "id": "jr4tGLg6mZGR",
        "outputId": "67509d0c-3c9f-4582-a94a-1d4a179dfe1c"
      },
      "outputs": [
        {
          "data": {
            "text/plain": [
              "<matplotlib.legend.Legend at 0x7fa281d822c0>"
            ]
          },
          "execution_count": 60,
          "metadata": {},
          "output_type": "execute_result"
        },
        {
          "data": {
            "image/png": "[encoded data removed]",
            "text/plain": [
              "<Figure size 640x480 with 1 Axes>"
            ]
          },
          "metadata": {},
          "output_type": "display_data"
        }
      ],
      "source": [
        "plt.plot(his['train_loss'], label='train', marker='o')\n",
        "plt.plot(his['val_loss'], label='val', marker='o')\n",
        "plt.title('Loss per epoch')\n",
        "plt.xlabel('Epoch')\n",
        "plt.ylabel('Loss')\n",
        "plt.legend()"
      ]
    },
    {
      "cell_type": "code",
      "execution_count": 61,
      "metadata": {
        "colab": {
          "base_uri": "https://localhost:8080/"
        },
        "id": "5nDugba4mZGR",
        "outputId": "3d4ab258-7279-4919-9ebb-a01f4e547547"
      },
      "outputs": [
        {
          "name": "stdout",
          "output_type": "stream",
          "text": [
            "Test Accuracy: 0.7254\n",
            "Test Loss: 0.7337\n"
          ]
        }
      ],
      "source": [
        "# test evaluating\n",
        "model_ftt.load_state_dict(torch.load('./FTT_model_Best_Tunning.pth'))\n",
        "test_acc, test_loss, y_test_pred = evaluating(model_ftt, test_load, criterion)\n",
        "print(f'Test Accuracy: {test_acc:.4f}')\n",
        "print(f'Test Loss: {test_loss:.4f}')"
      ]
    },
    {
      "cell_type": "code",
      "execution_count": 62,
      "metadata": {
        "colab": {
          "base_uri": "https://localhost:8080/",
          "height": 789
        },
        "id": "Wiy42urkCXFx",
        "outputId": "46f805be-dc60-4e90-bc0a-8fa2c0fd8ea5"
      },
      "outputs": [
        {
          "name": "stdout",
          "output_type": "stream",
          "text": [
            "Balanced Accuracy = 0.495\n",
            "Accuracy = 0.648\n",
            "Precision = 0.186\n",
            "Recall = 0.249\n",
            "F1 Score = 0.213\n",
            "ROC AUC Score = 0.495\n",
            "Sensitivity = 0.249\n",
            "Specificity = 0.742\n",
            "G-mean = 0.430\n",
            "Classification_report\n",
            "              precision    recall  f1-score   support\n",
            "\n",
            "           0       0.81      0.74      0.77       919\n",
            "           1       0.19      0.25      0.21       217\n",
            "\n",
            "    accuracy                           0.65      1136\n",
            "   macro avg       0.50      0.50      0.49      1136\n",
            "weighted avg       0.69      0.65      0.67      1136\n",
            "\n",
            "Confusion Matrix:\n"
          ]
        },
        {
          "data": {
            "image/png": "[encoded data removed]",
            "text/plain": [
              "<Figure size 640x480 with 2 Axes>"
            ]
          },
          "metadata": {},
          "output_type": "display_data"
        }
      ],
      "source": [
        "show_model(y_test_pred, y_test_true)"
      ]
    }
  ],
  "metadata": {
    "accelerator": "GPU",
    "colab": {
      "gpuType": "T4",
      "provenance": []
    },
    "kernelspec": {
      "display_name": "Python 3",
      "name": "python3"
    },
    "language_info": {
      "codemirror_mode": {
        "name": "ipython",
        "version": 3
      },
      "file_extension": ".py",
      "mimetype": "text/x-python",
      "name": "python",
      "nbconvert_exporter": "python",
      "pygments_lexer": "ipython3",
      "version": "3.11.5"
    }
  },
  "nbformat": 4,
  "nbformat_minor": 0
}
