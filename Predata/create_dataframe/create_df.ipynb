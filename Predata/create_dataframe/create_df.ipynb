{
 "cells": [
  {
   "cell_type": "markdown",
   "metadata": {},
   "source": [
    "# Import library"
   ]
  },
  {
   "cell_type": "code",
   "execution_count": 1275,
   "metadata": {},
   "outputs": [],
   "source": [
    "import pandas as pd\n",
    "import numpy as np\n",
    "import matplotlib.pyplot as plt\n",
    "\n",
    "import warnings\n",
    "warnings.filterwarnings('ignore')\n"
   ]
  },
  {
   "cell_type": "markdown",
   "metadata": {},
   "source": [
    "# Import dataset"
   ]
  },
  {
   "cell_type": "code",
   "execution_count": 1276,
   "metadata": {},
   "outputs": [],
   "source": [
    "df= pd.read_excel('../tsts_05042022_anonymous.xlsx', \n",
    "                  usecols=['thaiphuid', 'd_mom_pappa', 'd_khoangsangsaugay', 'd_mom_nt', 'd_mom_hcgb', \n",
    "                           't_mom_ue3', 't_mom_afp', 't_mom_hcg', 'chieudaidaumong',\n",
    "                           'co_nangbachhuyetvungco', 'dau_duongkinhluongdinh','d_khoangsangsaugay',\n",
    "                           'Mat_XuongMui', 'co_khoangsangsaugay', 'sieuamkythun', 'dau_chuvidau', \n",
    "                           'dau_naothatben' , 'bung_chuvivongbung', 'chi_chieudaixuongdui' , 'nguc_ditattim', \n",
    "                           'mat_xuongsongmui', 'ngaysinh', 'tuoithai' ,'ngaydangkykham', 'cannang','dukiensinh',\n",
    "                           'ngaydautienchukykinhcuoi','d_ngaythuchien','t_ngaythuchien', 'ngaythuchien_thainhi',\n",
    "                           'nguc_nhiptimthai', 'pcr_trisomy21', 'bobs_trisomy21', 'karyotype_trisomy21'])"
   ]
  },
  {
   "cell_type": "code",
   "execution_count": 1277,
   "metadata": {},
   "outputs": [
    {
     "name": "stdout",
     "output_type": "stream",
     "text": [
      "<class 'pandas.core.frame.DataFrame'>\n",
      "RangeIndex: 13659 entries, 0 to 13658\n",
      "Data columns (total 33 columns):\n",
      " #   Column                    Non-Null Count  Dtype         \n",
      "---  ------                    --------------  -----         \n",
      " 0   thaiphuid                 13659 non-null  object        \n",
      " 1   ngaysinh                  13649 non-null  datetime64[ns]\n",
      " 2   cannang                   11727 non-null  float64       \n",
      " 3   ngaydautienchukykinhcuoi  4108 non-null   datetime64[ns]\n",
      " 4   ngaydangkykham            12922 non-null  datetime64[ns]\n",
      " 5   d_ngaythuchien            5892 non-null   datetime64[ns]\n",
      " 6   d_mom_hcgb                6064 non-null   float64       \n",
      " 7   d_mom_pappa               6057 non-null   float64       \n",
      " 8   d_khoangsangsaugay        5907 non-null   float64       \n",
      " 9   d_mom_nt                  5016 non-null   float64       \n",
      " 10  t_ngaythuchien            3341 non-null   datetime64[ns]\n",
      " 11  t_mom_ue3                 3672 non-null   float64       \n",
      " 12  t_mom_afp                 3670 non-null   float64       \n",
      " 13  t_mom_hcg                 3670 non-null   float64       \n",
      " 14  sieuamkythun              11366 non-null  float64       \n",
      " 15  ngaythuchien_thainhi      11352 non-null  datetime64[ns]\n",
      " 16  dukiensinh                10302 non-null  datetime64[ns]\n",
      " 17  tuoithai                  8531 non-null   float64       \n",
      " 18  chieudaidaumong           4119 non-null   float64       \n",
      " 19  dau_duongkinhluongdinh    11245 non-null  float64       \n",
      " 20  dau_chuvidau              10784 non-null  float64       \n",
      " 21  dau_naothatben            7449 non-null   float64       \n",
      " 22  Mat_XuongMui              11198 non-null  float64       \n",
      " 23  mat_xuongsongmui          7520 non-null   float64       \n",
      " 24  co_nangbachhuyetvungco    10668 non-null  float64       \n",
      " 25  co_khoangsangsaugay       4173 non-null   float64       \n",
      " 26  nguc_nhiptimthai          11212 non-null  float64       \n",
      " 27  nguc_ditattim             10668 non-null  float64       \n",
      " 28  bung_chuvivongbung        10977 non-null  float64       \n",
      " 29  chi_chieudaixuongdui      11162 non-null  float64       \n",
      " 30  karyotype_trisomy21       6989 non-null   float64       \n",
      " 31  bobs_trisomy21            5500 non-null   float64       \n",
      " 32  pcr_trisomy21             5803 non-null   float64       \n",
      "dtypes: datetime64[ns](7), float64(25), object(1)\n",
      "memory usage: 3.4+ MB\n"
     ]
    }
   ],
   "source": [
    "df.info()"
   ]
  },
  {
   "cell_type": "code",
   "execution_count": 1278,
   "metadata": {},
   "outputs": [
    {
     "name": "stdout",
     "output_type": "stream",
     "text": [
      ">thaiphuid miss 0 (0.000%)\n",
      ">ngaysinh miss 10 (0.073%)\n",
      ">cannang miss 1932 (14.145%)\n",
      ">ngaydautienchukykinhcuoi miss 9551 (69.925%)\n",
      ">ngaydangkykham miss 737 (5.396%)\n",
      ">d_ngaythuchien miss 7767 (56.864%)\n",
      ">d_mom_hcgb miss 7595 (55.604%)\n",
      ">d_mom_pappa miss 7602 (55.656%)\n",
      ">d_khoangsangsaugay miss 7752 (56.754%)\n",
      ">d_mom_nt miss 8643 (63.277%)\n",
      ">t_ngaythuchien miss 10318 (75.540%)\n",
      ">t_mom_ue3 miss 9987 (73.117%)\n",
      ">t_mom_afp miss 9989 (73.131%)\n",
      ">t_mom_hcg miss 9989 (73.131%)\n",
      ">sieuamkythun miss 2293 (16.787%)\n",
      ">ngaythuchien_thainhi miss 2307 (16.890%)\n",
      ">dukiensinh miss 3357 (24.577%)\n",
      ">tuoithai miss 5128 (37.543%)\n",
      ">chieudaidaumong miss 9540 (69.844%)\n",
      ">dau_duongkinhluongdinh miss 2414 (17.673%)\n",
      ">dau_chuvidau miss 2875 (21.048%)\n",
      ">dau_naothatben miss 6210 (45.465%)\n",
      ">Mat_XuongMui miss 2461 (18.017%)\n",
      ">mat_xuongsongmui miss 6139 (44.945%)\n",
      ">co_nangbachhuyetvungco miss 2991 (21.898%)\n",
      ">co_khoangsangsaugay miss 9486 (69.449%)\n",
      ">nguc_nhiptimthai miss 2447 (17.915%)\n",
      ">nguc_ditattim miss 2991 (21.898%)\n",
      ">bung_chuvivongbung miss 2682 (19.635%)\n",
      ">chi_chieudaixuongdui miss 2497 (18.281%)\n",
      ">karyotype_trisomy21 miss 6670 (48.832%)\n",
      ">bobs_trisomy21 miss 8159 (59.734%)\n",
      ">pcr_trisomy21 miss 7856 (57.515%)\n"
     ]
    }
   ],
   "source": [
    "for i in df.columns:\n",
    "    miss= df[i].isnull().sum()\n",
    "    cout= miss/df.shape[0]*100\n",
    "    print(\">%s miss %d (%.3f%%)\"%(i,miss,cout))"
   ]
  },
  {
   "cell_type": "code",
   "execution_count": 1279,
   "metadata": {},
   "outputs": [
    {
     "data": {
      "text/plain": [
       "(13659, 33)"
      ]
     },
     "execution_count": 1279,
     "metadata": {},
     "output_type": "execute_result"
    }
   ],
   "source": [
    "df.shape"
   ]
  },
  {
   "cell_type": "code",
   "execution_count": 1280,
   "metadata": {},
   "outputs": [
    {
     "data": {
      "text/plain": [
       "<Figure size 1000x600 with 0 Axes>"
      ]
     },
     "metadata": {},
     "output_type": "display_data"
    },
    {
     "data": {
      "image/png": "[encoded data removed]",
      "text/plain": [
       "<Figure size 640x480 with 1 Axes>"
      ]
     },
     "metadata": {},
     "output_type": "display_data"
    }
   ],
   "source": [
    "# Visualize missing data\n",
    "plt.figure(figsize=(10, 6))\n",
    "\n",
    "df_missing = df.isna().sum().reset_index()\n",
    "df_missing.columns = ['feature', 'missing_count'] # Rename columns\n",
    "df_missing = df_missing.loc[df_missing['missing_count'] > 0]\n",
    "df_missing.plot.bar(x='feature', y='missing_count')\n",
    "\n",
    "plt.title('Missing Values Count', fontsize=16)\n",
    "plt.xlabel('Columns', fontsize=14)\n",
    "plt.ylabel('Count', fontsize=14)\n",
    "plt.tick_params(axis='x', which='major', labelsize=7)\n",
    "plt.tick_params(axis='y', which='major', labelsize=7)\n",
    "plt.show()"
   ]
  },
  {
   "cell_type": "code",
   "execution_count": 1281,
   "metadata": {},
   "outputs": [],
   "source": [
    "df.dropna(how='all',inplace= True)\n",
    "df.drop_duplicates(inplace= True)"
   ]
  },
  {
   "cell_type": "code",
   "execution_count": 1282,
   "metadata": {},
   "outputs": [
    {
     "data": {
      "text/plain": [
       "(13654, 33)"
      ]
     },
     "execution_count": 1282,
     "metadata": {},
     "output_type": "execute_result"
    }
   ],
   "source": [
    "df.shape"
   ]
  },
  {
   "cell_type": "code",
   "execution_count": 1283,
   "metadata": {},
   "outputs": [],
   "source": [
    "df = df[(~df['pcr_trisomy21'].isnull())|(~df['karyotype_trisomy21'].isnull())|(~df['bobs_trisomy21'].isnull())]"
   ]
  },
  {
   "cell_type": "markdown",
   "metadata": {},
   "source": [
    "# Labeling Trisomy 21"
   ]
  },
  {
   "cell_type": "code",
   "execution_count": 1284,
   "metadata": {},
   "outputs": [],
   "source": [
    "for i in df.index:\n",
    "  if df.loc[i,'pcr_trisomy21'] == 1:\n",
    "      df.loc[i,'benh21'] = df.loc[i, 'pcr_trisomy21']\n",
    "  else:\n",
    "    if(df.loc[i, 'bobs_trisomy21']) == 1:\n",
    "      df.loc[i,'benh21'] = df.loc[i, 'bobs_trisomy21']\n",
    "    else:\n",
    "      if df.loc[i, 'karyotype_trisomy21'] == 1:\n",
    "        df.loc[i,'benh21'] = df.loc[i, 'karyotype_trisomy21']\n",
    "      else:\n",
    "        df.loc[i,'benh21'] = 0\n",
    "\n",
    "# 0: Bình thường\n",
    "# 1: Bị bệnh"
   ]
  },
  {
   "cell_type": "code",
   "execution_count": 1285,
   "metadata": {},
   "outputs": [],
   "source": [
    "df = df.drop(['karyotype_trisomy21', 'bobs_trisomy21', 'pcr_trisomy21'], axis= 1)\n",
    "\n",
    "col= [ 'cannang', 'tuoithai', 'd_mom_hcgb', 'd_mom_pappa',\n",
    "       'd_khoangsangsaugay','d_khoangsangsaugay','d_mom_nt', \n",
    "       't_mom_ue3', 't_mom_afp', 't_mom_hcg',  \n",
    "       'chieudaidaumong', 'dau_duongkinhluongdinh','bung_chuvivongbung', \n",
    "       'chi_chieudaixuongdui','dau_naothatben', 'dau_chuvidau', 'co_khoangsangsaugay', \n",
    "       'mat_xuongsongmui','nguc_nhiptimthai']\n",
    "\n",
    "# Thay thế giá trị 0 hoặc NaT bằng NaN\n",
    "for i in df.index:\n",
    "  for j in col:\n",
    "    if df.loc[i,j] == 0 or str(df.loc[i,j]) == \"NaT\":\n",
    "      df.loc[i,j]= np.NaN\n"
   ]
  },
  {
   "cell_type": "code",
   "execution_count": 1287,
   "metadata": {},
   "outputs": [
    {
     "name": "stdout",
     "output_type": "stream",
     "text": [
      "thaiphuid miss 0: 0.000 %\n",
      "ngaysinh miss 5: 0.071 %\n",
      "cannang miss 5066: 71.960 %\n",
      "ngaydautienchukykinhcuoi miss 4229: 60.071 %\n",
      "ngaydangkykham miss 625: 8.878 %\n",
      "d_ngaythuchien miss 4223: 59.986 %\n",
      "d_mom_hcgb miss 4320: 61.364 %\n",
      "d_mom_pappa miss 4327: 61.463 %\n",
      "d_khoangsangsaugay miss 4511: 64.077 %\n",
      "d_mom_nt miss 5465: 77.628 %\n",
      "t_ngaythuchien miss 5016: 71.250 %\n",
      "t_mom_ue3 miss 5063: 71.918 %\n",
      "t_mom_afp miss 5059: 71.861 %\n",
      "t_mom_hcg miss 5064: 71.932 %\n",
      "sieuamkythun miss 11: 0.156 %\n",
      "ngaythuchien_thainhi miss 25: 0.355 %\n",
      "dukiensinh miss 929: 13.196 %\n",
      "tuoithai miss 2420: 34.375 %\n",
      "chieudaidaumong miss 5226: 74.233 %\n",
      "dau_duongkinhluongdinh miss 151: 2.145 %\n",
      "dau_chuvidau miss 661: 9.389 %\n",
      "dau_naothatben miss 3169: 45.014 %\n",
      "Mat_XuongMui miss 12: 0.170 %\n",
      "mat_xuongsongmui miss 3121: 44.332 %\n",
      "co_nangbachhuyetvungco miss 548: 7.784 %\n",
      "co_khoangsangsaugay miss 5166: 73.381 %\n",
      "nguc_nhiptimthai miss 186: 2.642 %\n",
      "nguc_ditattim miss 548: 7.784 %\n",
      "bung_chuvivongbung miss 452: 6.420 %\n",
      "chi_chieudaixuongdui miss 234: 3.324 %\n",
      "benh21 miss 0: 0.000 %\n"
     ]
    }
   ],
   "source": [
    "for j in df.columns:\n",
    "    miss = df[j].isnull().sum()\n",
    "    cout = miss/df.shape[0]*100\n",
    "    print(\"%s miss %d: %.3f %%\"%(j,miss,cout))"
   ]
  },
  {
   "cell_type": "markdown",
   "metadata": {},
   "source": [
    "# Process features"
   ]
  },
  {
   "cell_type": "markdown",
   "metadata": {},
   "source": [
    "## Tính toán tuổi mẹ (tuoime)"
   ]
  },
  {
   "cell_type": "code",
   "execution_count": 1289,
   "metadata": {},
   "outputs": [],
   "source": [
    "# tuoime1 = Ngày đăng kí khám - Ngày sinh của mẹ\n",
    "for i in df.index:\n",
    "  df.loc[i, 'tuoime1'] = (df.loc[i,'ngaydangkykham'] - df.loc[i, 'ngaysinh']).total_seconds()/(365*24*60*60)"
   ]
  },
  {
   "cell_type": "code",
   "execution_count": 1290,
   "metadata": {},
   "outputs": [],
   "source": [
    "# tuoime2 = Ngày thực hiện siêu âm - Ngày sinh của mẹ\n",
    "for i in df.index:\n",
    "  df.loc[i, 'tuoime2'] = (df.loc[i,'ngaythuchien_thainhi'] - df.loc[i, 'ngaysinh']).total_seconds()/(365*24*60*60)"
   ]
  },
  {
   "cell_type": "code",
   "execution_count": 1291,
   "metadata": {},
   "outputs": [],
   "source": [
    "# tuoime3 = Ngày thực hiện double test - Ngày sinh của mẹ\n",
    "for i in df.index:\n",
    "  df.loc[i, 'tuoime3'] = (df.loc[i,'d_ngaythuchien'] - df.loc[i, 'ngaysinh']).total_seconds()/(365*24*60*60)"
   ]
  },
  {
   "cell_type": "code",
   "execution_count": 1292,
   "metadata": {},
   "outputs": [],
   "source": [
    "# tuoime4 = Ngày thực hiện triple test - Ngày sinh của mẹ\n",
    "for i in df.index:\n",
    "  df.loc[i, 'tuoime4'] = (df.loc[i,'t_ngaythuchien'] - df.loc[i, 'ngaysinh']).total_seconds()/(365*24*60*60)"
   ]
  },
  {
   "cell_type": "code",
   "execution_count": 1293,
   "metadata": {},
   "outputs": [],
   "source": [
    "for i in df.index:\n",
    "  if np.isnan(df.loc[i, 'tuoime1']) != True and df.loc[i, \"tuoime1\"] > 17:\n",
    "     df.loc[i, 'tuoime'] = df.loc[i, 'tuoime1'] \n",
    "  else:\n",
    "    if np.isnan(df.loc[i, 'tuoime2']) != True and df.loc[i, \"tuoime2\"] > 17:\n",
    "        df.loc[i, 'tuoime'] = df.loc[i, 'tuoime2']  \n",
    "    else: \n",
    "      if np.isnan(df.loc[i, 'tuoime3']) != True and df.loc[i, \"tuoime3\"]>17:\n",
    "        df.loc[i, 'tuoime'] = df.loc[i, 'tuoime3']  \n",
    "      else:\n",
    "        if np.isnan(df.loc[i, 'tuoime4']) != True and df.loc[i, \"tuoime4\"]>17:\n",
    "          df.loc[i, 'tuoime'] = df.loc[i, 'tuoime4']  \n",
    "        else:\n",
    "          df.loc[i, 'tuoime'] = np.NaN\n",
    "\n",
    "df['tuoime'] = round(df['tuoime'])\n",
    "\n",
    "df.drop(['tuoime1', 'tuoime2', 'tuoime3', 'tuoime4'], axis=1, inplace=True)\n",
    "df.drop(['ngaysinh', 'ngaydangkykham', 'd_ngaythuchien', 't_ngaythuchien'], axis=1, inplace=True)"
   ]
  },
  {
   "cell_type": "code",
   "execution_count": 1294,
   "metadata": {},
   "outputs": [
    {
     "data": {
      "text/plain": [
       "Index(['thaiphuid', 'cannang', 'ngaydautienchukykinhcuoi', 'd_mom_hcgb',\n",
       "       'd_mom_pappa', 'd_khoangsangsaugay', 'd_mom_nt', 't_mom_ue3',\n",
       "       't_mom_afp', 't_mom_hcg', 'sieuamkythun', 'ngaythuchien_thainhi',\n",
       "       'dukiensinh', 'tuoithai', 'chieudaidaumong', 'dau_duongkinhluongdinh',\n",
       "       'dau_chuvidau', 'dau_naothatben', 'Mat_XuongMui', 'mat_xuongsongmui',\n",
       "       'co_nangbachhuyetvungco', 'co_khoangsangsaugay', 'nguc_nhiptimthai',\n",
       "       'nguc_ditattim', 'bung_chuvivongbung', 'chi_chieudaixuongdui', 'benh21',\n",
       "       'tuoime'],\n",
       "      dtype='object')"
      ]
     },
     "execution_count": 1294,
     "metadata": {},
     "output_type": "execute_result"
    }
   ],
   "source": [
    "df.columns"
   ]
  },
  {
   "cell_type": "markdown",
   "metadata": {},
   "source": [
    "## Tính toán tuổi thai nhi (tuoithainhi)"
   ]
  },
  {
   "cell_type": "code",
   "execution_count": 1295,
   "metadata": {},
   "outputs": [],
   "source": [
    "# tuoithai1 = 40 tuần - (Ngày dự kiến sinh - Ngày thực hiện siêu âm)\n",
    "for i in df.index:\n",
    "  df.loc[i, 'tuoithai1'] = 40*7 - (df.loc[i, 'dukiensinh'] - df.loc[i, 'ngaythuchien_thainhi']).total_seconds()/(24*60*60)"
   ]
  },
  {
   "cell_type": "code",
   "execution_count": 1296,
   "metadata": {},
   "outputs": [],
   "source": [
    "# tuoithai2 = Ngày thực hiện siêu âm - Ngày chu kỳ kinh cuối\n",
    "for i in df.index:\n",
    "  df.loc[i, 'tuoithai2'] = (df.loc[i, 'ngaythuchien_thainhi'] - df.loc[i, 'ngaydautienchukykinhcuoi']).total_seconds()/(24*60*60)"
   ]
  },
  {
   "cell_type": "code",
   "execution_count": 1297,
   "metadata": {},
   "outputs": [],
   "source": [
    "# tuoithai3\n",
    "dict_cddm= {10: 52, 11: 53, 12: 54, 13: 56, 14: 57, 15: 58, 16: 59, 17: 60,18: 61, 19: 62, \n",
    "            20: 63, 21: 64, 22: 65, 23: 66, 24: 67, 25: 68, 26: 69, 27: 70, 28: 71, 29: 72,\n",
    "            30: 72, 31: 73, 32: 74, 33: 75, 34: 76, 35: 76, 36: 77, 37: 78, 38: 79, 39: 79, \n",
    "            40: 80, 41: 81, 42: 81, 43: 82, 44: 83, 45: 83, 46: 84, 47: 85, 48: 85, 49: 86}\n",
    "for i in df.index:\n",
    "  try:\n",
    "    df.loc[i, 'tuoithai3'] = dict_cddm[df.loc[i, 'chieudaidaumong']]\n",
    "  except:\n",
    "    df.loc[i, 'tuoithai3'] = np.NaN\n",
    "# ánh xạ từ dict_cddm vào df dựa trên cột 'chieudaidaumong'\n"
   ]
  },
  {
   "cell_type": "code",
   "execution_count": 1298,
   "metadata": {},
   "outputs": [],
   "source": [
    "# tuoithai4 = 10.5992189734−0.1682642749×BPD+0.0451977088×HC+0.0302344331×AC+0.0575622626×FL+0.002497813×BPD^2+0.0017031489×FL^2+0.0005458077×(BPD×AC)−0.0051546864×(BPD×FL)−0.000276112×(HC×AC)+0.0007657091×(HC×FL)+0.0005523225×(AC×FL)\n",
    "# BPD: đường kính lưỡng đỉnh\n",
    "# AC: chu vi bụng\n",
    "# HC: vòng đầu\n",
    "# FL: chiều dài xương đùi\n",
    "\n",
    "for i in df.index:\n",
    "  try:\n",
    "    df.loc[i, 'tuoithai4'] = 10.5992189734 - 0.1682642749*df.loc[i, 'dau_duongkinhluongdinh'] + 0.0451977088*df.loc[i, 'dau_chuvidau'] + 0.0302344331*df.loc[i, 'bung_chuvivongbung'] + 0.0575622626*df.loc[i, 'chi_chieudaixuongdui'] + 0.002497813*df.loc[i, 'dau_duongkinhluongdinh']**2 + 0.0017031489*df.loc[i, 'chi_chieudaixuongdui']**2 + 0.0005458077*df.loc[i, 'dau_duongkinhluongdinh']*df.loc[i, 'bung_chuvivongbung'] - 0.0051546864*df.loc[i, 'dau_duongkinhluongdinh']*df.loc[i, 'chi_chieudaixuongdui'] - 0.000276112*df.loc[i, 'dau_chuvidau']*df.loc[i, 'bung_chuvivongbung'] + 0.0007657091*df.loc[i, 'dau_chuvidau']*df.loc[i, 'chi_chieudaixuongdui'] + 0.0005523225*df.loc[i, 'bung_chuvivongbung']*df.loc[i, 'chi_chieudaixuongdui']\n",
    "  except:\n",
    "    df.loc[i, 'tuoithai4'] = np.NaN\n",
    "\n",
    "df['tuoithai4'] = df['tuoithai4']* 7"
   ]
  },
  {
   "cell_type": "code",
   "execution_count": 1299,
   "metadata": {},
   "outputs": [],
   "source": [
    "dict_quy= {1:[70,97], 2:[98,167], 3:[168,195], 4:[196,280]}\n",
    "\n",
    "for i in df.index:\n",
    "  if np.isnan(df.loc[i, 'tuoithai']) != True and df.loc[i, 'tuoithai'] <= dict_quy[df.loc[i, 'sieuamkythun']][1] and df.loc[i, 'tuoithai'] >= dict_quy[df.loc[i, 'sieuamkythun']][0] :\n",
    "    df.loc[i, 'tuoithainhi'] = df.loc[i, 'tuoithai']\n",
    "  else:\n",
    "    if np.isnan(df.loc[i, 'tuoithai1']) !=True and df.loc[i, 'tuoithai1'] <= dict_quy[df.loc[i, 'sieuamkythun']][1] and df.loc[i, 'tuoithai1'] >= dict_quy[df.loc[i, 'sieuamkythun']][0]:\n",
    "      df.loc[i, 'tuoithainhi'] = df.loc[i, 'tuoithai1']\n",
    "    else:\n",
    "      if np.isnan(df.loc[i, 'tuoithai3']) !=True and df.loc[i, 'tuoithai3'] <= dict_quy[df.loc[i, 'sieuamkythun']][1] and df.loc[i, 'tuoithai3'] >= dict_quy[df.loc[i, 'sieuamkythun']][0]:\n",
    "        df.loc[i, 'tuoithainhi'] = df.loc[i, 'tuoithai3']\n",
    "      else:\n",
    "        if np.isnan(df.loc[i, 'tuoithai2']) !=True and df.loc[i, 'tuoithai2'] <= dict_quy[df.loc[i, 'sieuamkythun']][1] and df.loc[i, 'tuoithai2'] >= dict_quy[df.loc[i, 'sieuamkythun']][0]:\n",
    "          df.loc[i, 'tuoithainhi'] = df.loc[i, 'tuoithai2']\n",
    "        else:\n",
    "          if np.isnan(df.loc[i, 'tuoithai4']) !=True and df.loc[i, 'tuoithai4'] <= dict_quy[df.loc[i, 'sieuamkythun']][1] and df.loc[i, 'tuoithai4'] >= dict_quy[df.loc[i, 'sieuamkythun']][0]:\n",
    "            df.loc[i, 'tuoithainhi'] = df.loc[i, 'tuoithai4']\n",
    "          else:\n",
    "            df.loc[i, 'tuoithainhi'] = np.NaN\n",
    "\n",
    "df['tuoithainhi']= round(df['tuoithainhi'])\n",
    "\n",
    "df.drop(['tuoithai', 'tuoithai1', 'tuoithai2', 'tuoithai3', 'tuoithai4'], axis=1, inplace=True)\n",
    "df.drop(['ngaydautienchukykinhcuoi', 'ngaythuchien_thainhi', 'dukiensinh'], axis=1, inplace=True)"
   ]
  },
  {
   "cell_type": "code",
   "execution_count": 1300,
   "metadata": {},
   "outputs": [
    {
     "data": {
      "text/plain": [
       "Index(['thaiphuid', 'cannang', 'd_mom_hcgb', 'd_mom_pappa',\n",
       "       'd_khoangsangsaugay', 'd_mom_nt', 't_mom_ue3', 't_mom_afp', 't_mom_hcg',\n",
       "       'sieuamkythun', 'chieudaidaumong', 'dau_duongkinhluongdinh',\n",
       "       'dau_chuvidau', 'dau_naothatben', 'Mat_XuongMui', 'mat_xuongsongmui',\n",
       "       'co_nangbachhuyetvungco', 'co_khoangsangsaugay', 'nguc_nhiptimthai',\n",
       "       'nguc_ditattim', 'bung_chuvivongbung', 'chi_chieudaixuongdui', 'benh21',\n",
       "       'tuoime', 'tuoithainhi'],\n",
       "      dtype='object')"
      ]
     },
     "execution_count": 1300,
     "metadata": {},
     "output_type": "execute_result"
    }
   ],
   "source": [
    "df.columns"
   ]
  },
  {
   "cell_type": "markdown",
   "metadata": {},
   "source": [
    "## khoangsangsaugay"
   ]
  },
  {
   "cell_type": "code",
   "execution_count": 1301,
   "metadata": {},
   "outputs": [],
   "source": [
    "for i in df.index:\n",
    "  if df.loc[i, 'co_khoangsangsaugay'] >6 and df.loc[i, 'benh21'] == 2:\n",
    "    df.loc[i, 'co_khoangsangsaugay'] = np.NaN"
   ]
  },
  {
   "cell_type": "code",
   "execution_count": 1302,
   "metadata": {},
   "outputs": [],
   "source": [
    "for i in df.index:\n",
    "  if df.loc[i, 'd_khoangsangsaugay'] > 6 or df.loc[i, 'd_khoangsangsaugay'] < 0:\n",
    "    df.loc[i, 'd_khoangsangsaugay']= np.NaN"
   ]
  },
  {
   "cell_type": "code",
   "execution_count": 1303,
   "metadata": {},
   "outputs": [
    {
     "data": {
      "text/html": [
       "<div>\n",
       "<style scoped>\n",
       "    .dataframe tbody tr th:only-of-type {\n",
       "        vertical-align: middle;\n",
       "    }\n",
       "\n",
       "    .dataframe tbody tr th {\n",
       "        vertical-align: top;\n",
       "    }\n",
       "\n",
       "    .dataframe thead th {\n",
       "        text-align: right;\n",
       "    }\n",
       "</style>\n",
       "<table border=\"1\" class=\"dataframe\">\n",
       "  <thead>\n",
       "    <tr style=\"text-align: right;\">\n",
       "      <th></th>\n",
       "      <th>cannang</th>\n",
       "      <th>d_mom_hcgb</th>\n",
       "      <th>d_mom_pappa</th>\n",
       "      <th>d_khoangsangsaugay</th>\n",
       "      <th>d_mom_nt</th>\n",
       "      <th>t_mom_ue3</th>\n",
       "      <th>t_mom_afp</th>\n",
       "      <th>t_mom_hcg</th>\n",
       "      <th>sieuamkythun</th>\n",
       "      <th>chieudaidaumong</th>\n",
       "      <th>...</th>\n",
       "      <th>mat_xuongsongmui</th>\n",
       "      <th>co_nangbachhuyetvungco</th>\n",
       "      <th>co_khoangsangsaugay</th>\n",
       "      <th>nguc_nhiptimthai</th>\n",
       "      <th>nguc_ditattim</th>\n",
       "      <th>bung_chuvivongbung</th>\n",
       "      <th>chi_chieudaixuongdui</th>\n",
       "      <th>benh21</th>\n",
       "      <th>tuoime</th>\n",
       "      <th>tuoithainhi</th>\n",
       "    </tr>\n",
       "  </thead>\n",
       "  <tbody>\n",
       "    <tr>\n",
       "      <th>count</th>\n",
       "      <td>1.974000e+03</td>\n",
       "      <td>2720.000000</td>\n",
       "      <td>2713.000000</td>\n",
       "      <td>2515.000000</td>\n",
       "      <td>1575.000000</td>\n",
       "      <td>1977.000000</td>\n",
       "      <td>1981.000000</td>\n",
       "      <td>1976.000000</td>\n",
       "      <td>7029.000000</td>\n",
       "      <td>1814.000000</td>\n",
       "      <td>...</td>\n",
       "      <td>3919.000000</td>\n",
       "      <td>6492.000000</td>\n",
       "      <td>1874.000000</td>\n",
       "      <td>6854.000000</td>\n",
       "      <td>6492.000000</td>\n",
       "      <td>6588.000000</td>\n",
       "      <td>6806.000000</td>\n",
       "      <td>7040.000000</td>\n",
       "      <td>6993.000000</td>\n",
       "      <td>6955.000000</td>\n",
       "    </tr>\n",
       "    <tr>\n",
       "      <th>mean</th>\n",
       "      <td>2.544177e+06</td>\n",
       "      <td>3.215430</td>\n",
       "      <td>13.790296</td>\n",
       "      <td>1.786529</td>\n",
       "      <td>21.292638</td>\n",
       "      <td>29.237217</td>\n",
       "      <td>47.792553</td>\n",
       "      <td>51.444202</td>\n",
       "      <td>1.781192</td>\n",
       "      <td>63.180094</td>\n",
       "      <td>...</td>\n",
       "      <td>5.266440</td>\n",
       "      <td>1.993685</td>\n",
       "      <td>2.909685</td>\n",
       "      <td>153.933761</td>\n",
       "      <td>1.950709</td>\n",
       "      <td>111.752125</td>\n",
       "      <td>20.320599</td>\n",
       "      <td>0.156108</td>\n",
       "      <td>31.748034</td>\n",
       "      <td>117.210784</td>\n",
       "    </tr>\n",
       "    <tr>\n",
       "      <th>std</th>\n",
       "      <td>1.130347e+08</td>\n",
       "      <td>44.437838</td>\n",
       "      <td>282.500436</td>\n",
       "      <td>0.870509</td>\n",
       "      <td>485.171604</td>\n",
       "      <td>512.587768</td>\n",
       "      <td>1789.789335</td>\n",
       "      <td>966.489196</td>\n",
       "      <td>0.551228</td>\n",
       "      <td>16.030848</td>\n",
       "      <td>...</td>\n",
       "      <td>3.418055</td>\n",
       "      <td>0.079225</td>\n",
       "      <td>1.804573</td>\n",
       "      <td>19.281914</td>\n",
       "      <td>0.216493</td>\n",
       "      <td>42.418713</td>\n",
       "      <td>10.995320</td>\n",
       "      <td>0.362983</td>\n",
       "      <td>6.162140</td>\n",
       "      <td>25.077972</td>\n",
       "    </tr>\n",
       "    <tr>\n",
       "      <th>min</th>\n",
       "      <td>3.800000e+01</td>\n",
       "      <td>0.060000</td>\n",
       "      <td>0.000800</td>\n",
       "      <td>0.200000</td>\n",
       "      <td>-48.000000</td>\n",
       "      <td>0.051600</td>\n",
       "      <td>0.171100</td>\n",
       "      <td>0.060000</td>\n",
       "      <td>1.000000</td>\n",
       "      <td>6.000000</td>\n",
       "      <td>...</td>\n",
       "      <td>0.450000</td>\n",
       "      <td>1.000000</td>\n",
       "      <td>0.500000</td>\n",
       "      <td>45.000000</td>\n",
       "      <td>1.000000</td>\n",
       "      <td>6.000000</td>\n",
       "      <td>1.000000</td>\n",
       "      <td>0.000000</td>\n",
       "      <td>17.000000</td>\n",
       "      <td>70.000000</td>\n",
       "    </tr>\n",
       "    <tr>\n",
       "      <th>25%</th>\n",
       "      <td>4.800000e+01</td>\n",
       "      <td>0.956750</td>\n",
       "      <td>0.388000</td>\n",
       "      <td>1.200000</td>\n",
       "      <td>0.900000</td>\n",
       "      <td>0.561500</td>\n",
       "      <td>0.640000</td>\n",
       "      <td>1.010000</td>\n",
       "      <td>1.000000</td>\n",
       "      <td>57.000000</td>\n",
       "      <td>...</td>\n",
       "      <td>4.000000</td>\n",
       "      <td>2.000000</td>\n",
       "      <td>1.600000</td>\n",
       "      <td>148.000000</td>\n",
       "      <td>2.000000</td>\n",
       "      <td>77.000000</td>\n",
       "      <td>11.000000</td>\n",
       "      <td>0.000000</td>\n",
       "      <td>27.000000</td>\n",
       "      <td>95.000000</td>\n",
       "    </tr>\n",
       "    <tr>\n",
       "      <th>50%</th>\n",
       "      <td>5.100000e+01</td>\n",
       "      <td>1.588000</td>\n",
       "      <td>0.630000</td>\n",
       "      <td>1.500000</td>\n",
       "      <td>1.150000</td>\n",
       "      <td>0.740000</td>\n",
       "      <td>0.829000</td>\n",
       "      <td>1.517700</td>\n",
       "      <td>2.000000</td>\n",
       "      <td>63.000000</td>\n",
       "      <td>...</td>\n",
       "      <td>4.900000</td>\n",
       "      <td>2.000000</td>\n",
       "      <td>3.000000</td>\n",
       "      <td>154.000000</td>\n",
       "      <td>2.000000</td>\n",
       "      <td>109.000000</td>\n",
       "      <td>20.000000</td>\n",
       "      <td>0.000000</td>\n",
       "      <td>31.000000</td>\n",
       "      <td>115.000000</td>\n",
       "    </tr>\n",
       "    <tr>\n",
       "      <th>75%</th>\n",
       "      <td>5.600000e+01</td>\n",
       "      <td>2.810000</td>\n",
       "      <td>1.000000</td>\n",
       "      <td>2.155000</td>\n",
       "      <td>1.820000</td>\n",
       "      <td>0.990000</td>\n",
       "      <td>1.060200</td>\n",
       "      <td>2.186125</td>\n",
       "      <td>2.000000</td>\n",
       "      <td>69.000000</td>\n",
       "      <td>...</td>\n",
       "      <td>6.000000</td>\n",
       "      <td>2.000000</td>\n",
       "      <td>3.700000</td>\n",
       "      <td>160.000000</td>\n",
       "      <td>2.000000</td>\n",
       "      <td>131.000000</td>\n",
       "      <td>26.000000</td>\n",
       "      <td>0.000000</td>\n",
       "      <td>37.000000</td>\n",
       "      <td>128.000000</td>\n",
       "    </tr>\n",
       "    <tr>\n",
       "      <th>max</th>\n",
       "      <td>5.022102e+09</td>\n",
       "      <td>2152.000000</td>\n",
       "      <td>7086.000000</td>\n",
       "      <td>6.000000</td>\n",
       "      <td>15873.000000</td>\n",
       "      <td>10208.000000</td>\n",
       "      <td>78352.000000</td>\n",
       "      <td>26721.000000</td>\n",
       "      <td>4.000000</td>\n",
       "      <td>641.000000</td>\n",
       "      <td>...</td>\n",
       "      <td>101.000000</td>\n",
       "      <td>2.000000</td>\n",
       "      <td>47.000000</td>\n",
       "      <td>1488.000000</td>\n",
       "      <td>2.000000</td>\n",
       "      <td>354.000000</td>\n",
       "      <td>157.000000</td>\n",
       "      <td>1.000000</td>\n",
       "      <td>55.000000</td>\n",
       "      <td>255.000000</td>\n",
       "    </tr>\n",
       "  </tbody>\n",
       "</table>\n",
       "<p>8 rows × 24 columns</p>\n",
       "</div>"
      ],
      "text/plain": [
       "            cannang   d_mom_hcgb  d_mom_pappa  d_khoangsangsaugay  \\\n",
       "count  1.974000e+03  2720.000000  2713.000000         2515.000000   \n",
       "mean   2.544177e+06     3.215430    13.790296            1.786529   \n",
       "std    1.130347e+08    44.437838   282.500436            0.870509   \n",
       "min    3.800000e+01     0.060000     0.000800            0.200000   \n",
       "25%    4.800000e+01     0.956750     0.388000            1.200000   \n",
       "50%    5.100000e+01     1.588000     0.630000            1.500000   \n",
       "75%    5.600000e+01     2.810000     1.000000            2.155000   \n",
       "max    5.022102e+09  2152.000000  7086.000000            6.000000   \n",
       "\n",
       "           d_mom_nt     t_mom_ue3     t_mom_afp     t_mom_hcg  sieuamkythun  \\\n",
       "count   1575.000000   1977.000000   1981.000000   1976.000000   7029.000000   \n",
       "mean      21.292638     29.237217     47.792553     51.444202      1.781192   \n",
       "std      485.171604    512.587768   1789.789335    966.489196      0.551228   \n",
       "min      -48.000000      0.051600      0.171100      0.060000      1.000000   \n",
       "25%        0.900000      0.561500      0.640000      1.010000      1.000000   \n",
       "50%        1.150000      0.740000      0.829000      1.517700      2.000000   \n",
       "75%        1.820000      0.990000      1.060200      2.186125      2.000000   \n",
       "max    15873.000000  10208.000000  78352.000000  26721.000000      4.000000   \n",
       "\n",
       "       chieudaidaumong  ...  mat_xuongsongmui  co_nangbachhuyetvungco  \\\n",
       "count      1814.000000  ...       3919.000000             6492.000000   \n",
       "mean         63.180094  ...          5.266440                1.993685   \n",
       "std          16.030848  ...          3.418055                0.079225   \n",
       "min           6.000000  ...          0.450000                1.000000   \n",
       "25%          57.000000  ...          4.000000                2.000000   \n",
       "50%          63.000000  ...          4.900000                2.000000   \n",
       "75%          69.000000  ...          6.000000                2.000000   \n",
       "max         641.000000  ...        101.000000                2.000000   \n",
       "\n",
       "       co_khoangsangsaugay  nguc_nhiptimthai  nguc_ditattim  \\\n",
       "count          1874.000000       6854.000000    6492.000000   \n",
       "mean              2.909685        153.933761       1.950709   \n",
       "std               1.804573         19.281914       0.216493   \n",
       "min               0.500000         45.000000       1.000000   \n",
       "25%               1.600000        148.000000       2.000000   \n",
       "50%               3.000000        154.000000       2.000000   \n",
       "75%               3.700000        160.000000       2.000000   \n",
       "max              47.000000       1488.000000       2.000000   \n",
       "\n",
       "       bung_chuvivongbung  chi_chieudaixuongdui       benh21       tuoime  \\\n",
       "count         6588.000000           6806.000000  7040.000000  6993.000000   \n",
       "mean           111.752125             20.320599     0.156108    31.748034   \n",
       "std             42.418713             10.995320     0.362983     6.162140   \n",
       "min              6.000000              1.000000     0.000000    17.000000   \n",
       "25%             77.000000             11.000000     0.000000    27.000000   \n",
       "50%            109.000000             20.000000     0.000000    31.000000   \n",
       "75%            131.000000             26.000000     0.000000    37.000000   \n",
       "max            354.000000            157.000000     1.000000    55.000000   \n",
       "\n",
       "       tuoithainhi  \n",
       "count  6955.000000  \n",
       "mean    117.210784  \n",
       "std      25.077972  \n",
       "min      70.000000  \n",
       "25%      95.000000  \n",
       "50%     115.000000  \n",
       "75%     128.000000  \n",
       "max     255.000000  \n",
       "\n",
       "[8 rows x 24 columns]"
      ]
     },
     "execution_count": 1303,
     "metadata": {},
     "output_type": "execute_result"
    }
   ],
   "source": [
    "df.describe()"
   ]
  },
  {
   "cell_type": "markdown",
   "metadata": {},
   "source": [
    "## cannang"
   ]
  },
  {
   "cell_type": "code",
   "execution_count": 1304,
   "metadata": {},
   "outputs": [],
   "source": [
    "# Bỏ qua cân nặng\n",
    "df.drop('cannang', axis =1, inplace= True) "
   ]
  },
  {
   "cell_type": "markdown",
   "metadata": {},
   "source": [
    "## Chieu dai xuong mui"
   ]
  },
  {
   "cell_type": "code",
   "execution_count": 1305,
   "metadata": {},
   "outputs": [],
   "source": [
    "for i in df.index:\n",
    "  if df.loc[i, 'mat_xuongsongmui'] > 10:\n",
    "    df.loc[i, 'mat_xuongsongmui'] = np.NaN"
   ]
  },
  {
   "cell_type": "markdown",
   "metadata": {},
   "source": [
    "## chieudaidaumong"
   ]
  },
  {
   "cell_type": "code",
   "execution_count": 1306,
   "metadata": {},
   "outputs": [],
   "source": [
    "s1 = [0, 1, 2, 3, 4, 5, 12.5, 25, 37.5, 50, 62.5, 75, 87.5, 95, 96, 97, 98, 99, 100]\n",
    "s2 = []\n",
    "\n",
    "# tính phân vị cột\n",
    "for i in s1:\n",
    "  s2.append(np.percentile(df['chieudaidaumong'].dropna().values, i))\n",
    "for i in df.index:\n",
    "  if df.loc[i, 'chieudaidaumong'] < 23 or df.loc[i, 'chieudaidaumong'] > 93: # giá trị ngoại lai\n",
    "    df.loc[i, 'chieudaidaumong'] = np.NaN"
   ]
  },
  {
   "cell_type": "markdown",
   "metadata": {},
   "source": [
    "## dau_duongkinhluongdinh"
   ]
  },
  {
   "cell_type": "code",
   "execution_count": 1307,
   "metadata": {},
   "outputs": [],
   "source": [
    "s1 = [0, 1, 2, 3, 4, 5, 12.5, 25, 37.5, 50, 62.5, 75, 87.5, 95, 96, 97, 98, 99, 100]\n",
    "s2 = []\n",
    "\n",
    "# tính phân vị cột\n",
    "for i in s1:\n",
    "  s2.append(np.percentile(df['dau_duongkinhluongdinh'].dropna().values, i))\n",
    "for i in df.index:\n",
    "  if df.loc[i, 'dau_duongkinhluongdinh'] < 10 or df.loc[i, 'dau_duongkinhluongdinh'] > 99: # giá trị ngoại lai\n",
    "    df.loc[i, 'dau_duongkinhluongdinh']= np.NaN"
   ]
  },
  {
   "cell_type": "markdown",
   "metadata": {},
   "source": [
    "## dau_chuvidau"
   ]
  },
  {
   "cell_type": "code",
   "execution_count": 1308,
   "metadata": {},
   "outputs": [],
   "source": [
    "s1 = [0, 1, 2, 3, 4, 5, 12.5, 25, 37.5, 50, 62.5, 75, 87.5, 95, 96, 97, 98, 99, 100]\n",
    "s2 = []\n",
    "\n",
    "# tính phân vị cột\n",
    "for i in s1:\n",
    "  s2.append(np.percentile(df['dau_chuvidau'].dropna().values, i))\n",
    "s2\n",
    "for i in df.index:\n",
    "  if df.loc[i, 'dau_chuvidau'] < 50 or df.loc[i, 'dau_chuvidau'] > 320: # giá trị ngoại lai\n",
    "    df.loc[i, 'dau_chuvidau'] = np.NaN"
   ]
  },
  {
   "cell_type": "markdown",
   "metadata": {},
   "source": [
    "## chi_chieudaixuongdui"
   ]
  },
  {
   "cell_type": "code",
   "execution_count": 1309,
   "metadata": {},
   "outputs": [],
   "source": [
    "s1 = [0, 1, 2, 3, 4, 5, 12.5, 25, 37.5, 50, 62.5, 75, 87.5, 95, 96, 97, 98, 99, 100]\n",
    "s2 = []\n",
    "\n",
    "# tính phân vị cột\n",
    "for i in s1:\n",
    "  s2.append(np.percentile(df['chi_chieudaixuongdui'].dropna().values, i))\n",
    "s2\n",
    "for i in df.index:\n",
    "  if df.loc[i, 'chi_chieudaixuongdui'] < 4 or df.loc[i, 'chi_chieudaixuongdui'] > 84: # giá trị ngoại lai\n",
    "    df.loc[i, 'chi_chieudaixuongdui'] = np.NaN"
   ]
  },
  {
   "cell_type": "markdown",
   "metadata": {},
   "source": [
    "## dau_naothatben"
   ]
  },
  {
   "cell_type": "code",
   "execution_count": 1310,
   "metadata": {},
   "outputs": [],
   "source": [
    "for i in df.index:\n",
    "  if df.loc[i, 'dau_naothatben'] > 40 or df.loc[i, 'dau_naothatben'] < 0: # giá trị ngoại lai\n",
    "    df.loc[i, 'dau_naothatben'] = np.NaN"
   ]
  },
  {
   "cell_type": "markdown",
   "metadata": {},
   "source": [
    "## bung_chuvivongbung"
   ]
  },
  {
   "cell_type": "code",
   "execution_count": 1311,
   "metadata": {},
   "outputs": [],
   "source": [
    "s1 = [0, 1, 2, 3, 4, 5, 12.5, 25, 37.5, 50, 62.5, 75, 87.5, 95, 96, 97, 98, 99, 100]\n",
    "s2 = []\n",
    "\n",
    "# tính phân vị cột\n",
    "for i in s1:\n",
    "  s2.append(np.percentile(df['bung_chuvivongbung'].dropna().values, i))\n",
    "\n",
    "for i in df.index:\n",
    "  if df.loc[i, 'bung_chuvivongbung'] < 35 or df.loc[i, 'bung_chuvivongbung'] > 392: # giá trị ngoại lai\n",
    "    df.loc[i, 'bung_chuvivongbung'] = np.NaN"
   ]
  },
  {
   "cell_type": "markdown",
   "metadata": {},
   "source": [
    "## nguc_nhiptimthai"
   ]
  },
  {
   "cell_type": "code",
   "execution_count": 1312,
   "metadata": {},
   "outputs": [],
   "source": [
    "s1 = [0, 1, 2, 3, 4, 5, 12.5, 25, 37.5, 50, 62.5, 75, 87.5, 95, 96, 97, 98, 99, 100]\n",
    "s2 = []\n",
    "\n",
    "# tính phân vị cột\n",
    "for i in s1:\n",
    "  s2.append(np.percentile(df['nguc_nhiptimthai'].dropna().values, i))\n",
    "for i in df.index:\n",
    "  if df.loc[i, 'nguc_nhiptimthai'] < 110 or df.loc[i, 'nguc_nhiptimthai'] > 190: # giá trị ngoại lai\n",
    "    df.loc[i, 'nguc_nhiptimthai'] = np.NaN"
   ]
  },
  {
   "cell_type": "markdown",
   "metadata": {},
   "source": [
    "## Double Test"
   ]
  },
  {
   "cell_type": "markdown",
   "metadata": {},
   "source": [
    "### d_mom_pappa"
   ]
  },
  {
   "cell_type": "code",
   "execution_count": 1313,
   "metadata": {},
   "outputs": [],
   "source": [
    "s1 = [0, 1, 2, 3, 4, 5, 12.5, 25, 37.5, 50, 62.5, 75, 87.5, 95, 96, 97, 98, 99, 100 ]\n",
    "s2 = []\n",
    "\n",
    "# tính phân vị cột\n",
    "for i in s1:\n",
    "  s2.append(np.percentile(df['d_mom_pappa'].dropna().values, i))"
   ]
  },
  {
   "cell_type": "code",
   "execution_count": 1314,
   "metadata": {},
   "outputs": [],
   "source": [
    "dff = df.copy()"
   ]
  },
  {
   "cell_type": "code",
   "execution_count": 1315,
   "metadata": {},
   "outputs": [],
   "source": [
    "# Xác định giá trị ngoại lai dựa trên phân vị 1% và 99%\n",
    "for i in dff.index:\n",
    "  if dff.loc[i, 'd_mom_pappa'] < np.percentile(df['d_mom_pappa'].dropna().values, 1) or dff.loc[i, 'd_mom_pappa'] > np.percentile(df['d_mom_pappa'].dropna().values, 99):\n",
    "    dff.loc[i, 'd_mom_pappa'] = np.NaN"
   ]
  },
  {
   "cell_type": "markdown",
   "metadata": {},
   "source": [
    "### d_mom_hcgb"
   ]
  },
  {
   "cell_type": "code",
   "execution_count": 1316,
   "metadata": {},
   "outputs": [],
   "source": [
    "s1 = [0,1, 2, 3, 4, 5, 12.5, 25, 37.5, 50, 62.5, 75, 87.5, 95, 96, 97, 98, 99, 100]\n",
    "s2 = []\n",
    "for i in s1:\n",
    "  s2.append(np.percentile(df['d_mom_hcgb'].dropna().values, i))"
   ]
  },
  {
   "cell_type": "code",
   "execution_count": 1317,
   "metadata": {},
   "outputs": [],
   "source": [
    "for i in dff.index:\n",
    "  if dff.loc[i, 'd_mom_hcgb'] > np.percentile(df['d_mom_hcgb'].dropna().values, 99): \n",
    "    dff.loc[i, 'd_mom_hcgb'] = np.NaN"
   ]
  },
  {
   "cell_type": "markdown",
   "metadata": {},
   "source": [
    "### d_mom_nt"
   ]
  },
  {
   "cell_type": "code",
   "execution_count": 1318,
   "metadata": {},
   "outputs": [],
   "source": [
    "s1 = [0, 1, 2, 3, 4, 5, 12.5, 25, 37.5, 50, 62.5, 75, 87.5, 95, 96, 97, 98, 99, 100]\n",
    "s2 = []\n",
    "for i in s1:\n",
    "  s2.append(np.percentile(df['d_mom_nt'].dropna().values, i))"
   ]
  },
  {
   "cell_type": "code",
   "execution_count": 1319,
   "metadata": {},
   "outputs": [],
   "source": [
    "for i in dff.index:\n",
    "  if dff.loc[i, 'd_mom_nt'] < np.percentile(df['d_mom_nt'].dropna().values, 1) or dff.loc[i, 'd_mom_nt'] > np.percentile(df['d_mom_nt'].dropna().values, 99):\n",
    "    dff.loc[i, \"d_mom_nt\"] = np.NaN"
   ]
  },
  {
   "cell_type": "markdown",
   "metadata": {},
   "source": [
    "### d_khoangsangsaugay"
   ]
  },
  {
   "cell_type": "code",
   "execution_count": 1320,
   "metadata": {},
   "outputs": [],
   "source": [
    "s1 = [0, 1, 2, 3, 4, 5, 12.5, 25, 37.5, 50, 62.5, 75, 87.5, 95, 96, 97, 98, 99, 100]\n",
    "s2 = []\n",
    "for i in s1:\n",
    "  s2.append(np.percentile(df['d_khoangsangsaugay'].dropna().values, i))"
   ]
  },
  {
   "cell_type": "markdown",
   "metadata": {},
   "source": [
    "## Triple Test"
   ]
  },
  {
   "cell_type": "markdown",
   "metadata": {},
   "source": [
    "### t_mom_ue3"
   ]
  },
  {
   "cell_type": "code",
   "execution_count": 1321,
   "metadata": {},
   "outputs": [],
   "source": [
    "s1 = [0, 1, 2, 3, 4, 5, 12.5, 25, 37.5, 50, 62.5, 75, 87.5, 95, 96, 97, 98, 99, 100]\n",
    "s2 = []\n",
    "for i in s1:\n",
    "  s2.append(np.percentile(df['t_mom_ue3'].dropna().values, i))"
   ]
  },
  {
   "cell_type": "code",
   "execution_count": 1322,
   "metadata": {},
   "outputs": [],
   "source": [
    "for i in dff.index:\n",
    "  if dff.loc[i, 't_mom_ue3'] > np.percentile(df['t_mom_ue3'].dropna().values, 99):\n",
    "    dff.loc[i, 't_mom_ue3']= np.NaN"
   ]
  },
  {
   "cell_type": "markdown",
   "metadata": {},
   "source": [
    "### t_mom_hcgb"
   ]
  },
  {
   "cell_type": "code",
   "execution_count": 1323,
   "metadata": {},
   "outputs": [],
   "source": [
    "s1 = [0, 1, 2, 3, 4, 5, 12.5, 25, 37.5, 50, 62.5, 75, 87.5, 95, 96, 97, 98, 99, 100]\n",
    "s2 = []\n",
    "for i in s1:\n",
    "  s2.append(np.percentile(df['t_mom_hcg'].dropna().values, i))"
   ]
  },
  {
   "cell_type": "code",
   "execution_count": 1324,
   "metadata": {},
   "outputs": [],
   "source": [
    "for i in dff.index:\n",
    "  if  dff.loc[i, 't_mom_hcg'] > np.percentile(df['t_mom_hcg'].dropna().values, 98): \n",
    "    dff.loc[i, 't_mom_hcg']= np.NaN"
   ]
  },
  {
   "cell_type": "markdown",
   "metadata": {},
   "source": [
    "### t_mom_afp"
   ]
  },
  {
   "cell_type": "code",
   "execution_count": 1325,
   "metadata": {},
   "outputs": [],
   "source": [
    "s1 = [0, 1, 2, 3, 4, 5, 12.5, 25, 37.5, 50, 62.5, 75, 87.5, 95, 96, 97, 98, 99, 100 ]\n",
    "s2 = []\n",
    "for i in s1:\n",
    "  s2.append(np.percentile(df['t_mom_afp'].dropna().values, i))"
   ]
  },
  {
   "cell_type": "code",
   "execution_count": 1326,
   "metadata": {},
   "outputs": [],
   "source": [
    "for i in dff.index:\n",
    "  if dff.loc[i, 't_mom_afp'] > np.percentile(df['t_mom_afp'].dropna().values, 97): \n",
    "    dff.loc[i, 't_mom_afp']= np.NaN"
   ]
  },
  {
   "cell_type": "markdown",
   "metadata": {},
   "source": [
    "## Siêu âm"
   ]
  },
  {
   "cell_type": "code",
   "execution_count": 1327,
   "metadata": {},
   "outputs": [],
   "source": [
    "mn = dff.groupby('thaiphuid').apply(lambda sf : pd.Series([list(sf.index)])) # nhóm theo thaiphuid\n",
    "mn = pd.DataFrame(mn)\n",
    "mn.rename(columns={0:'index'}, inplace= True)"
   ]
  },
  {
   "cell_type": "code",
   "execution_count": 1328,
   "metadata": {},
   "outputs": [
    {
     "data": {
      "text/html": [
       "<div>\n",
       "<style scoped>\n",
       "    .dataframe tbody tr th:only-of-type {\n",
       "        vertical-align: middle;\n",
       "    }\n",
       "\n",
       "    .dataframe tbody tr th {\n",
       "        vertical-align: top;\n",
       "    }\n",
       "\n",
       "    .dataframe thead th {\n",
       "        text-align: right;\n",
       "    }\n",
       "</style>\n",
       "<table border=\"1\" class=\"dataframe\">\n",
       "  <thead>\n",
       "    <tr style=\"text-align: right;\">\n",
       "      <th></th>\n",
       "      <th>index</th>\n",
       "    </tr>\n",
       "    <tr>\n",
       "      <th>thaiphuid</th>\n",
       "      <th></th>\n",
       "    </tr>\n",
       "  </thead>\n",
       "  <tbody>\n",
       "    <tr>\n",
       "      <th>1900114448</th>\n",
       "      <td>[4471, 4472]</td>\n",
       "    </tr>\n",
       "  </tbody>\n",
       "</table>\n",
       "</div>"
      ],
      "text/plain": [
       "                   index\n",
       "thaiphuid               \n",
       "1900114448  [4471, 4472]"
      ]
     },
     "execution_count": 1328,
     "metadata": {},
     "output_type": "execute_result"
    }
   ],
   "source": [
    "mn.loc[mn.index.isin({'1900114448'})]"
   ]
  },
  {
   "cell_type": "code",
   "execution_count": 1329,
   "metadata": {},
   "outputs": [],
   "source": [
    "for i in mn.index:\n",
    "    mn.loc[i, 'len']= len(mn.loc[i, 'index'])\n",
    "\n",
    "# thêm cột len\n",
    "# Tính số lượng phần tử của danh sách chỉ số 'index' tại hàng đó"
   ]
  },
  {
   "cell_type": "code",
   "execution_count": 1330,
   "metadata": {},
   "outputs": [],
   "source": [
    "for i in mn['index']:\n",
    "  k = []\n",
    "  m = 0\n",
    "  for j in i:\n",
    "    if np.isnan(dff.loc[j, 'nguc_ditattim']) != True: # check nguc_ditattim có NaN\n",
    "      k.append(dff.loc[j, 'nguc_ditattim']) # Nếu không NaN -> thêm vào list k\n",
    "  if len(k) >= 1:\n",
    "    k = np.array(k).astype(int) # convert numpy array, chuyển kiểu ngyên\n",
    "    cnt = np.bincount(k)  # đếm số lần xuất hiện của mỗi giá trị trong k.\n",
    "    h = np.argmax(cnt) # giá trị có số lần xuất hiện nhiều nhất \n",
    "  for j in i:\n",
    "    dff.loc[j, 'nguc_ditattim'] = h "
   ]
  },
  {
   "cell_type": "code",
   "execution_count": 1331,
   "metadata": {},
   "outputs": [],
   "source": [
    "for i in mn['index']:\n",
    "  k = []\n",
    "  m = 0\n",
    "  for j in i:\n",
    "    if np.isnan(dff.loc[j, 'co_nangbachhuyetvungco']) != True:\n",
    "      k.append(dff.loc[j, 'co_nangbachhuyetvungco'])\n",
    "  if len(k) >= 1:\n",
    "    k = np.array(k).astype(int)\n",
    "    cnt = np.bincount(k)  \n",
    "    h = np.argmax(cnt)\n",
    "  for j in i:\n",
    "    dff.loc[j, 'co_nangbachhuyetvungco'] = h"
   ]
  },
  {
   "cell_type": "code",
   "execution_count": 1332,
   "metadata": {},
   "outputs": [],
   "source": [
    "for i in mn['index']:\n",
    "  k = []\n",
    "  m = 0\n",
    "  for j in i:\n",
    "    if np.isnan(dff.loc[j, 'Mat_XuongMui']) != True:\n",
    "      k.append(dff.loc[j, 'Mat_XuongMui'])\n",
    "  if len(k) >= 1:\n",
    "    k = np.array(k).astype(int)\n",
    "    cnt = np.bincount(k)  \n",
    "    h = np.argmax(cnt)\n",
    "  for j in i:\n",
    "    dff.loc[j, 'Mat_XuongMui'] = h"
   ]
  },
  {
   "cell_type": "markdown",
   "metadata": {},
   "source": [
    "## Xét nghiệm"
   ]
  },
  {
   "cell_type": "code",
   "execution_count": 1333,
   "metadata": {},
   "outputs": [],
   "source": [
    "col = ['t_mom_ue3', 't_mom_afp', 't_mom_hcg', 'mat_xuongsongmui', 'dau_naothatben']\n",
    "col1 = ['d_mom_hcgb', 'd_mom_pappa', 'd_mom_nt', 'd_khoangsangsaugay', 'co_khoangsangsaugay', 'chieudaidaumong']\n",
    "s = []\n",
    "s1 = []\n",
    "\n",
    "for i in dff.index:\n",
    "    for j in col1:\n",
    "        if str(dff.loc[i, j]) != 'nan':\n",
    "            s.append(i)\n",
    "            break\n",
    "dff_1 = dff.loc[s] # quý 1\n",
    "\n",
    "for i in dff.index:\n",
    "    for j in col:\n",
    "        if str(dff.loc[i, j])!='nan':\n",
    "            s1.append(i)\n",
    "            break\n",
    "dff_2= dff.loc[s1] # quý 2"
   ]
  },
  {
   "cell_type": "code",
   "execution_count": 1334,
   "metadata": {},
   "outputs": [],
   "source": [
    "# quý 1 từ 11 tuần- 13t 6d\n",
    "# xương sống mũi chỉ đánh giá được có hay không : mat_xuongmui\n",
    "# những thằng ko có xương mũi thì điền = 0\n",
    "# quý 2 từ 14 tuần - 23t 6d: \n",
    "\n",
    "for i in dff_1.index:\n",
    "    if(dff_1.loc[i, 'sieuamkythun'] != 1):\n",
    "        dff_1.loc[i, 'co_khoangsangsaugay'] = np.NaN\n",
    "    if(dff_1.loc[i, 'tuoithainhi']) > 13*7+6: \n",
    "        dff_1.loc[i, 'tuoithainhi'] = np.NaN\n",
    "for i in dff_2.index:\n",
    "    if(dff_2.loc[i, 'sieuamkythun'] != 2):\n",
    "        dff_2.loc[i, 'mat_xuongsongmui'] = np.NaN\n",
    "    if(dff_2.loc[i, 'tuoithainhi']) <= 13*7+6 or (dff_2.loc[i, 'tuoithainhi']) > 23*7+6: \n",
    "        dff_2.loc[i, 'tuoithainhi'] = np.NaN\n"
   ]
  },
  {
   "cell_type": "code",
   "execution_count": 1335,
   "metadata": {},
   "outputs": [],
   "source": [
    "dff_k1 = dff_1.drop(['sieuamkythun', 'mat_xuongsongmui', 't_mom_ue3', 't_mom_afp', 't_mom_hcg', 'dau_naothatben'], axis= 1)\\\n",
    "                .merge(dff_2.drop(['tuoime', 'sieuamkythun', 'co_khoangsangsaugay', 'd_mom_hcgb', 'd_mom_pappa', 'd_mom_nt', 'd_khoangsangsaugay', 'co_nangbachhuyetvungco', 'Mat_XuongMui', 'nguc_ditattim', 'chieudaidaumong'], axis= 1), on= 'thaiphuid')\\\n",
    "                    .reset_index().drop('index', axis=1)"
   ]
  },
  {
   "cell_type": "code",
   "execution_count": 1336,
   "metadata": {},
   "outputs": [
    {
     "data": {
      "text/plain": [
       "thaiphuid                   0.000000\n",
       "d_mom_hcgb                  0.177246\n",
       "d_mom_pappa                 0.186427\n",
       "d_khoangsangsaugay          0.235928\n",
       "d_mom_nt                    0.540120\n",
       "chieudaidaumong             0.730938\n",
       "dau_duongkinhluongdinh_x    0.039920\n",
       "dau_chuvidau_x              0.090220\n",
       "Mat_XuongMui                0.000000\n",
       "co_nangbachhuyetvungco      0.000000\n",
       "co_khoangsangsaugay         0.715768\n",
       "nguc_nhiptimthai_x          0.045908\n",
       "nguc_ditattim               0.000000\n",
       "bung_chuvivongbung_x        0.078244\n",
       "chi_chieudaixuongdui_x      0.056287\n",
       "benh21_x                    0.000000\n",
       "tuoime                      0.005589\n",
       "tuoithainhi_x               0.711377\n",
       "t_mom_ue3                   0.769261\n",
       "t_mom_afp                   0.774052\n",
       "t_mom_hcg                   0.772056\n",
       "dau_duongkinhluongdinh_y    0.015968\n",
       "dau_chuvidau_y              0.048703\n",
       "dau_naothatben              0.174052\n",
       "mat_xuongsongmui            0.217166\n",
       "nguc_nhiptimthai_y          0.024351\n",
       "bung_chuvivongbung_y        0.040319\n",
       "chi_chieudaixuongdui_y      0.024750\n",
       "benh21_y                    0.000000\n",
       "tuoithainhi_y               0.123752\n",
       "dtype: float64"
      ]
     },
     "execution_count": 1336,
     "metadata": {},
     "output_type": "execute_result"
    }
   ],
   "source": [
    "dff_k1.isnull().sum()/dff_k1.shape[0]"
   ]
  },
  {
   "cell_type": "code",
   "execution_count": 1337,
   "metadata": {},
   "outputs": [],
   "source": [
    "dff_k1.drop(dff_k1[dff_k1['benh21_x'] != dff_k1['benh21_y']][['benh21_x', 'benh21_y']].dropna().index, inplace= True)\n",
    "dff_k1.drop(['benh21_y'], axis=1, inplace= True)\n",
    "\n",
    "dff_k1.rename(columns={'benh21_x': 'benh21'}, inplace= True)"
   ]
  },
  {
   "cell_type": "code",
   "execution_count": 1338,
   "metadata": {},
   "outputs": [],
   "source": [
    "col_x= []\n",
    "col_y= []\n",
    "for i in dff_k1.drop(['mat_xuongsongmui', 'benh21'], axis= 1).columns :\n",
    "    if '_x' in i:\n",
    "        col_x.append(i)\n",
    "    elif '_y'in i:\n",
    "        col_y.append(i)"
   ]
  },
  {
   "cell_type": "code",
   "execution_count": 1339,
   "metadata": {},
   "outputs": [
    {
     "data": {
      "text/plain": [
       "['dau_duongkinhluongdinh_x',\n",
       " 'dau_chuvidau_x',\n",
       " 'nguc_nhiptimthai_x',\n",
       " 'bung_chuvivongbung_x',\n",
       " 'chi_chieudaixuongdui_x',\n",
       " 'tuoithainhi_x']"
      ]
     },
     "execution_count": 1339,
     "metadata": {},
     "output_type": "execute_result"
    }
   ],
   "source": [
    "col_x"
   ]
  },
  {
   "cell_type": "code",
   "execution_count": 1340,
   "metadata": {},
   "outputs": [
    {
     "data": {
      "text/plain": [
       "['dau_duongkinhluongdinh_y',\n",
       " 'dau_chuvidau_y',\n",
       " 'nguc_nhiptimthai_y',\n",
       " 'bung_chuvivongbung_y',\n",
       " 'chi_chieudaixuongdui_y',\n",
       " 'tuoithainhi_y']"
      ]
     },
     "execution_count": 1340,
     "metadata": {},
     "output_type": "execute_result"
    }
   ],
   "source": [
    "col_y"
   ]
  },
  {
   "cell_type": "code",
   "execution_count": 1341,
   "metadata": {},
   "outputs": [],
   "source": [
    "col1= ['tuoithainhi1',\n",
    "    'nguc_nhiptimthai1',\n",
    " 'dau_duongkinhluongdinh1',\n",
    " 'bung_chuvivongbung1',\n",
    " 'chi_chieudaixuongdui1',\n",
    " 'dau_chuvidau1']\n",
    "col2= ['tuoithainhi2',\n",
    "    'nguc_nhiptimthai2',\n",
    " 'dau_duongkinhluongdinh2',\n",
    " 'bung_chuvivongbung2',\n",
    " 'chi_chieudaixuongdui2',\n",
    " 'dau_chuvidau2']\n",
    "\n",
    "dff_k1_1 = dff_k1.rename(columns= {(col_y+col_x)[i]:(col2+col1)[i] for i in range(12)})"
   ]
  },
  {
   "cell_type": "code",
   "execution_count": 1342,
   "metadata": {},
   "outputs": [],
   "source": [
    "thua1 = []\n",
    "thua2 = []\n",
    "for i in dff_1.index:\n",
    "    if dff_1.loc[i, 'thaiphuid'] not in list(dff_k1_1['thaiphuid']):\n",
    "        thua1.append(i)\n",
    "for i in dff_2.index:\n",
    "    if dff_2.loc[i, 'thaiphuid'] not in list(dff_k1_1['thaiphuid']):\n",
    "        thua2.append(i)\n",
    "dff_k2 = dff_1.loc[thua1]\n",
    "dff_k3 = dff_2.loc[thua2]"
   ]
  },
  {
   "cell_type": "code",
   "execution_count": 1343,
   "metadata": {},
   "outputs": [
    {
     "data": {
      "text/plain": [
       "Index(['thaiphuid', 'd_mom_hcgb', 'd_mom_pappa', 'd_khoangsangsaugay',\n",
       "       'd_mom_nt', 't_mom_ue3', 't_mom_afp', 't_mom_hcg', 'chieudaidaumong',\n",
       "       'dau_duongkinhluongdinh1', 'dau_chuvidau1', 'dau_naothatben',\n",
       "       'Mat_XuongMui', 'mat_xuongsongmui', 'co_nangbachhuyetvungco',\n",
       "       'co_khoangsangsaugay', 'nguc_nhiptimthai1', 'nguc_ditattim',\n",
       "       'bung_chuvivongbung1', 'chi_chieudaixuongdui1', 'benh21', 'tuoime',\n",
       "       'tuoithainhi1'],\n",
       "      dtype='object')"
      ]
     },
     "execution_count": 1343,
     "metadata": {},
     "output_type": "execute_result"
    }
   ],
   "source": [
    "dff_k2.rename(columns= {'tuoithainhi':'tuoithainhi1', 'nguc_nhiptimthai':'nguc_nhiptimthai1', \n",
    "                        'dau_duongkinhluongdinh':'dau_duongkinhluongdinh1', 'bung_chuvivongbung':'bung_chuvivongbung1', \n",
    "                        'chi_chieudaixuongdui':'chi_chieudaixuongdui1', 'dau_chuvidau':'dau_chuvidau1'}, inplace= True)\n",
    "dff_k2.drop('sieuamkythun', axis= 1, inplace= True)\n",
    "\n",
    "dff_k2.columns"
   ]
  },
  {
   "cell_type": "code",
   "execution_count": 1344,
   "metadata": {},
   "outputs": [],
   "source": [
    "dff_k2['tuoithainhi2']= np.NaN\n",
    "dff_k2['nguc_nhiptimthai2']= np.NaN\n",
    "dff_k2['dau_duongkinhluongdinh2']= np.NaN\n",
    "dff_k2['bung_chuvivongbung2']= np.NaN\n",
    "dff_k2['chi_chieudaixuongdui2']= np.NaN\n",
    "dff_k2['dau_chuvidau2']= np.NaN\n",
    "dff_k2['dau_naothatben']= np.NaN\n",
    "dff_k2['mat_xuongsongmui']= np.NaN"
   ]
  },
  {
   "cell_type": "code",
   "execution_count": 1345,
   "metadata": {},
   "outputs": [
    {
     "data": {
      "text/plain": [
       "Index(['thaiphuid', 'd_mom_hcgb', 'd_mom_pappa', 'd_khoangsangsaugay',\n",
       "       'd_mom_nt', 't_mom_ue3', 't_mom_afp', 't_mom_hcg', 'chieudaidaumong',\n",
       "       'dau_duongkinhluongdinh2', 'dau_chuvidau2', 'dau_naothatben',\n",
       "       'Mat_XuongMui', 'mat_xuongsongmui', 'co_nangbachhuyetvungco',\n",
       "       'co_khoangsangsaugay', 'nguc_nhiptimthai2', 'nguc_ditattim',\n",
       "       'bung_chuvivongbung2', 'chi_chieudaixuongdui2', 'benh21', 'tuoime',\n",
       "       'tuoithainhi2'],\n",
       "      dtype='object')"
      ]
     },
     "execution_count": 1345,
     "metadata": {},
     "output_type": "execute_result"
    }
   ],
   "source": [
    "dff_k3.rename(columns= {'tuoithainhi':'tuoithainhi2', 'nguc_nhiptimthai':'nguc_nhiptimthai2', \n",
    "                        'dau_duongkinhluongdinh':'dau_duongkinhluongdinh2', 'bung_chuvivongbung':'bung_chuvivongbung2', \n",
    "                        'chi_chieudaixuongdui':'chi_chieudaixuongdui2', 'dau_chuvidau':'dau_chuvidau2'}, inplace= True)\n",
    "dff_k3.drop('sieuamkythun', axis= 1, inplace= True)\n",
    "\n",
    "dff_k3.columns"
   ]
  },
  {
   "cell_type": "code",
   "execution_count": 1346,
   "metadata": {},
   "outputs": [],
   "source": [
    "dff_k3['tuoithainhi1']= np.NaN\n",
    "dff_k3['nguc_nhiptimthai1']= np.NaN\n",
    "dff_k3['dau_duongkinhluongdinh1']= np.NaN\n",
    "dff_k3['bung_chuvivongbung1']= np.NaN\n",
    "dff_k3['chi_chieudaixuongdui1']= np.NaN\n",
    "dff_k3['dau_chuvidau1']= np.NaN\n",
    "dff_k3['co_khoangsangsaugay']= np.NaN\n",
    "dff_k3['chieudaidaumong']= np.NaN"
   ]
  },
  {
   "cell_type": "code",
   "execution_count": 1347,
   "metadata": {},
   "outputs": [
    {
     "data": {
      "text/plain": [
       "Index(['thaiphuid', 'd_mom_hcgb', 'd_mom_pappa', 'd_khoangsangsaugay',\n",
       "       'd_mom_nt', 'chieudaidaumong', 'tuoithainhi1', 'nguc_nhiptimthai1',\n",
       "       'Mat_XuongMui', 'co_nangbachhuyetvungco', 'co_khoangsangsaugay',\n",
       "       'dau_duongkinhluongdinh1', 'nguc_ditattim', 'bung_chuvivongbung1',\n",
       "       'chi_chieudaixuongdui1', 'benh21', 'tuoime', 'dau_chuvidau1',\n",
       "       't_mom_ue3', 't_mom_afp', 't_mom_hcg', 'tuoithainhi2',\n",
       "       'nguc_nhiptimthai2', 'dau_naothatben', 'mat_xuongsongmui',\n",
       "       'dau_duongkinhluongdinh2', 'bung_chuvivongbung2',\n",
       "       'chi_chieudaixuongdui2', 'dau_chuvidau2'],\n",
       "      dtype='object')"
      ]
     },
     "execution_count": 1347,
     "metadata": {},
     "output_type": "execute_result"
    }
   ],
   "source": [
    "dff_k1_1.columns"
   ]
  },
  {
   "cell_type": "code",
   "execution_count": 1348,
   "metadata": {},
   "outputs": [
    {
     "name": "stdout",
     "output_type": "stream",
     "text": [
      "2499\n",
      "1582\n",
      "2615\n"
     ]
    }
   ],
   "source": [
    "print(dff_k1_1.shape[0])\n",
    "print(dff_k2.shape[0])\n",
    "print(dff_k3.shape[0])"
   ]
  },
  {
   "cell_type": "code",
   "execution_count": 1349,
   "metadata": {},
   "outputs": [
    {
     "data": {
      "text/html": [
       "<div>\n",
       "<style scoped>\n",
       "    .dataframe tbody tr th:only-of-type {\n",
       "        vertical-align: middle;\n",
       "    }\n",
       "\n",
       "    .dataframe tbody tr th {\n",
       "        vertical-align: top;\n",
       "    }\n",
       "\n",
       "    .dataframe thead th {\n",
       "        text-align: right;\n",
       "    }\n",
       "</style>\n",
       "<table border=\"1\" class=\"dataframe\">\n",
       "  <thead>\n",
       "    <tr style=\"text-align: right;\">\n",
       "      <th></th>\n",
       "      <th>thaiphuid</th>\n",
       "      <th>d_mom_hcgb</th>\n",
       "      <th>d_mom_pappa</th>\n",
       "      <th>d_khoangsangsaugay</th>\n",
       "      <th>d_mom_nt</th>\n",
       "      <th>chieudaidaumong</th>\n",
       "      <th>tuoithainhi1</th>\n",
       "      <th>nguc_nhiptimthai1</th>\n",
       "      <th>mat_xuongmui</th>\n",
       "      <th>co_nangbachhuyetvungco</th>\n",
       "      <th>...</th>\n",
       "      <th>t_mom_afp</th>\n",
       "      <th>t_mom_hcg</th>\n",
       "      <th>tuoithainhi2</th>\n",
       "      <th>nguc_nhiptimthai2</th>\n",
       "      <th>dau_naothatben</th>\n",
       "      <th>mat_xuongsongmui</th>\n",
       "      <th>dau_duongkinhluongdinh2</th>\n",
       "      <th>bung_chuvivongbung2</th>\n",
       "      <th>chi_chieudaixuongdui2</th>\n",
       "      <th>dau_chuvidau2</th>\n",
       "    </tr>\n",
       "  </thead>\n",
       "  <tbody>\n",
       "    <tr>\n",
       "      <th>0</th>\n",
       "      <td>1700096854</td>\n",
       "      <td>NaN</td>\n",
       "      <td>NaN</td>\n",
       "      <td>NaN</td>\n",
       "      <td>NaN</td>\n",
       "      <td>NaN</td>\n",
       "      <td>15.0</td>\n",
       "      <td>76.0</td>\n",
       "      <td>1.0</td>\n",
       "      <td>2.0</td>\n",
       "      <td>...</td>\n",
       "      <td>NaN</td>\n",
       "      <td>NaN</td>\n",
       "      <td>37.0</td>\n",
       "      <td>125.0</td>\n",
       "      <td>4.0</td>\n",
       "      <td>2.9</td>\n",
       "      <td>161.0</td>\n",
       "      <td>107.0</td>\n",
       "      <td>14.0</td>\n",
       "      <td>119.0</td>\n",
       "    </tr>\n",
       "    <tr>\n",
       "      <th>1</th>\n",
       "      <td>0000036009</td>\n",
       "      <td>2.042</td>\n",
       "      <td>0.647</td>\n",
       "      <td>NaN</td>\n",
       "      <td>NaN</td>\n",
       "      <td>NaN</td>\n",
       "      <td>38.0</td>\n",
       "      <td>133.0</td>\n",
       "      <td>1.0</td>\n",
       "      <td>2.0</td>\n",
       "      <td>...</td>\n",
       "      <td>NaN</td>\n",
       "      <td>NaN</td>\n",
       "      <td>38.0</td>\n",
       "      <td>133.0</td>\n",
       "      <td>4.0</td>\n",
       "      <td>5.1</td>\n",
       "      <td>144.0</td>\n",
       "      <td>121.0</td>\n",
       "      <td>22.0</td>\n",
       "      <td>120.0</td>\n",
       "    </tr>\n",
       "    <tr>\n",
       "      <th>2</th>\n",
       "      <td>0000550081</td>\n",
       "      <td>0.760</td>\n",
       "      <td>1.250</td>\n",
       "      <td>1.4</td>\n",
       "      <td>0.84</td>\n",
       "      <td>NaN</td>\n",
       "      <td>41.0</td>\n",
       "      <td>151.0</td>\n",
       "      <td>1.0</td>\n",
       "      <td>2.0</td>\n",
       "      <td>...</td>\n",
       "      <td>1.72</td>\n",
       "      <td>0.64</td>\n",
       "      <td>41.0</td>\n",
       "      <td>151.0</td>\n",
       "      <td>6.0</td>\n",
       "      <td>6.0</td>\n",
       "      <td>149.0</td>\n",
       "      <td>125.0</td>\n",
       "      <td>24.0</td>\n",
       "      <td>126.0</td>\n",
       "    </tr>\n",
       "    <tr>\n",
       "      <th>3</th>\n",
       "      <td>0000775045</td>\n",
       "      <td>2.000</td>\n",
       "      <td>1.280</td>\n",
       "      <td>1.5</td>\n",
       "      <td>0.94</td>\n",
       "      <td>NaN</td>\n",
       "      <td>38.0</td>\n",
       "      <td>136.0</td>\n",
       "      <td>1.0</td>\n",
       "      <td>2.0</td>\n",
       "      <td>...</td>\n",
       "      <td>NaN</td>\n",
       "      <td>NaN</td>\n",
       "      <td>38.0</td>\n",
       "      <td>136.0</td>\n",
       "      <td>6.0</td>\n",
       "      <td>5.0</td>\n",
       "      <td>142.0</td>\n",
       "      <td>121.0</td>\n",
       "      <td>26.0</td>\n",
       "      <td>121.0</td>\n",
       "    </tr>\n",
       "    <tr>\n",
       "      <th>4</th>\n",
       "      <td>0001023019</td>\n",
       "      <td>2.100</td>\n",
       "      <td>0.610</td>\n",
       "      <td>2.8</td>\n",
       "      <td>1.98</td>\n",
       "      <td>71.0</td>\n",
       "      <td>22.0</td>\n",
       "      <td>87.0</td>\n",
       "      <td>1.0</td>\n",
       "      <td>2.0</td>\n",
       "      <td>...</td>\n",
       "      <td>NaN</td>\n",
       "      <td>NaN</td>\n",
       "      <td>29.0</td>\n",
       "      <td>114.0</td>\n",
       "      <td>3.0</td>\n",
       "      <td>3.3</td>\n",
       "      <td>159.0</td>\n",
       "      <td>105.0</td>\n",
       "      <td>18.0</td>\n",
       "      <td>108.0</td>\n",
       "    </tr>\n",
       "    <tr>\n",
       "      <th>...</th>\n",
       "      <td>...</td>\n",
       "      <td>...</td>\n",
       "      <td>...</td>\n",
       "      <td>...</td>\n",
       "      <td>...</td>\n",
       "      <td>...</td>\n",
       "      <td>...</td>\n",
       "      <td>...</td>\n",
       "      <td>...</td>\n",
       "      <td>...</td>\n",
       "      <td>...</td>\n",
       "      <td>...</td>\n",
       "      <td>...</td>\n",
       "      <td>...</td>\n",
       "      <td>...</td>\n",
       "      <td>...</td>\n",
       "      <td>...</td>\n",
       "      <td>...</td>\n",
       "      <td>...</td>\n",
       "      <td>...</td>\n",
       "      <td>...</td>\n",
       "    </tr>\n",
       "    <tr>\n",
       "      <th>6687</th>\n",
       "      <td>50415004</td>\n",
       "      <td>NaN</td>\n",
       "      <td>NaN</td>\n",
       "      <td>NaN</td>\n",
       "      <td>NaN</td>\n",
       "      <td>NaN</td>\n",
       "      <td>NaN</td>\n",
       "      <td>NaN</td>\n",
       "      <td>1.0</td>\n",
       "      <td>2.0</td>\n",
       "      <td>...</td>\n",
       "      <td>0.96</td>\n",
       "      <td>0.97</td>\n",
       "      <td>126.0</td>\n",
       "      <td>142.0</td>\n",
       "      <td>4.0</td>\n",
       "      <td>4.0</td>\n",
       "      <td>34.0</td>\n",
       "      <td>110.0</td>\n",
       "      <td>21.0</td>\n",
       "      <td>124.0</td>\n",
       "    </tr>\n",
       "    <tr>\n",
       "      <th>6688</th>\n",
       "      <td>69726051</td>\n",
       "      <td>NaN</td>\n",
       "      <td>NaN</td>\n",
       "      <td>NaN</td>\n",
       "      <td>NaN</td>\n",
       "      <td>NaN</td>\n",
       "      <td>NaN</td>\n",
       "      <td>NaN</td>\n",
       "      <td>1.0</td>\n",
       "      <td>2.0</td>\n",
       "      <td>...</td>\n",
       "      <td>NaN</td>\n",
       "      <td>NaN</td>\n",
       "      <td>156.0</td>\n",
       "      <td>155.0</td>\n",
       "      <td>7.0</td>\n",
       "      <td>NaN</td>\n",
       "      <td>57.0</td>\n",
       "      <td>168.0</td>\n",
       "      <td>37.0</td>\n",
       "      <td>202.0</td>\n",
       "    </tr>\n",
       "    <tr>\n",
       "      <th>6689</th>\n",
       "      <td>72924062</td>\n",
       "      <td>NaN</td>\n",
       "      <td>NaN</td>\n",
       "      <td>NaN</td>\n",
       "      <td>NaN</td>\n",
       "      <td>NaN</td>\n",
       "      <td>NaN</td>\n",
       "      <td>NaN</td>\n",
       "      <td>1.0</td>\n",
       "      <td>2.0</td>\n",
       "      <td>...</td>\n",
       "      <td>0.85</td>\n",
       "      <td>1.64</td>\n",
       "      <td>117.0</td>\n",
       "      <td>157.0</td>\n",
       "      <td>3.0</td>\n",
       "      <td>4.0</td>\n",
       "      <td>36.0</td>\n",
       "      <td>116.0</td>\n",
       "      <td>21.0</td>\n",
       "      <td>132.0</td>\n",
       "    </tr>\n",
       "    <tr>\n",
       "      <th>6690</th>\n",
       "      <td>73795062</td>\n",
       "      <td>NaN</td>\n",
       "      <td>NaN</td>\n",
       "      <td>NaN</td>\n",
       "      <td>NaN</td>\n",
       "      <td>NaN</td>\n",
       "      <td>NaN</td>\n",
       "      <td>NaN</td>\n",
       "      <td>1.0</td>\n",
       "      <td>2.0</td>\n",
       "      <td>...</td>\n",
       "      <td>0.77</td>\n",
       "      <td>2.11</td>\n",
       "      <td>161.0</td>\n",
       "      <td>148.0</td>\n",
       "      <td>4.0</td>\n",
       "      <td>4.0</td>\n",
       "      <td>38.0</td>\n",
       "      <td>109.0</td>\n",
       "      <td>22.0</td>\n",
       "      <td>129.0</td>\n",
       "    </tr>\n",
       "    <tr>\n",
       "      <th>6691</th>\n",
       "      <td>87748001</td>\n",
       "      <td>NaN</td>\n",
       "      <td>NaN</td>\n",
       "      <td>NaN</td>\n",
       "      <td>NaN</td>\n",
       "      <td>NaN</td>\n",
       "      <td>NaN</td>\n",
       "      <td>NaN</td>\n",
       "      <td>1.0</td>\n",
       "      <td>2.0</td>\n",
       "      <td>...</td>\n",
       "      <td>NaN</td>\n",
       "      <td>NaN</td>\n",
       "      <td>114.0</td>\n",
       "      <td>142.0</td>\n",
       "      <td>3.0</td>\n",
       "      <td>4.0</td>\n",
       "      <td>32.0</td>\n",
       "      <td>109.0</td>\n",
       "      <td>18.0</td>\n",
       "      <td>130.0</td>\n",
       "    </tr>\n",
       "  </tbody>\n",
       "</table>\n",
       "<p>6692 rows × 29 columns</p>\n",
       "</div>"
      ],
      "text/plain": [
       "        thaiphuid  d_mom_hcgb  d_mom_pappa  d_khoangsangsaugay  d_mom_nt  \\\n",
       "0      1700096854         NaN          NaN                 NaN       NaN   \n",
       "1      0000036009       2.042        0.647                 NaN       NaN   \n",
       "2      0000550081       0.760        1.250                 1.4      0.84   \n",
       "3      0000775045       2.000        1.280                 1.5      0.94   \n",
       "4      0001023019       2.100        0.610                 2.8      1.98   \n",
       "...           ...         ...          ...                 ...       ...   \n",
       "6687     50415004         NaN          NaN                 NaN       NaN   \n",
       "6688     69726051         NaN          NaN                 NaN       NaN   \n",
       "6689     72924062         NaN          NaN                 NaN       NaN   \n",
       "6690     73795062         NaN          NaN                 NaN       NaN   \n",
       "6691     87748001         NaN          NaN                 NaN       NaN   \n",
       "\n",
       "      chieudaidaumong  tuoithainhi1  nguc_nhiptimthai1  mat_xuongmui  \\\n",
       "0                 NaN          15.0               76.0           1.0   \n",
       "1                 NaN          38.0              133.0           1.0   \n",
       "2                 NaN          41.0              151.0           1.0   \n",
       "3                 NaN          38.0              136.0           1.0   \n",
       "4                71.0          22.0               87.0           1.0   \n",
       "...               ...           ...                ...           ...   \n",
       "6687              NaN           NaN                NaN           1.0   \n",
       "6688              NaN           NaN                NaN           1.0   \n",
       "6689              NaN           NaN                NaN           1.0   \n",
       "6690              NaN           NaN                NaN           1.0   \n",
       "6691              NaN           NaN                NaN           1.0   \n",
       "\n",
       "      co_nangbachhuyetvungco  ...  t_mom_afp  t_mom_hcg  tuoithainhi2  \\\n",
       "0                        2.0  ...        NaN        NaN          37.0   \n",
       "1                        2.0  ...        NaN        NaN          38.0   \n",
       "2                        2.0  ...       1.72       0.64          41.0   \n",
       "3                        2.0  ...        NaN        NaN          38.0   \n",
       "4                        2.0  ...        NaN        NaN          29.0   \n",
       "...                      ...  ...        ...        ...           ...   \n",
       "6687                     2.0  ...       0.96       0.97         126.0   \n",
       "6688                     2.0  ...        NaN        NaN         156.0   \n",
       "6689                     2.0  ...       0.85       1.64         117.0   \n",
       "6690                     2.0  ...       0.77       2.11         161.0   \n",
       "6691                     2.0  ...        NaN        NaN         114.0   \n",
       "\n",
       "      nguc_nhiptimthai2  dau_naothatben  mat_xuongsongmui  \\\n",
       "0                 125.0             4.0               2.9   \n",
       "1                 133.0             4.0               5.1   \n",
       "2                 151.0             6.0               6.0   \n",
       "3                 136.0             6.0               5.0   \n",
       "4                 114.0             3.0               3.3   \n",
       "...                 ...             ...               ...   \n",
       "6687              142.0             4.0               4.0   \n",
       "6688              155.0             7.0               NaN   \n",
       "6689              157.0             3.0               4.0   \n",
       "6690              148.0             4.0               4.0   \n",
       "6691              142.0             3.0               4.0   \n",
       "\n",
       "      dau_duongkinhluongdinh2  bung_chuvivongbung2  chi_chieudaixuongdui2  \\\n",
       "0                       161.0                107.0                   14.0   \n",
       "1                       144.0                121.0                   22.0   \n",
       "2                       149.0                125.0                   24.0   \n",
       "3                       142.0                121.0                   26.0   \n",
       "4                       159.0                105.0                   18.0   \n",
       "...                       ...                  ...                    ...   \n",
       "6687                     34.0                110.0                   21.0   \n",
       "6688                     57.0                168.0                   37.0   \n",
       "6689                     36.0                116.0                   21.0   \n",
       "6690                     38.0                109.0                   22.0   \n",
       "6691                     32.0                109.0                   18.0   \n",
       "\n",
       "      dau_chuvidau2  \n",
       "0             119.0  \n",
       "1             120.0  \n",
       "2             126.0  \n",
       "3             121.0  \n",
       "4             108.0  \n",
       "...             ...  \n",
       "6687          124.0  \n",
       "6688          202.0  \n",
       "6689          132.0  \n",
       "6690          129.0  \n",
       "6691          130.0  \n",
       "\n",
       "[6692 rows x 29 columns]"
      ]
     },
     "execution_count": 1349,
     "metadata": {},
     "output_type": "execute_result"
    }
   ],
   "source": [
    "dff_k2 = dff_k2[dff_k1_1.columns]\n",
    "dff_k3 = dff_k3[dff_k1_1.columns]  \n",
    "\n",
    "dff_k = pd.concat([dff_k1_1, dff_k2, dff_k3]).drop_duplicates().reset_index().drop('index', axis= 1).rename(columns={'Mat_XuongMui':'mat_xuongmui'})\n",
    "\n",
    "dff_k"
   ]
  },
  {
   "cell_type": "code",
   "execution_count": 1350,
   "metadata": {},
   "outputs": [
    {
     "data": {
      "text/plain": [
       "benh21\n",
       "0.0    5714\n",
       "1.0     978\n",
       "Name: count, dtype: int64"
      ]
     },
     "execution_count": 1350,
     "metadata": {},
     "output_type": "execute_result"
    }
   ],
   "source": [
    "dff_k.benh21.value_counts()"
   ]
  },
  {
   "cell_type": "code",
   "execution_count": 1351,
   "metadata": {},
   "outputs": [],
   "source": [
    "col_num = ['tuoime', 'tuoithainhi1', 'co_khoangsangsaugay', 'nguc_nhiptimthai1','chieudaidaumong', 'dau_duongkinhluongdinh1',\n",
    "       'bung_chuvivongbung1', 'chi_chieudaixuongdui1', 'dau_chuvidau1',\n",
    "       'd_mom_hcgb', 'd_mom_pappa', 'd_mom_nt', 'd_khoangsangsaugay', \n",
    "       'tuoithainhi2', 'mat_xuongsongmui', 'nguc_nhiptimthai2',\n",
    "       'dau_duongkinhluongdinh2', 'bung_chuvivongbung2',\n",
    "       'chi_chieudaixuongdui2', 'dau_chuvidau2', 'dau_naothatben', 't_mom_ue3',\n",
    "       't_mom_afp', 't_mom_hcg']\n",
    "for i in dff_k.index:\n",
    "    for j in col_num : \n",
    "        if dff_k.loc[i, j] == 0:\n",
    "            dff_k.loc[i, j] = np.NaN\n",
    "\n",
    "for i in dff_k.index:\n",
    "    if dff_k.loc[i, 'mat_xuongmui'] == 0:\n",
    "        dff_k.loc[i, 'mat_xuongsongmui'] = 0"
   ]
  },
  {
   "cell_type": "code",
   "execution_count": 1352,
   "metadata": {},
   "outputs": [
    {
     "data": {
      "text/plain": [
       "Index(['thaiphuid', 'd_mom_hcgb', 'd_mom_pappa', 'd_khoangsangsaugay',\n",
       "       'd_mom_nt', 'chieudaidaumong', 'tuoithainhi1', 'nguc_nhiptimthai1',\n",
       "       'mat_xuongmui', 'co_nangbachhuyetvungco', 'co_khoangsangsaugay',\n",
       "       'dau_duongkinhluongdinh1', 'nguc_ditattim', 'bung_chuvivongbung1',\n",
       "       'chi_chieudaixuongdui1', 'benh21', 'tuoime', 'dau_chuvidau1',\n",
       "       't_mom_ue3', 't_mom_afp', 't_mom_hcg', 'tuoithainhi2',\n",
       "       'nguc_nhiptimthai2', 'dau_naothatben', 'mat_xuongsongmui',\n",
       "       'dau_duongkinhluongdinh2', 'bung_chuvivongbung2',\n",
       "       'chi_chieudaixuongdui2', 'dau_chuvidau2'],\n",
       "      dtype='object')"
      ]
     },
     "execution_count": 1352,
     "metadata": {},
     "output_type": "execute_result"
    }
   ],
   "source": [
    "dff_k.columns"
   ]
  },
  {
   "cell_type": "code",
   "execution_count": 1353,
   "metadata": {},
   "outputs": [],
   "source": [
    "dff_k.to_csv('./DataTrisomy21.csv')"
   ]
  }
 ],
 "metadata": {
  "kernelspec": {
   "display_name": "Python 3",
   "language": "python",
   "name": "python3"
  },
  "language_info": {
   "codemirror_mode": {
    "name": "ipython",
    "version": 3
   },
   "file_extension": ".py",
   "mimetype": "text/x-python",
   "name": "python",
   "nbconvert_exporter": "python",
   "pygments_lexer": "ipython3",
   "version": "3.11.5"
  }
 },
 "nbformat": 4,
 "nbformat_minor": 2
}
