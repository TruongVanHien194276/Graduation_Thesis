{
 "cells": [
  {
   "cell_type": "code",
   "execution_count": 1,
   "metadata": {},
   "outputs": [],
   "source": [
    "import pandas as pd\n",
    "import numpy as np\n",
    "import matplotlib.pyplot as plt\n",
    "\n",
    "import warnings\n",
    "warnings.filterwarnings('ignore')\n"
   ]
  },
  {
   "cell_type": "code",
   "execution_count": 2,
   "metadata": {},
   "outputs": [],
   "source": [
    "df = pd.read_csv('../create_dataframe/DataTrisomy21.csv')\n",
    "df.drop(['Unnamed: 0'], axis=1, inplace=True)"
   ]
  },
  {
   "cell_type": "code",
   "execution_count": 3,
   "metadata": {},
   "outputs": [
    {
     "data": {
      "text/plain": [
       "Index(['thaiphuid', 'd_mom_hcgb', 'd_mom_pappa', 'd_khoangsangsaugay',\n",
       "       'd_mom_nt', 'chieudaidaumong', 'tuoithainhi1', 'nguc_nhiptimthai1',\n",
       "       'mat_xuongmui', 'co_nangbachhuyetvungco', 'co_khoangsangsaugay',\n",
       "       'dau_duongkinhluongdinh1', 'nguc_ditattim', 'bung_chuvivongbung1',\n",
       "       'chi_chieudaixuongdui1', 'benh21', 'tuoime', 'dau_chuvidau1',\n",
       "       't_mom_ue3', 't_mom_afp', 't_mom_hcg', 'tuoithainhi2',\n",
       "       'nguc_nhiptimthai2', 'dau_naothatben', 'mat_xuongsongmui',\n",
       "       'dau_duongkinhluongdinh2', 'bung_chuvivongbung2',\n",
       "       'chi_chieudaixuongdui2', 'dau_chuvidau2'],\n",
       "      dtype='object')"
      ]
     },
     "execution_count": 3,
     "metadata": {},
     "output_type": "execute_result"
    }
   ],
   "source": [
    "df.columns"
   ]
  },
  {
   "cell_type": "code",
   "execution_count": 4,
   "metadata": {},
   "outputs": [
    {
     "name": "stdout",
     "output_type": "stream",
     "text": [
      ">thaiphuid miss 0 (0.000%)\n",
      ">d_mom_hcgb miss 3789 (56.620%)\n",
      ">d_mom_pappa miss 3824 (57.143%)\n",
      ">d_khoangsangsaugay miss 3982 (59.504%)\n",
      ">d_mom_nt miss 5036 (75.254%)\n",
      ">chieudaidaumong miss 4777 (71.384%)\n",
      ">tuoithainhi1 miss 3011 (44.994%)\n",
      ">nguc_nhiptimthai1 miss 2887 (43.141%)\n",
      ">mat_xuongmui miss 0 (0.000%)\n",
      ">co_nangbachhuyetvungco miss 0 (0.000%)\n",
      ">co_khoangsangsaugay miss 4707 (70.338%)\n",
      ">dau_duongkinhluongdinh1 miss 2785 (41.617%)\n",
      ">nguc_ditattim miss 0 (0.000%)\n",
      ">bung_chuvivongbung1 miss 2965 (44.307%)\n",
      ">chi_chieudaixuongdui1 miss 2836 (42.379%)\n",
      ">benh21 miss 0 (0.000%)\n",
      ">tuoime miss 44 (0.658%)\n",
      ">dau_chuvidau1 miss 4646 (69.426%)\n",
      ">t_mom_ue3 miss 4630 (69.187%)\n",
      ">t_mom_afp miss 4670 (69.785%)\n",
      ">t_mom_hcg miss 4653 (69.531%)\n",
      ">tuoithainhi2 miss 1856 (27.735%)\n",
      ">nguc_nhiptimthai2 miss 1738 (25.971%)\n",
      ">dau_naothatben miss 2450 (36.611%)\n",
      ">mat_xuongsongmui miss 2732 (40.825%)\n",
      ">dau_duongkinhluongdinh2 miss 1657 (24.761%)\n",
      ">bung_chuvivongbung2 miss 1773 (26.494%)\n",
      ">chi_chieudaixuongdui2 miss 1681 (25.120%)\n",
      ">dau_chuvidau2 miss 2014 (30.096%)\n"
     ]
    }
   ],
   "source": [
    "for i in df.columns:\n",
    "    miss= df[i].isnull().sum()\n",
    "    cout= miss/df.shape[0]*100\n",
    "    print(\">%s miss %d (%.3f%%)\"%(i,miss,cout))"
   ]
  },
  {
   "cell_type": "code",
   "execution_count": 5,
   "metadata": {},
   "outputs": [],
   "source": [
    "df.replace({'nguc_ditattim':{2:0}, 'co_nangbachhuyetvungco':{2:0}, 'mat_xuongmui':{2:0}}, inplace= True)"
   ]
  },
  {
   "cell_type": "code",
   "execution_count": 6,
   "metadata": {},
   "outputs": [
    {
     "name": "stdout",
     "output_type": "stream",
     "text": [
      "benh21\n",
      "0.0    5714\n",
      "1.0     978\n",
      "Name: count, dtype: int64\n",
      "nguc_ditattim\n",
      "0.0    6328\n",
      "1.0     364\n",
      "Name: count, dtype: int64\n",
      "co_nangbachhuyetvungco\n",
      "0.0    6647\n",
      "1.0      45\n",
      "Name: count, dtype: int64\n",
      "mat_xuongmui\n",
      "1.0    6675\n",
      "0.0      17\n",
      "Name: count, dtype: int64\n"
     ]
    }
   ],
   "source": [
    "print(df['benh21'].value_counts())\n",
    "print(df['nguc_ditattim'].value_counts())\n",
    "print(df['co_nangbachhuyetvungco'].value_counts())\n",
    "print(df['mat_xuongmui'].value_counts())"
   ]
  },
  {
   "cell_type": "code",
   "execution_count": 7,
   "metadata": {},
   "outputs": [],
   "source": [
    "col_num = ['tuoime', 'tuoithainhi1', 'co_khoangsangsaugay', 'nguc_nhiptimthai1','chieudaidaumong', 'dau_duongkinhluongdinh1',\n",
    "       'bung_chuvivongbung1', 'chi_chieudaixuongdui1', 'dau_chuvidau1',\n",
    "       'd_mom_hcgb', 'd_mom_pappa', 'd_mom_nt', 'd_khoangsangsaugay', \n",
    "       'tuoithainhi2', 'mat_xuongsongmui', 'nguc_nhiptimthai2',\n",
    "       'dau_duongkinhluongdinh2', 'bung_chuvivongbung2',\n",
    "       'chi_chieudaixuongdui2', 'dau_chuvidau2', 'dau_naothatben', 't_mom_ue3',\n",
    "       't_mom_afp', 't_mom_hcg']\n",
    "for i in df.index:\n",
    "    for j in col_num: \n",
    "        if df.loc[i, j] == 0:\n",
    "            df.loc[i, j] = np.NaN\n",
    "\n",
    "for i in df.index:\n",
    "    if df.loc[i, 'mat_xuongmui'] == 0:\n",
    "        df.loc[i, 'mat_xuongsongmui']= 0"
   ]
  },
  {
   "cell_type": "code",
   "execution_count": 8,
   "metadata": {},
   "outputs": [],
   "source": [
    "for i in df.index:\n",
    "    if np.isnan(df.loc[i, 'co_khoangsangsaugay']) and not np.isnan(df.loc[i, 'd_khoangsangsaugay']):\n",
    "        df.loc[i, 'co_khoangsangsaugay'] = df.loc[i, 'd_khoangsangsaugay']"
   ]
  },
  {
   "cell_type": "code",
   "execution_count": 9,
   "metadata": {},
   "outputs": [],
   "source": [
    "imp_col1 = ['d_mom_hcgb', 'd_mom_pappa', 'd_mom_nt', 'co_khoangsangsaugay'] # double\n",
    "imp_col2 = ['t_mom_ue3', 't_mom_afp', 't_mom_hcg', 'mat_xuongsongmui'] # triple\n",
    "for i in df.index:\n",
    "    cnt1 = 0\n",
    "    for j in imp_col1:\n",
    "        if np.isnan(df.loc[i, j]) == False:\n",
    "            cnt1 += 1\n",
    "    cnt2 = 0\n",
    "    for j in imp_col2:\n",
    "        if np.isnan(df.loc[i, j]) == False:\n",
    "            cnt2 += 1\n",
    "    df.loc[i, 'double'] = cnt1\n",
    "    df.loc[i, 'triple'] = cnt2"
   ]
  },
  {
   "cell_type": "code",
   "execution_count": 10,
   "metadata": {},
   "outputs": [
    {
     "data": {
      "text/plain": [
       "Index(['thaiphuid', 'd_mom_hcgb', 'd_mom_pappa', 'd_khoangsangsaugay',\n",
       "       'd_mom_nt', 'chieudaidaumong', 'tuoithainhi1', 'nguc_nhiptimthai1',\n",
       "       'mat_xuongmui', 'co_nangbachhuyetvungco', 'co_khoangsangsaugay',\n",
       "       'dau_duongkinhluongdinh1', 'nguc_ditattim', 'bung_chuvivongbung1',\n",
       "       'chi_chieudaixuongdui1', 'benh21', 'tuoime', 'dau_chuvidau1',\n",
       "       't_mom_ue3', 't_mom_afp', 't_mom_hcg', 'tuoithainhi2',\n",
       "       'nguc_nhiptimthai2', 'dau_naothatben', 'mat_xuongsongmui',\n",
       "       'dau_duongkinhluongdinh2', 'bung_chuvivongbung2',\n",
       "       'chi_chieudaixuongdui2', 'dau_chuvidau2', 'double', 'triple'],\n",
       "      dtype='object')"
      ]
     },
     "execution_count": 10,
     "metadata": {},
     "output_type": "execute_result"
    }
   ],
   "source": [
    "df.columns"
   ]
  },
  {
   "cell_type": "code",
   "execution_count": 11,
   "metadata": {},
   "outputs": [],
   "source": [
    "df.rename(columns={'nguc_nhiptimthai2': 'nguc_nhiptimthai', 'dau_duongkinhluongdinh2': 'dau_duongkinhluongdinh', 'bung_chuvivongbung2': 'bung_chuvivongbung', 'chi_chieudaixuongdui2': 'chi_chieudaixuongdui', 'dau_chuvidau2': 'dau_chuvidau'})\n",
    "df.drop(['nguc_nhiptimthai1', 'dau_duongkinhluongdinh1', 'bung_chuvivongbung1', 'chi_chieudaixuongdui1', 'dau_chuvidau1',], axis=1, inplace=True)\n",
    "df.dropna(how='any').columns\n",
    "df['cahai']= df['double'] + df['triple']"
   ]
  },
  {
   "cell_type": "code",
   "execution_count": 12,
   "metadata": {},
   "outputs": [
    {
     "data": {
      "text/html": [
       "<div>\n",
       "<style scoped>\n",
       "    .dataframe tbody tr th:only-of-type {\n",
       "        vertical-align: middle;\n",
       "    }\n",
       "\n",
       "    .dataframe tbody tr th {\n",
       "        vertical-align: top;\n",
       "    }\n",
       "\n",
       "    .dataframe thead th {\n",
       "        text-align: right;\n",
       "    }\n",
       "</style>\n",
       "<table border=\"1\" class=\"dataframe\">\n",
       "  <thead>\n",
       "    <tr style=\"text-align: right;\">\n",
       "      <th></th>\n",
       "      <th>thaiphuid</th>\n",
       "      <th>d_mom_hcgb</th>\n",
       "      <th>d_mom_pappa</th>\n",
       "      <th>d_khoangsangsaugay</th>\n",
       "      <th>d_mom_nt</th>\n",
       "      <th>chieudaidaumong</th>\n",
       "      <th>tuoithainhi1</th>\n",
       "      <th>mat_xuongmui</th>\n",
       "      <th>co_nangbachhuyetvungco</th>\n",
       "      <th>co_khoangsangsaugay</th>\n",
       "      <th>...</th>\n",
       "      <th>nguc_nhiptimthai2</th>\n",
       "      <th>dau_naothatben</th>\n",
       "      <th>mat_xuongsongmui</th>\n",
       "      <th>dau_duongkinhluongdinh2</th>\n",
       "      <th>bung_chuvivongbung2</th>\n",
       "      <th>chi_chieudaixuongdui2</th>\n",
       "      <th>dau_chuvidau2</th>\n",
       "      <th>double</th>\n",
       "      <th>triple</th>\n",
       "      <th>cahai</th>\n",
       "    </tr>\n",
       "  </thead>\n",
       "  <tbody>\n",
       "    <tr>\n",
       "      <th>19</th>\n",
       "      <td>0004696045</td>\n",
       "      <td>1.344</td>\n",
       "      <td>0.266</td>\n",
       "      <td>2.8</td>\n",
       "      <td>NaN</td>\n",
       "      <td>NaN</td>\n",
       "      <td>35.0</td>\n",
       "      <td>1.0</td>\n",
       "      <td>0.0</td>\n",
       "      <td>2.8</td>\n",
       "      <td>...</td>\n",
       "      <td>126.0</td>\n",
       "      <td>10.0</td>\n",
       "      <td>5.0</td>\n",
       "      <td>154.0</td>\n",
       "      <td>105.0</td>\n",
       "      <td>19.0</td>\n",
       "      <td>114.0</td>\n",
       "      <td>3.0</td>\n",
       "      <td>4.0</td>\n",
       "      <td>7.0</td>\n",
       "    </tr>\n",
       "    <tr>\n",
       "      <th>35</th>\n",
       "      <td>0007362081</td>\n",
       "      <td>3.110</td>\n",
       "      <td>0.550</td>\n",
       "      <td>2.5</td>\n",
       "      <td>1.52</td>\n",
       "      <td>NaN</td>\n",
       "      <td>31.0</td>\n",
       "      <td>1.0</td>\n",
       "      <td>0.0</td>\n",
       "      <td>2.5</td>\n",
       "      <td>...</td>\n",
       "      <td>112.0</td>\n",
       "      <td>NaN</td>\n",
       "      <td>3.0</td>\n",
       "      <td>150.0</td>\n",
       "      <td>92.0</td>\n",
       "      <td>17.0</td>\n",
       "      <td>108.0</td>\n",
       "      <td>4.0</td>\n",
       "      <td>1.0</td>\n",
       "      <td>5.0</td>\n",
       "    </tr>\n",
       "    <tr>\n",
       "      <th>41</th>\n",
       "      <td>0008752045</td>\n",
       "      <td>NaN</td>\n",
       "      <td>NaN</td>\n",
       "      <td>NaN</td>\n",
       "      <td>NaN</td>\n",
       "      <td>63.0</td>\n",
       "      <td>21.0</td>\n",
       "      <td>1.0</td>\n",
       "      <td>0.0</td>\n",
       "      <td>2.8</td>\n",
       "      <td>...</td>\n",
       "      <td>140.0</td>\n",
       "      <td>4.0</td>\n",
       "      <td>6.0</td>\n",
       "      <td>155.0</td>\n",
       "      <td>113.0</td>\n",
       "      <td>24.0</td>\n",
       "      <td>124.0</td>\n",
       "      <td>1.0</td>\n",
       "      <td>4.0</td>\n",
       "      <td>5.0</td>\n",
       "    </tr>\n",
       "    <tr>\n",
       "      <th>51</th>\n",
       "      <td>0011039045</td>\n",
       "      <td>2.270</td>\n",
       "      <td>0.580</td>\n",
       "      <td>2.1</td>\n",
       "      <td>1.58</td>\n",
       "      <td>NaN</td>\n",
       "      <td>36.0</td>\n",
       "      <td>1.0</td>\n",
       "      <td>0.0</td>\n",
       "      <td>2.1</td>\n",
       "      <td>...</td>\n",
       "      <td>121.0</td>\n",
       "      <td>6.0</td>\n",
       "      <td>3.0</td>\n",
       "      <td>150.0</td>\n",
       "      <td>112.0</td>\n",
       "      <td>17.0</td>\n",
       "      <td>115.0</td>\n",
       "      <td>4.0</td>\n",
       "      <td>1.0</td>\n",
       "      <td>5.0</td>\n",
       "    </tr>\n",
       "    <tr>\n",
       "      <th>62</th>\n",
       "      <td>0012373203</td>\n",
       "      <td>1.960</td>\n",
       "      <td>0.730</td>\n",
       "      <td>1.7</td>\n",
       "      <td>0.97</td>\n",
       "      <td>NaN</td>\n",
       "      <td>40.0</td>\n",
       "      <td>1.0</td>\n",
       "      <td>0.0</td>\n",
       "      <td>1.7</td>\n",
       "      <td>...</td>\n",
       "      <td>143.0</td>\n",
       "      <td>6.0</td>\n",
       "      <td>4.0</td>\n",
       "      <td>139.0</td>\n",
       "      <td>127.0</td>\n",
       "      <td>24.0</td>\n",
       "      <td>124.0</td>\n",
       "      <td>4.0</td>\n",
       "      <td>1.0</td>\n",
       "      <td>5.0</td>\n",
       "    </tr>\n",
       "    <tr>\n",
       "      <th>...</th>\n",
       "      <td>...</td>\n",
       "      <td>...</td>\n",
       "      <td>...</td>\n",
       "      <td>...</td>\n",
       "      <td>...</td>\n",
       "      <td>...</td>\n",
       "      <td>...</td>\n",
       "      <td>...</td>\n",
       "      <td>...</td>\n",
       "      <td>...</td>\n",
       "      <td>...</td>\n",
       "      <td>...</td>\n",
       "      <td>...</td>\n",
       "      <td>...</td>\n",
       "      <td>...</td>\n",
       "      <td>...</td>\n",
       "      <td>...</td>\n",
       "      <td>...</td>\n",
       "      <td>...</td>\n",
       "      <td>...</td>\n",
       "      <td>...</td>\n",
       "    </tr>\n",
       "    <tr>\n",
       "      <th>6197</th>\n",
       "      <td>2000137828</td>\n",
       "      <td>NaN</td>\n",
       "      <td>NaN</td>\n",
       "      <td>NaN</td>\n",
       "      <td>NaN</td>\n",
       "      <td>NaN</td>\n",
       "      <td>NaN</td>\n",
       "      <td>1.0</td>\n",
       "      <td>0.0</td>\n",
       "      <td>NaN</td>\n",
       "      <td>...</td>\n",
       "      <td>149.0</td>\n",
       "      <td>11.0</td>\n",
       "      <td>5.5</td>\n",
       "      <td>46.0</td>\n",
       "      <td>130.0</td>\n",
       "      <td>23.0</td>\n",
       "      <td>162.0</td>\n",
       "      <td>0.0</td>\n",
       "      <td>4.0</td>\n",
       "      <td>4.0</td>\n",
       "    </tr>\n",
       "    <tr>\n",
       "      <th>6305</th>\n",
       "      <td>21000187196</td>\n",
       "      <td>NaN</td>\n",
       "      <td>NaN</td>\n",
       "      <td>NaN</td>\n",
       "      <td>NaN</td>\n",
       "      <td>NaN</td>\n",
       "      <td>NaN</td>\n",
       "      <td>1.0</td>\n",
       "      <td>0.0</td>\n",
       "      <td>NaN</td>\n",
       "      <td>...</td>\n",
       "      <td>152.0</td>\n",
       "      <td>6.0</td>\n",
       "      <td>4.8</td>\n",
       "      <td>36.0</td>\n",
       "      <td>109.0</td>\n",
       "      <td>19.0</td>\n",
       "      <td>NaN</td>\n",
       "      <td>0.0</td>\n",
       "      <td>4.0</td>\n",
       "      <td>4.0</td>\n",
       "    </tr>\n",
       "    <tr>\n",
       "      <th>6327</th>\n",
       "      <td>2100033216</td>\n",
       "      <td>NaN</td>\n",
       "      <td>NaN</td>\n",
       "      <td>NaN</td>\n",
       "      <td>NaN</td>\n",
       "      <td>NaN</td>\n",
       "      <td>NaN</td>\n",
       "      <td>1.0</td>\n",
       "      <td>1.0</td>\n",
       "      <td>NaN</td>\n",
       "      <td>...</td>\n",
       "      <td>140.0</td>\n",
       "      <td>3.0</td>\n",
       "      <td>2.8</td>\n",
       "      <td>46.0</td>\n",
       "      <td>157.0</td>\n",
       "      <td>34.0</td>\n",
       "      <td>166.0</td>\n",
       "      <td>0.0</td>\n",
       "      <td>4.0</td>\n",
       "      <td>4.0</td>\n",
       "    </tr>\n",
       "    <tr>\n",
       "      <th>6328</th>\n",
       "      <td>2100033216</td>\n",
       "      <td>NaN</td>\n",
       "      <td>NaN</td>\n",
       "      <td>NaN</td>\n",
       "      <td>NaN</td>\n",
       "      <td>NaN</td>\n",
       "      <td>NaN</td>\n",
       "      <td>1.0</td>\n",
       "      <td>1.0</td>\n",
       "      <td>NaN</td>\n",
       "      <td>...</td>\n",
       "      <td>145.0</td>\n",
       "      <td>3.0</td>\n",
       "      <td>5.5</td>\n",
       "      <td>51.0</td>\n",
       "      <td>174.0</td>\n",
       "      <td>32.0</td>\n",
       "      <td>186.0</td>\n",
       "      <td>0.0</td>\n",
       "      <td>4.0</td>\n",
       "      <td>4.0</td>\n",
       "    </tr>\n",
       "    <tr>\n",
       "      <th>6468</th>\n",
       "      <td>2100082353</td>\n",
       "      <td>NaN</td>\n",
       "      <td>NaN</td>\n",
       "      <td>NaN</td>\n",
       "      <td>NaN</td>\n",
       "      <td>NaN</td>\n",
       "      <td>NaN</td>\n",
       "      <td>1.0</td>\n",
       "      <td>0.0</td>\n",
       "      <td>NaN</td>\n",
       "      <td>...</td>\n",
       "      <td>154.0</td>\n",
       "      <td>11.0</td>\n",
       "      <td>4.7</td>\n",
       "      <td>45.0</td>\n",
       "      <td>NaN</td>\n",
       "      <td>24.0</td>\n",
       "      <td>161.0</td>\n",
       "      <td>0.0</td>\n",
       "      <td>4.0</td>\n",
       "      <td>4.0</td>\n",
       "    </tr>\n",
       "  </tbody>\n",
       "</table>\n",
       "<p>299 rows × 27 columns</p>\n",
       "</div>"
      ],
      "text/plain": [
       "        thaiphuid  d_mom_hcgb  d_mom_pappa  d_khoangsangsaugay  d_mom_nt  \\\n",
       "19     0004696045       1.344        0.266                 2.8       NaN   \n",
       "35     0007362081       3.110        0.550                 2.5      1.52   \n",
       "41     0008752045         NaN          NaN                 NaN       NaN   \n",
       "51     0011039045       2.270        0.580                 2.1      1.58   \n",
       "62     0012373203       1.960        0.730                 1.7      0.97   \n",
       "...           ...         ...          ...                 ...       ...   \n",
       "6197   2000137828         NaN          NaN                 NaN       NaN   \n",
       "6305  21000187196         NaN          NaN                 NaN       NaN   \n",
       "6327   2100033216         NaN          NaN                 NaN       NaN   \n",
       "6328   2100033216         NaN          NaN                 NaN       NaN   \n",
       "6468   2100082353         NaN          NaN                 NaN       NaN   \n",
       "\n",
       "      chieudaidaumong  tuoithainhi1  mat_xuongmui  co_nangbachhuyetvungco  \\\n",
       "19                NaN          35.0           1.0                     0.0   \n",
       "35                NaN          31.0           1.0                     0.0   \n",
       "41               63.0          21.0           1.0                     0.0   \n",
       "51                NaN          36.0           1.0                     0.0   \n",
       "62                NaN          40.0           1.0                     0.0   \n",
       "...               ...           ...           ...                     ...   \n",
       "6197              NaN           NaN           1.0                     0.0   \n",
       "6305              NaN           NaN           1.0                     0.0   \n",
       "6327              NaN           NaN           1.0                     1.0   \n",
       "6328              NaN           NaN           1.0                     1.0   \n",
       "6468              NaN           NaN           1.0                     0.0   \n",
       "\n",
       "      co_khoangsangsaugay  ...  nguc_nhiptimthai2  dau_naothatben  \\\n",
       "19                    2.8  ...              126.0            10.0   \n",
       "35                    2.5  ...              112.0             NaN   \n",
       "41                    2.8  ...              140.0             4.0   \n",
       "51                    2.1  ...              121.0             6.0   \n",
       "62                    1.7  ...              143.0             6.0   \n",
       "...                   ...  ...                ...             ...   \n",
       "6197                  NaN  ...              149.0            11.0   \n",
       "6305                  NaN  ...              152.0             6.0   \n",
       "6327                  NaN  ...              140.0             3.0   \n",
       "6328                  NaN  ...              145.0             3.0   \n",
       "6468                  NaN  ...              154.0            11.0   \n",
       "\n",
       "      mat_xuongsongmui  dau_duongkinhluongdinh2  bung_chuvivongbung2  \\\n",
       "19                 5.0                    154.0                105.0   \n",
       "35                 3.0                    150.0                 92.0   \n",
       "41                 6.0                    155.0                113.0   \n",
       "51                 3.0                    150.0                112.0   \n",
       "62                 4.0                    139.0                127.0   \n",
       "...                ...                      ...                  ...   \n",
       "6197               5.5                     46.0                130.0   \n",
       "6305               4.8                     36.0                109.0   \n",
       "6327               2.8                     46.0                157.0   \n",
       "6328               5.5                     51.0                174.0   \n",
       "6468               4.7                     45.0                  NaN   \n",
       "\n",
       "      chi_chieudaixuongdui2  dau_chuvidau2  double  triple  cahai  \n",
       "19                     19.0          114.0     3.0     4.0    7.0  \n",
       "35                     17.0          108.0     4.0     1.0    5.0  \n",
       "41                     24.0          124.0     1.0     4.0    5.0  \n",
       "51                     17.0          115.0     4.0     1.0    5.0  \n",
       "62                     24.0          124.0     4.0     1.0    5.0  \n",
       "...                     ...            ...     ...     ...    ...  \n",
       "6197                   23.0          162.0     0.0     4.0    4.0  \n",
       "6305                   19.0            NaN     0.0     4.0    4.0  \n",
       "6327                   34.0          166.0     0.0     4.0    4.0  \n",
       "6328                   32.0          186.0     0.0     4.0    4.0  \n",
       "6468                   24.0          161.0     0.0     4.0    4.0  \n",
       "\n",
       "[299 rows x 27 columns]"
      ]
     },
     "execution_count": 12,
     "metadata": {},
     "output_type": "execute_result"
    }
   ],
   "source": [
    "t = df[(df['cahai']==8)|(df['triple']==4)|(df['double']==4)] \n",
    "t[t['benh21']==1]"
   ]
  },
  {
   "cell_type": "code",
   "execution_count": 13,
   "metadata": {},
   "outputs": [
    {
     "data": {
      "text/plain": [
       "benh21\n",
       "0.0    2608\n",
       "1.0     299\n",
       "Name: count, dtype: int64"
      ]
     },
     "execution_count": 13,
     "metadata": {},
     "output_type": "execute_result"
    }
   ],
   "source": [
    "t['benh21'].value_counts()"
   ]
  },
  {
   "cell_type": "code",
   "execution_count": 14,
   "metadata": {},
   "outputs": [
    {
     "data": {
      "text/plain": [
       "benh21\n",
       "0.0    123\n",
       "1.0      4\n",
       "Name: count, dtype: int64"
      ]
     },
     "execution_count": 14,
     "metadata": {},
     "output_type": "execute_result"
    }
   ],
   "source": [
    "t[t['cahai']==8][['d_mom_hcgb', 'd_mom_pappa', 'd_mom_nt', 't_mom_ue3', 't_mom_afp', 't_mom_hcg', 'benh21' ]]['benh21'].value_counts()"
   ]
  },
  {
   "cell_type": "code",
   "execution_count": 15,
   "metadata": {},
   "outputs": [
    {
     "data": {
      "text/plain": [
       "benh21\n",
       "0.0    2608\n",
       "1.0     303\n",
       "Name: count, dtype: int64"
      ]
     },
     "execution_count": 15,
     "metadata": {},
     "output_type": "execute_result"
    }
   ],
   "source": [
    "df_test = pd.concat([t[t['benh21']==1], t[(t['benh21']==0)&~(t['cahai']==8)].sample(2608-123), t[t['cahai']==8]])\n",
    "df_test = df_test.drop(['double', 'triple', 'cahai', 'thaiphuid', 'nguc_ditattim', 'mat_xuongmui', 'co_nangbachhuyetvungco'], axis=1)\n",
    "df_test['benh21'].value_counts()"
   ]
  },
  {
   "cell_type": "code",
   "execution_count": 16,
   "metadata": {},
   "outputs": [
    {
     "data": {
      "text/plain": [
       "benh21\n",
       "0.0    3106\n",
       "1.0     679\n",
       "Name: count, dtype: int64"
      ]
     },
     "execution_count": 16,
     "metadata": {},
     "output_type": "execute_result"
    }
   ],
   "source": [
    "df_train = df.drop(df_test.index).drop(['double', 'triple', 'cahai', 'thaiphuid', 'nguc_ditattim', 'mat_xuongmui', 'co_nangbachhuyetvungco'], axis=1)\n",
    "df_train['benh21'].value_counts()"
   ]
  },
  {
   "cell_type": "code",
   "execution_count": 17,
   "metadata": {},
   "outputs": [],
   "source": [
    "df_train.rename(columns={'nguc_nhiptimthai2': 'nguc_nhiptimthai',\n",
    "       'dau_duongkinhluongdinh2': 'dau_duongkinhluongdinh', 'bung_chuvivongbung2': 'bung_chuvivongbung',\n",
    "       'chi_chieudaixuongdui2': 'chi_chieudaixuongdui', 'dau_chuvidau2': 'dau_chuvidau'}, inplace=True)\n",
    "df_test.rename(columns={'nguc_nhiptimthai2': 'nguc_nhiptimthai',\n",
    "       'dau_duongkinhluongdinh2': 'dau_duongkinhluongdinh', 'bung_chuvivongbung2': 'bung_chuvivongbung',\n",
    "       'chi_chieudaixuongdui2': 'chi_chieudaixuongdui', 'dau_chuvidau2': 'dau_chuvidau'}, inplace=True)"
   ]
  },
  {
   "cell_type": "code",
   "execution_count": 18,
   "metadata": {},
   "outputs": [
    {
     "data": {
      "text/plain": [
       "thaiphuid                   0.000000\n",
       "d_mom_hcgb                 56.619845\n",
       "d_mom_pappa                57.142857\n",
       "d_khoangsangsaugay         59.503885\n",
       "d_mom_nt                   75.254035\n",
       "chieudaidaumong            71.383742\n",
       "tuoithainhi1               44.994023\n",
       "mat_xuongmui                0.000000\n",
       "co_nangbachhuyetvungco      0.000000\n",
       "co_khoangsangsaugay        41.811118\n",
       "nguc_ditattim               0.000000\n",
       "benh21                      0.000000\n",
       "tuoime                      0.657501\n",
       "t_mom_ue3                  69.187089\n",
       "t_mom_afp                  69.784818\n",
       "t_mom_hcg                  69.530783\n",
       "tuoithainhi2               27.734608\n",
       "nguc_nhiptimthai2          25.971309\n",
       "dau_naothatben             36.610879\n",
       "mat_xuongsongmui           40.570831\n",
       "dau_duongkinhluongdinh2    24.760909\n",
       "bung_chuvivongbung2        26.494322\n",
       "chi_chieudaixuongdui2      25.119546\n",
       "dau_chuvidau2              30.095637\n",
       "double                      0.000000\n",
       "triple                      0.000000\n",
       "cahai                       0.000000\n",
       "dtype: float64"
      ]
     },
     "execution_count": 18,
     "metadata": {},
     "output_type": "execute_result"
    }
   ],
   "source": [
    "df.isnull().sum()/df.shape[0] * 100"
   ]
  },
  {
   "cell_type": "code",
   "execution_count": 19,
   "metadata": {},
   "outputs": [],
   "source": [
    "df_train.drop(['d_mom_nt'], axis=1, inplace=True)\n",
    "df_test.drop(['d_mom_nt'], axis=1, inplace=True)"
   ]
  },
  {
   "cell_type": "code",
   "execution_count": 20,
   "metadata": {},
   "outputs": [],
   "source": [
    "df_train.to_csv('./train21.csv')\n",
    "df_test.to_csv('./test21.csv')"
   ]
  },
  {
   "cell_type": "markdown",
   "metadata": {},
   "source": [
    "## EDA dataframe"
   ]
  },
  {
   "cell_type": "code",
   "execution_count": 21,
   "metadata": {},
   "outputs": [
    {
     "name": "stdout",
     "output_type": "stream",
     "text": [
      "<class 'pandas.core.frame.DataFrame'>\n",
      "RangeIndex: 6696 entries, 0 to 6695\n",
      "Data columns (total 19 columns):\n",
      " #   Column                  Non-Null Count  Dtype  \n",
      "---  ------                  --------------  -----  \n",
      " 0   d_mom_hcgb              2907 non-null   float64\n",
      " 1   d_mom_pappa             2872 non-null   float64\n",
      " 2   d_khoangsangsaugay      2714 non-null   float64\n",
      " 3   chieudaidaumong         1915 non-null   float64\n",
      " 4   tuoithainhi1            3685 non-null   float64\n",
      " 5   co_khoangsangsaugay     3898 non-null   float64\n",
      " 6   benh21                  6696 non-null   float64\n",
      " 7   tuoime                  6652 non-null   float64\n",
      " 8   t_mom_ue3               2066 non-null   float64\n",
      " 9   t_mom_afp               2026 non-null   float64\n",
      " 10  t_mom_hcg               2043 non-null   float64\n",
      " 11  tuoithainhi2            4840 non-null   float64\n",
      " 12  nguc_nhiptimthai        4958 non-null   float64\n",
      " 13  dau_naothatben          4246 non-null   float64\n",
      " 14  mat_xuongsongmui        3981 non-null   float64\n",
      " 15  dau_duongkinhluongdinh  5039 non-null   float64\n",
      " 16  bung_chuvivongbung      4923 non-null   float64\n",
      " 17  chi_chieudaixuongdui    5015 non-null   float64\n",
      " 18  dau_chuvidau            4682 non-null   float64\n",
      "dtypes: float64(19)\n",
      "memory usage: 994.1 KB\n"
     ]
    }
   ],
   "source": [
    "df_combined = pd.concat([df_train, df_test], axis=0, ignore_index=True)\n",
    "df_combined.info()"
   ]
  },
  {
   "cell_type": "code",
   "execution_count": 22,
   "metadata": {},
   "outputs": [
    {
     "data": {
      "text/plain": [
       "Text(0.5, 1.0, 'Distribution of Target Label')"
      ]
     },
     "execution_count": 22,
     "metadata": {},
     "output_type": "execute_result"
    },
    {
     "data": {
      "image/png": "[encoded data removed]",
      "text/plain": [
       "<Figure size 500x500 with 1 Axes>"
      ]
     },
     "metadata": {},
     "output_type": "display_data"
    }
   ],
   "source": [
    "plt.figure(figsize=(5,5))\n",
    "\n",
    "def auto_fmt(value):\n",
    "    return '{:.0f}\\n({:.2f}%)'.format(df_combined['benh21'].value_counts().sum()*value/100,value)\n",
    "\n",
    "count_label = df_combined['benh21'].value_counts().rename_axis('benh21').reset_index(name='Counts')\n",
    "\n",
    "fig = plt.gcf()\n",
    "plt.pie(x=count_label['Counts'], labels=count_label['benh21'], autopct=auto_fmt, textprops={'fontsize': 12})\n",
    "plt.title('Distribution of Target Label',  fontsize = 14)"
   ]
  },
  {
   "cell_type": "code",
   "execution_count": 23,
   "metadata": {},
   "outputs": [
    {
     "name": "stdout",
     "output_type": "stream",
     "text": [
      ">d_mom_hcgb miss 3789 (56.59%)\n",
      ">d_mom_pappa miss 3824 (57.11%)\n",
      ">d_khoangsangsaugay miss 3982 (59.47%)\n",
      ">chieudaidaumong miss 4781 (71.40%)\n",
      ">tuoithainhi1 miss 3011 (44.97%)\n",
      ">co_khoangsangsaugay miss 2798 (41.79%)\n",
      ">benh21 miss 0 (0.00%)\n",
      ">tuoime miss 44 (0.66%)\n",
      ">t_mom_ue3 miss 4630 (69.15%)\n",
      ">t_mom_afp miss 4670 (69.74%)\n",
      ">t_mom_hcg miss 4653 (69.49%)\n",
      ">tuoithainhi2 miss 1856 (27.72%)\n",
      ">nguc_nhiptimthai miss 1738 (25.96%)\n",
      ">dau_naothatben miss 2450 (36.59%)\n",
      ">mat_xuongsongmui miss 2715 (40.55%)\n",
      ">dau_duongkinhluongdinh miss 1657 (24.75%)\n",
      ">bung_chuvivongbung miss 1773 (26.48%)\n",
      ">chi_chieudaixuongdui miss 1681 (25.10%)\n",
      ">dau_chuvidau miss 2014 (30.08%)\n"
     ]
    }
   ],
   "source": [
    "for i in df_combined.columns:\n",
    "    miss= df_combined[i].isnull().sum()\n",
    "    cout= miss/df_combined.shape[0]*100\n",
    "    print(\">%s miss %d (%.2f%%)\"%(i,miss,cout))"
   ]
  },
  {
   "cell_type": "code",
   "execution_count": 24,
   "metadata": {},
   "outputs": [
    {
     "data": {
      "text/plain": [
       "<Figure size 1000x600 with 0 Axes>"
      ]
     },
     "metadata": {},
     "output_type": "display_data"
    },
    {
     "data": {
      "image/png": "[encoded data removed]",
      "text/plain": [
       "<Figure size 640x480 with 1 Axes>"
      ]
     },
     "metadata": {},
     "output_type": "display_data"
    }
   ],
   "source": [
    "plt.figure(figsize=(10, 6))\n",
    "\n",
    "df_miss = df_combined.isna().sum()\n",
    "df_miss = df_miss.reset_index()\n",
    "df_miss.columns = ['feature', 'missing_count']\n",
    "df_miss = df_miss.loc[df_miss['missing_count'] > 0]\n",
    "\n",
    "df_miss.plot.bar(x='feature', y='missing_count')\n",
    "\n",
    "plt.title('Missing Values Count', fontsize=16)\n",
    "plt.xlabel('Columns', fontsize=14)\n",
    "plt.ylabel('Count', fontsize=14)\n",
    "plt.tick_params(axis='x', which='major', labelsize=14)\n",
    "plt.tick_params(axis='y', which='major', labelsize=14)\n",
    "plt.show()"
   ]
  },
  {
   "cell_type": "code",
   "execution_count": null,
   "metadata": {},
   "outputs": [],
   "source": [
    "df_combined.to_csv('./combined21.csv')"
   ]
  }
 ],
 "metadata": {
  "kernelspec": {
   "display_name": "Python 3",
   "language": "python",
   "name": "python3"
  },
  "language_info": {
   "codemirror_mode": {
    "name": "ipython",
    "version": 3
   },
   "file_extension": ".py",
   "mimetype": "text/x-python",
   "name": "python",
   "nbconvert_exporter": "python",
   "pygments_lexer": "ipython3",
   "version": "3.11.5"
  }
 },
 "nbformat": 4,
 "nbformat_minor": 2
}
